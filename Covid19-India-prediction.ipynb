{
 "cells": [
  {
   "cell_type": "markdown",
   "metadata": {},
   "source": [
    "## Covid Trend Analysis"
   ]
  },
  {
   "cell_type": "markdown",
   "metadata": {},
   "source": [
    "### Importing Essential Libraries"
   ]
  },
  {
   "cell_type": "code",
   "execution_count": 66,
   "metadata": {
    "_cell_guid": "b1076dfc-b9ad-4769-8c92-a6c4dae69d19",
    "_uuid": "8f2839f25d086af736a60e9eeb907d3b93b6e0e5"
   },
   "outputs": [],
   "source": [
    "import numpy as np\n",
    "import pandas as pd\n",
    "import os\n",
    "\n",
    "%matplotlib inline \n",
    "\n",
    "import matplotlib\n",
    "import matplotlib.pyplot as plt \n",
    "import seaborn as sns\n",
    "import warnings\n",
    "warnings.filterwarnings('ignore')\n",
    "\n",
    "import requests\n",
    "import io\n"
   ]
  },
  {
   "cell_type": "code",
   "execution_count": 4,
   "metadata": {},
   "outputs": [
    {
     "data": {
      "text/html": [
       "<div>\n",
       "<style scoped>\n",
       "    .dataframe tbody tr th:only-of-type {\n",
       "        vertical-align: middle;\n",
       "    }\n",
       "\n",
       "    .dataframe tbody tr th {\n",
       "        vertical-align: top;\n",
       "    }\n",
       "\n",
       "    .dataframe thead th {\n",
       "        text-align: right;\n",
       "    }\n",
       "</style>\n",
       "<table border=\"1\" class=\"dataframe\">\n",
       "  <thead>\n",
       "    <tr style=\"text-align: right;\">\n",
       "      <th></th>\n",
       "      <th>SNo</th>\n",
       "      <th>ObservationDate</th>\n",
       "      <th>Province/State</th>\n",
       "      <th>Country/Region</th>\n",
       "      <th>Last Update</th>\n",
       "      <th>Confirmed</th>\n",
       "      <th>Deaths</th>\n",
       "      <th>Recovered</th>\n",
       "    </tr>\n",
       "  </thead>\n",
       "  <tbody>\n",
       "    <tr>\n",
       "      <th>0</th>\n",
       "      <td>1</td>\n",
       "      <td>01/22/2020</td>\n",
       "      <td>Anhui</td>\n",
       "      <td>Mainland China</td>\n",
       "      <td>1/22/2020 17:00</td>\n",
       "      <td>1.0</td>\n",
       "      <td>0.0</td>\n",
       "      <td>0.0</td>\n",
       "    </tr>\n",
       "    <tr>\n",
       "      <th>1</th>\n",
       "      <td>2</td>\n",
       "      <td>01/22/2020</td>\n",
       "      <td>Beijing</td>\n",
       "      <td>Mainland China</td>\n",
       "      <td>1/22/2020 17:00</td>\n",
       "      <td>14.0</td>\n",
       "      <td>0.0</td>\n",
       "      <td>0.0</td>\n",
       "    </tr>\n",
       "    <tr>\n",
       "      <th>2</th>\n",
       "      <td>3</td>\n",
       "      <td>01/22/2020</td>\n",
       "      <td>Chongqing</td>\n",
       "      <td>Mainland China</td>\n",
       "      <td>1/22/2020 17:00</td>\n",
       "      <td>6.0</td>\n",
       "      <td>0.0</td>\n",
       "      <td>0.0</td>\n",
       "    </tr>\n",
       "    <tr>\n",
       "      <th>3</th>\n",
       "      <td>4</td>\n",
       "      <td>01/22/2020</td>\n",
       "      <td>Fujian</td>\n",
       "      <td>Mainland China</td>\n",
       "      <td>1/22/2020 17:00</td>\n",
       "      <td>1.0</td>\n",
       "      <td>0.0</td>\n",
       "      <td>0.0</td>\n",
       "    </tr>\n",
       "    <tr>\n",
       "      <th>4</th>\n",
       "      <td>5</td>\n",
       "      <td>01/22/2020</td>\n",
       "      <td>Gansu</td>\n",
       "      <td>Mainland China</td>\n",
       "      <td>1/22/2020 17:00</td>\n",
       "      <td>0.0</td>\n",
       "      <td>0.0</td>\n",
       "      <td>0.0</td>\n",
       "    </tr>\n",
       "  </tbody>\n",
       "</table>\n",
       "</div>"
      ],
      "text/plain": [
       "   SNo ObservationDate Province/State  Country/Region      Last Update  \\\n",
       "0    1      01/22/2020          Anhui  Mainland China  1/22/2020 17:00   \n",
       "1    2      01/22/2020        Beijing  Mainland China  1/22/2020 17:00   \n",
       "2    3      01/22/2020      Chongqing  Mainland China  1/22/2020 17:00   \n",
       "3    4      01/22/2020         Fujian  Mainland China  1/22/2020 17:00   \n",
       "4    5      01/22/2020          Gansu  Mainland China  1/22/2020 17:00   \n",
       "\n",
       "   Confirmed  Deaths  Recovered  \n",
       "0        1.0     0.0        0.0  \n",
       "1       14.0     0.0        0.0  \n",
       "2        6.0     0.0        0.0  \n",
       "3        1.0     0.0        0.0  \n",
       "4        0.0     0.0        0.0  "
      ]
     },
     "execution_count": 4,
     "metadata": {},
     "output_type": "execute_result"
    }
   ],
   "source": [
    "age_group = pd.read_csv('AgeGroupDetails.csv')\n",
    "india_covid_19 = pd.read_csv('covid_19_india.csv')\n",
    "hospital_beds = pd.read_csv('HospitalBedsIndia.csv')\n",
    "individual_details = pd.read_csv('IndividualDetails.csv')\n",
    "ICMR_details = pd.read_csv('ICMRTestingDetails.csv')\n",
    "ICMR_labs = pd.read_csv('ICMRTestingLabs.csv')\n",
    "state_testing = pd.read_csv('statewise_tested_numbers_data.csv')\n",
    "\n",
    "df= pd.read_csv('covid_19_data.csv')\n",
    "df.head()"
   ]
  },
  {
   "cell_type": "code",
   "execution_count": 5,
   "metadata": {},
   "outputs": [
    {
     "data": {
      "text/plain": [
       "(23804, 8)"
      ]
     },
     "execution_count": 5,
     "metadata": {},
     "output_type": "execute_result"
    }
   ],
   "source": [
    "df.shape"
   ]
  },
  {
   "cell_type": "code",
   "execution_count": 6,
   "metadata": {},
   "outputs": [
    {
     "name": "stdout",
     "output_type": "stream",
     "text": [
      "<class 'pandas.core.frame.DataFrame'>\n",
      "RangeIndex: 23804 entries, 0 to 23803\n",
      "Data columns (total 8 columns):\n",
      " #   Column           Non-Null Count  Dtype  \n",
      "---  ------           --------------  -----  \n",
      " 0   SNo              23804 non-null  int64  \n",
      " 1   ObservationDate  23804 non-null  object \n",
      " 2   Province/State   11426 non-null  object \n",
      " 3   Country/Region   23804 non-null  object \n",
      " 4   Last Update      23804 non-null  object \n",
      " 5   Confirmed        23804 non-null  float64\n",
      " 6   Deaths           23804 non-null  float64\n",
      " 7   Recovered        23804 non-null  float64\n",
      "dtypes: float64(3), int64(1), object(4)\n",
      "memory usage: 1.5+ MB\n"
     ]
    }
   ],
   "source": [
    "df.info()"
   ]
  },
  {
   "cell_type": "markdown",
   "metadata": {},
   "source": [
    "### Cleaning Date filed and updating Numerical field to Int"
   ]
  },
  {
   "cell_type": "code",
   "execution_count": 7,
   "metadata": {},
   "outputs": [],
   "source": [
    "df['ObservationDate'] = pd.to_datetime(df['ObservationDate'])\n",
    "df['Last Update'] = pd.to_datetime(df['Last Update'])\n",
    "df['Confirmed']=df['Confirmed'].astype('int')\n",
    "df['Deaths']=df['Deaths'].astype('int')\n",
    "df['Recovered']=df['Recovered'].astype('int')\n"
   ]
  },
  {
   "cell_type": "markdown",
   "metadata": {},
   "source": [
    "**Since the final count of cases is present on 11th May 2020 we will create a separate dataframe for the same**"
   ]
  },
  {
   "cell_type": "code",
   "execution_count": 8,
   "metadata": {},
   "outputs": [
    {
     "data": {
      "text/html": [
       "<div>\n",
       "<style scoped>\n",
       "    .dataframe tbody tr th:only-of-type {\n",
       "        vertical-align: middle;\n",
       "    }\n",
       "\n",
       "    .dataframe tbody tr th {\n",
       "        vertical-align: top;\n",
       "    }\n",
       "\n",
       "    .dataframe thead th {\n",
       "        text-align: right;\n",
       "    }\n",
       "</style>\n",
       "<table border=\"1\" class=\"dataframe\">\n",
       "  <thead>\n",
       "    <tr style=\"text-align: right;\">\n",
       "      <th></th>\n",
       "      <th>SNo</th>\n",
       "      <th>ObservationDate</th>\n",
       "      <th>Province/State</th>\n",
       "      <th>Country/Region</th>\n",
       "      <th>Last Update</th>\n",
       "      <th>Confirmed</th>\n",
       "      <th>Deaths</th>\n",
       "      <th>Recovered</th>\n",
       "    </tr>\n",
       "  </thead>\n",
       "  <tbody>\n",
       "    <tr>\n",
       "      <th>23481</th>\n",
       "      <td>23482</td>\n",
       "      <td>2020-05-11</td>\n",
       "      <td>NaN</td>\n",
       "      <td>Afghanistan</td>\n",
       "      <td>2020-05-12 03:32:27</td>\n",
       "      <td>4687</td>\n",
       "      <td>122</td>\n",
       "      <td>558</td>\n",
       "    </tr>\n",
       "    <tr>\n",
       "      <th>23482</th>\n",
       "      <td>23483</td>\n",
       "      <td>2020-05-11</td>\n",
       "      <td>NaN</td>\n",
       "      <td>Albania</td>\n",
       "      <td>2020-05-12 03:32:27</td>\n",
       "      <td>872</td>\n",
       "      <td>31</td>\n",
       "      <td>654</td>\n",
       "    </tr>\n",
       "    <tr>\n",
       "      <th>23483</th>\n",
       "      <td>23484</td>\n",
       "      <td>2020-05-11</td>\n",
       "      <td>NaN</td>\n",
       "      <td>Algeria</td>\n",
       "      <td>2020-05-12 03:32:27</td>\n",
       "      <td>5891</td>\n",
       "      <td>507</td>\n",
       "      <td>2841</td>\n",
       "    </tr>\n",
       "    <tr>\n",
       "      <th>23484</th>\n",
       "      <td>23485</td>\n",
       "      <td>2020-05-11</td>\n",
       "      <td>NaN</td>\n",
       "      <td>Andorra</td>\n",
       "      <td>2020-05-12 03:32:27</td>\n",
       "      <td>755</td>\n",
       "      <td>48</td>\n",
       "      <td>550</td>\n",
       "    </tr>\n",
       "    <tr>\n",
       "      <th>23485</th>\n",
       "      <td>23486</td>\n",
       "      <td>2020-05-11</td>\n",
       "      <td>NaN</td>\n",
       "      <td>Angola</td>\n",
       "      <td>2020-05-12 03:32:27</td>\n",
       "      <td>45</td>\n",
       "      <td>2</td>\n",
       "      <td>13</td>\n",
       "    </tr>\n",
       "    <tr>\n",
       "      <th>...</th>\n",
       "      <td>...</td>\n",
       "      <td>...</td>\n",
       "      <td>...</td>\n",
       "      <td>...</td>\n",
       "      <td>...</td>\n",
       "      <td>...</td>\n",
       "      <td>...</td>\n",
       "      <td>...</td>\n",
       "    </tr>\n",
       "    <tr>\n",
       "      <th>23799</th>\n",
       "      <td>23800</td>\n",
       "      <td>2020-05-11</td>\n",
       "      <td>Wyoming</td>\n",
       "      <td>US</td>\n",
       "      <td>2020-05-12 03:32:27</td>\n",
       "      <td>669</td>\n",
       "      <td>7</td>\n",
       "      <td>0</td>\n",
       "    </tr>\n",
       "    <tr>\n",
       "      <th>23800</th>\n",
       "      <td>23801</td>\n",
       "      <td>2020-05-11</td>\n",
       "      <td>Xinjiang</td>\n",
       "      <td>Mainland China</td>\n",
       "      <td>2020-05-12 03:32:27</td>\n",
       "      <td>76</td>\n",
       "      <td>3</td>\n",
       "      <td>73</td>\n",
       "    </tr>\n",
       "    <tr>\n",
       "      <th>23801</th>\n",
       "      <td>23802</td>\n",
       "      <td>2020-05-11</td>\n",
       "      <td>Yukon</td>\n",
       "      <td>Canada</td>\n",
       "      <td>2020-05-12 03:32:27</td>\n",
       "      <td>11</td>\n",
       "      <td>0</td>\n",
       "      <td>0</td>\n",
       "    </tr>\n",
       "    <tr>\n",
       "      <th>23802</th>\n",
       "      <td>23803</td>\n",
       "      <td>2020-05-11</td>\n",
       "      <td>Yunnan</td>\n",
       "      <td>Mainland China</td>\n",
       "      <td>2020-05-12 03:32:27</td>\n",
       "      <td>185</td>\n",
       "      <td>2</td>\n",
       "      <td>183</td>\n",
       "    </tr>\n",
       "    <tr>\n",
       "      <th>23803</th>\n",
       "      <td>23804</td>\n",
       "      <td>2020-05-11</td>\n",
       "      <td>Zhejiang</td>\n",
       "      <td>Mainland China</td>\n",
       "      <td>2020-05-12 03:32:27</td>\n",
       "      <td>1268</td>\n",
       "      <td>1</td>\n",
       "      <td>1267</td>\n",
       "    </tr>\n",
       "  </tbody>\n",
       "</table>\n",
       "<p>323 rows × 8 columns</p>\n",
       "</div>"
      ],
      "text/plain": [
       "         SNo ObservationDate Province/State  Country/Region  \\\n",
       "23481  23482      2020-05-11            NaN     Afghanistan   \n",
       "23482  23483      2020-05-11            NaN         Albania   \n",
       "23483  23484      2020-05-11            NaN         Algeria   \n",
       "23484  23485      2020-05-11            NaN         Andorra   \n",
       "23485  23486      2020-05-11            NaN          Angola   \n",
       "...      ...             ...            ...             ...   \n",
       "23799  23800      2020-05-11        Wyoming              US   \n",
       "23800  23801      2020-05-11       Xinjiang  Mainland China   \n",
       "23801  23802      2020-05-11          Yukon          Canada   \n",
       "23802  23803      2020-05-11         Yunnan  Mainland China   \n",
       "23803  23804      2020-05-11       Zhejiang  Mainland China   \n",
       "\n",
       "              Last Update  Confirmed  Deaths  Recovered  \n",
       "23481 2020-05-12 03:32:27       4687     122        558  \n",
       "23482 2020-05-12 03:32:27        872      31        654  \n",
       "23483 2020-05-12 03:32:27       5891     507       2841  \n",
       "23484 2020-05-12 03:32:27        755      48        550  \n",
       "23485 2020-05-12 03:32:27         45       2         13  \n",
       "...                   ...        ...     ...        ...  \n",
       "23799 2020-05-12 03:32:27        669       7          0  \n",
       "23800 2020-05-12 03:32:27         76       3         73  \n",
       "23801 2020-05-12 03:32:27         11       0          0  \n",
       "23802 2020-05-12 03:32:27        185       2        183  \n",
       "23803 2020-05-12 03:32:27       1268       1       1267  \n",
       "\n",
       "[323 rows x 8 columns]"
      ]
     },
     "execution_count": 8,
     "metadata": {},
     "output_type": "execute_result"
    }
   ],
   "source": [
    "from datetime import date\n",
    "recent=df[['ObservationDate']][-1:].max()\n",
    "df_update=df.loc[df.ObservationDate==pd.Timestamp(recent['ObservationDate'])]\n",
    "df_update"
   ]
  },
  {
   "cell_type": "code",
   "execution_count": 9,
   "metadata": {},
   "outputs": [
    {
     "data": {
      "text/plain": [
       "SNo                  0\n",
       "ObservationDate      0\n",
       "Province/State     183\n",
       "Country/Region       0\n",
       "Last Update          0\n",
       "Confirmed            0\n",
       "Deaths               0\n",
       "Recovered            0\n",
       "dtype: int64"
      ]
     },
     "execution_count": 9,
     "metadata": {},
     "output_type": "execute_result"
    }
   ],
   "source": [
    "df_update.isnull().sum()"
   ]
  },
  {
   "cell_type": "markdown",
   "metadata": {},
   "source": [
    "**Wherever Province is null, we replace it with the Country name and we group Mainland China and China together in China**"
   ]
  },
  {
   "cell_type": "code",
   "execution_count": 67,
   "metadata": {},
   "outputs": [],
   "source": [
    "df_update['Province/State']=df_update.apply(lambda x: x['Country/Region'] if pd.isnull(x['Province/State']) else x['Province/State'],axis=1)\n",
    "df['Province/State']=df.apply(lambda x: x['Country/Region'] if pd.isnull(x['Province/State']) else x['Province/State'],axis=1)"
   ]
  },
  {
   "cell_type": "code",
   "execution_count": 11,
   "metadata": {},
   "outputs": [],
   "source": [
    "df_update['Country/Region']=df_update.apply(lambda x:'China' if x['Country/Region']=='Mainland China' else x['Country/Region'],axis=1)\n",
    "df['Country/Region']=df.apply(lambda x:'China' if x['Country/Region']=='Mainland China' else x['Country/Region'],axis=1)"
   ]
  },
  {
   "cell_type": "markdown",
   "metadata": {},
   "source": [
    "** We perform encoding of the Country to CountryID and Province to ProvinceID**"
   ]
  },
  {
   "cell_type": "code",
   "execution_count": 68,
   "metadata": {},
   "outputs": [
    {
     "data": {
      "text/html": [
       "<div>\n",
       "<style scoped>\n",
       "    .dataframe tbody tr th:only-of-type {\n",
       "        vertical-align: middle;\n",
       "    }\n",
       "\n",
       "    .dataframe tbody tr th {\n",
       "        vertical-align: top;\n",
       "    }\n",
       "\n",
       "    .dataframe thead th {\n",
       "        text-align: right;\n",
       "    }\n",
       "</style>\n",
       "<table border=\"1\" class=\"dataframe\">\n",
       "  <thead>\n",
       "    <tr style=\"text-align: right;\">\n",
       "      <th></th>\n",
       "      <th>SNo</th>\n",
       "      <th>ObservationDate</th>\n",
       "      <th>Province/State</th>\n",
       "      <th>Country/Region</th>\n",
       "      <th>Last Update</th>\n",
       "      <th>Confirmed</th>\n",
       "      <th>Deaths</th>\n",
       "      <th>Recovered</th>\n",
       "      <th>ProvinceID</th>\n",
       "      <th>CountryID</th>\n",
       "    </tr>\n",
       "  </thead>\n",
       "  <tbody>\n",
       "    <tr>\n",
       "      <th>23481</th>\n",
       "      <td>23482</td>\n",
       "      <td>2020-05-11</td>\n",
       "      <td>Afghanistan</td>\n",
       "      <td>Afghanistan</td>\n",
       "      <td>2020-05-12 03:32:27</td>\n",
       "      <td>4687</td>\n",
       "      <td>122</td>\n",
       "      <td>558</td>\n",
       "      <td>0</td>\n",
       "      <td>0</td>\n",
       "    </tr>\n",
       "    <tr>\n",
       "      <th>23482</th>\n",
       "      <td>23483</td>\n",
       "      <td>2020-05-11</td>\n",
       "      <td>Albania</td>\n",
       "      <td>Albania</td>\n",
       "      <td>2020-05-12 03:32:27</td>\n",
       "      <td>872</td>\n",
       "      <td>31</td>\n",
       "      <td>654</td>\n",
       "      <td>3</td>\n",
       "      <td>1</td>\n",
       "    </tr>\n",
       "    <tr>\n",
       "      <th>23483</th>\n",
       "      <td>23484</td>\n",
       "      <td>2020-05-11</td>\n",
       "      <td>Algeria</td>\n",
       "      <td>Algeria</td>\n",
       "      <td>2020-05-12 03:32:27</td>\n",
       "      <td>5891</td>\n",
       "      <td>507</td>\n",
       "      <td>2841</td>\n",
       "      <td>5</td>\n",
       "      <td>2</td>\n",
       "    </tr>\n",
       "    <tr>\n",
       "      <th>23484</th>\n",
       "      <td>23485</td>\n",
       "      <td>2020-05-11</td>\n",
       "      <td>Andorra</td>\n",
       "      <td>Andorra</td>\n",
       "      <td>2020-05-12 03:32:27</td>\n",
       "      <td>755</td>\n",
       "      <td>48</td>\n",
       "      <td>550</td>\n",
       "      <td>6</td>\n",
       "      <td>3</td>\n",
       "    </tr>\n",
       "    <tr>\n",
       "      <th>23485</th>\n",
       "      <td>23486</td>\n",
       "      <td>2020-05-11</td>\n",
       "      <td>Angola</td>\n",
       "      <td>Angola</td>\n",
       "      <td>2020-05-12 03:32:27</td>\n",
       "      <td>45</td>\n",
       "      <td>2</td>\n",
       "      <td>13</td>\n",
       "      <td>7</td>\n",
       "      <td>4</td>\n",
       "    </tr>\n",
       "  </tbody>\n",
       "</table>\n",
       "</div>"
      ],
      "text/plain": [
       "         SNo ObservationDate Province/State Country/Region  \\\n",
       "23481  23482      2020-05-11    Afghanistan    Afghanistan   \n",
       "23482  23483      2020-05-11        Albania        Albania   \n",
       "23483  23484      2020-05-11        Algeria        Algeria   \n",
       "23484  23485      2020-05-11        Andorra        Andorra   \n",
       "23485  23486      2020-05-11         Angola         Angola   \n",
       "\n",
       "              Last Update  Confirmed  Deaths  Recovered  ProvinceID  CountryID  \n",
       "23481 2020-05-12 03:32:27       4687     122        558           0          0  \n",
       "23482 2020-05-12 03:32:27        872      31        654           3          1  \n",
       "23483 2020-05-12 03:32:27       5891     507       2841           5          2  \n",
       "23484 2020-05-12 03:32:27        755      48        550           6          3  \n",
       "23485 2020-05-12 03:32:27         45       2         13           7          4  "
      ]
     },
     "execution_count": 68,
     "metadata": {},
     "output_type": "execute_result"
    }
   ],
   "source": [
    "from sklearn.preprocessing import LabelEncoder\n",
    "le=LabelEncoder()\n",
    "df_update['ProvinceID'] = le.fit_transform(df_update['Province/State'])\n",
    "df_update['CountryID']=le.fit_transform(df_update['Country/Region'])\n",
    "df_update.head()"
   ]
  },
  {
   "cell_type": "code",
   "execution_count": 69,
   "metadata": {},
   "outputs": [
    {
     "data": {
      "text/plain": [
       "<matplotlib.axes._subplots.AxesSubplot at 0x7f41da5b8940>"
      ]
     },
     "execution_count": 69,
     "metadata": {},
     "output_type": "execute_result"
    },
    {
     "data": {
      "image/png": "[encoded data removed]",
      "text/plain": [
       "<Figure size 432x288 with 2 Axes>"
      ]
     },
     "metadata": {
      "needs_background": "light"
     },
     "output_type": "display_data"
    }
   ],
   "source": [
    "corr= df_update.corr()\n",
    "sns.heatmap(corr,annot=True)"
   ]
  },
  {
   "cell_type": "markdown",
   "metadata": {},
   "source": [
    "**There is no strong correlation between any of the variables except for Confirmed, Deaths and Recovered variables**"
   ]
  },
  {
   "cell_type": "markdown",
   "metadata": {},
   "source": [
    "#  Printing the unique Countries and their count"
   ]
  },
  {
   "cell_type": "markdown",
   "metadata": {},
   "source": [
    "**A total of 222 countries have been impacted uptill now.**"
   ]
  },
  {
   "cell_type": "code",
   "execution_count": 14,
   "metadata": {
    "collapsed": true,
    "jupyter": {
     "outputs_hidden": true
    }
   },
   "outputs": [
    {
     "name": "stdout",
     "output_type": "stream",
     "text": [
      "['China' 'Hong Kong' 'Macau' 'Taiwan' 'US' 'Japan' 'Thailand'\n",
      " 'South Korea' 'Singapore' 'Philippines' 'Malaysia' 'Vietnam' 'Australia'\n",
      " 'Mexico' 'Brazil' 'Colombia' 'France' 'Nepal' 'Canada' 'Cambodia'\n",
      " 'Sri Lanka' 'Ivory Coast' 'Germany' 'Finland' 'United Arab Emirates'\n",
      " 'India' 'Italy' 'UK' 'Russia' 'Sweden' 'Spain' 'Belgium' 'Others' 'Egypt'\n",
      " 'Iran' 'Israel' 'Lebanon' 'Iraq' 'Oman' 'Afghanistan' 'Bahrain' 'Kuwait'\n",
      " 'Austria' 'Algeria' 'Croatia' 'Switzerland' 'Pakistan' 'Georgia' 'Greece'\n",
      " 'North Macedonia' 'Norway' 'Romania' 'Denmark' 'Estonia' 'Netherlands'\n",
      " 'San Marino' ' Azerbaijan' 'Belarus' 'Iceland' 'Lithuania' 'New Zealand'\n",
      " 'Nigeria' 'North Ireland' 'Ireland' 'Luxembourg' 'Monaco' 'Qatar'\n",
      " 'Ecuador' 'Azerbaijan' 'Czech Republic' 'Armenia' 'Dominican Republic'\n",
      " 'Indonesia' 'Portugal' 'Andorra' 'Latvia' 'Morocco' 'Saudi Arabia'\n",
      " 'Senegal' 'Argentina' 'Chile' 'Jordan' 'Ukraine' 'Saint Barthelemy'\n",
      " 'Hungary' 'Faroe Islands' 'Gibraltar' 'Liechtenstein' 'Poland' 'Tunisia'\n",
      " 'Palestine' 'Bosnia and Herzegovina' 'Slovenia' 'South Africa' 'Bhutan'\n",
      " 'Cameroon' 'Costa Rica' 'Peru' 'Serbia' 'Slovakia' 'Togo' 'Vatican City'\n",
      " 'French Guiana' 'Malta' 'Martinique' 'Republic of Ireland' 'Bulgaria'\n",
      " 'Maldives' 'Bangladesh' 'Moldova' 'Paraguay' 'Albania' 'Cyprus'\n",
      " 'St. Martin' 'Brunei' 'occupied Palestinian territory' \"('St. Martin',)\"\n",
      " 'Burkina Faso' 'Channel Islands' 'Holy See' 'Mongolia' 'Panama' 'Bolivia'\n",
      " 'Honduras' 'Congo (Kinshasa)' 'Jamaica' 'Reunion' 'Turkey' 'Cuba'\n",
      " 'Guyana' 'Kazakhstan' 'Cayman Islands' 'Guadeloupe' 'Ethiopia' 'Sudan'\n",
      " 'Guinea' 'Antigua and Barbuda' 'Aruba' 'Kenya' 'Uruguay' 'Ghana' 'Jersey'\n",
      " 'Namibia' 'Seychelles' 'Trinidad and Tobago' 'Venezuela' 'Curacao'\n",
      " 'Eswatini' 'Gabon' 'Guatemala' 'Guernsey' 'Mauritania' 'Rwanda'\n",
      " 'Saint Lucia' 'Saint Vincent and the Grenadines' 'Suriname' 'Kosovo'\n",
      " 'Central African Republic' 'Congo (Brazzaville)' 'Equatorial Guinea'\n",
      " 'Uzbekistan' 'Guam' 'Puerto Rico' 'Benin' 'Greenland' 'Liberia' 'Mayotte'\n",
      " 'Republic of the Congo' 'Somalia' 'Tanzania' 'The Bahamas' 'Barbados'\n",
      " 'Montenegro' 'The Gambia' 'Kyrgyzstan' 'Mauritius' 'Zambia' 'Djibouti'\n",
      " 'Gambia, The' 'Bahamas, The' 'Chad' 'El Salvador' 'Fiji' 'Nicaragua'\n",
      " 'Madagascar' 'Haiti' 'Angola' 'Cabo Verde' 'Niger' 'Papua New Guinea'\n",
      " 'Zimbabwe' 'Cape Verde' 'East Timor' 'Eritrea' 'Uganda' 'Bahamas'\n",
      " 'Dominica' 'Gambia' 'Grenada' 'Mozambique' 'Syria' 'Timor-Leste' 'Belize'\n",
      " 'Laos' 'Libya' 'Diamond Princess' 'Guinea-Bissau' 'Mali'\n",
      " 'Saint Kitts and Nevis' 'West Bank and Gaza' 'Burma' 'MS Zaandam'\n",
      " 'Botswana' 'Burundi' 'Sierra Leone' 'Malawi' 'South Sudan'\n",
      " 'Western Sahara' 'Sao Tome and Principe' 'Yemen' 'Comoros' 'Tajikistan']\n",
      "\n",
      "Number of countries impacted by COVID 2019: 222\n"
     ]
    }
   ],
   "source": [
    "print(df['Country/Region'].unique())\n",
    "print(\"\\nNumber of countries impacted by COVID-19:\",len(df['Country/Region'].unique()))"
   ]
  },
  {
   "cell_type": "markdown",
   "metadata": {},
   "source": [
    "# Representation of confirmed cases per country"
   ]
  },
  {
   "cell_type": "code",
   "execution_count": 16,
   "metadata": {},
   "outputs": [
    {
     "data": {
      "text/html": [
       "<div>\n",
       "<style scoped>\n",
       "    .dataframe tbody tr th:only-of-type {\n",
       "        vertical-align: middle;\n",
       "    }\n",
       "\n",
       "    .dataframe tbody tr th {\n",
       "        vertical-align: top;\n",
       "    }\n",
       "\n",
       "    .dataframe thead th {\n",
       "        text-align: right;\n",
       "    }\n",
       "</style>\n",
       "<table border=\"1\" class=\"dataframe\">\n",
       "  <thead>\n",
       "    <tr style=\"text-align: right;\">\n",
       "      <th></th>\n",
       "      <th>Country/Region</th>\n",
       "      <th>Confirmed</th>\n",
       "      <th>Recovered</th>\n",
       "      <th>Deaths</th>\n",
       "    </tr>\n",
       "  </thead>\n",
       "  <tbody>\n",
       "    <tr>\n",
       "      <th>0</th>\n",
       "      <td>US</td>\n",
       "      <td>1347881</td>\n",
       "      <td>232733</td>\n",
       "      <td>80682</td>\n",
       "    </tr>\n",
       "    <tr>\n",
       "      <th>1</th>\n",
       "      <td>Spain</td>\n",
       "      <td>227436</td>\n",
       "      <td>137139</td>\n",
       "      <td>26744</td>\n",
       "    </tr>\n",
       "    <tr>\n",
       "      <th>2</th>\n",
       "      <td>UK</td>\n",
       "      <td>224332</td>\n",
       "      <td>1015</td>\n",
       "      <td>32141</td>\n",
       "    </tr>\n",
       "    <tr>\n",
       "      <th>3</th>\n",
       "      <td>Russia</td>\n",
       "      <td>221344</td>\n",
       "      <td>39801</td>\n",
       "      <td>2009</td>\n",
       "    </tr>\n",
       "    <tr>\n",
       "      <th>4</th>\n",
       "      <td>Italy</td>\n",
       "      <td>219814</td>\n",
       "      <td>106587</td>\n",
       "      <td>30739</td>\n",
       "    </tr>\n",
       "  </tbody>\n",
       "</table>\n",
       "</div>"
      ],
      "text/plain": [
       "  Country/Region  Confirmed  Recovered  Deaths\n",
       "0             US    1347881     232733   80682\n",
       "1          Spain     227436     137139   26744\n",
       "2             UK     224332       1015   32141\n",
       "3         Russia     221344      39801    2009\n",
       "4          Italy     219814     106587   30739"
      ]
     },
     "execution_count": 16,
     "metadata": {},
     "output_type": "execute_result"
    }
   ],
   "source": [
    "group_cases=df_update[['Confirmed','Recovered','Deaths','Country/Region']].groupby('Country/Region').sum().sort_values('Confirmed',ascending=False).head()\n",
    "group_cases=group_cases.reset_index()\n",
    "group_cases"
   ]
  },
  {
   "cell_type": "markdown",
   "metadata": {},
   "source": [
    "**From the below stacked barplot we see that highest number of confirmed cases is in US now<br>**"
   ]
  },
  {
   "cell_type": "code",
   "execution_count": 17,
   "metadata": {},
   "outputs": [
    {
     "data": {
      "image/png": "[encoded data removed]",
      "text/plain": [
       "<Figure size 1080x720 with 1 Axes>"
      ]
     },
     "metadata": {
      "needs_background": "light"
     },
     "output_type": "display_data"
    }
   ],
   "source": [
    "f, ax = plt.subplots(figsize=(15, 10))\n",
    "bar1=sns.barplot(x=\"Confirmed\",y=\"Country/Region\",data=group_cases,\n",
    "            label=\"Confirmed\", color=\"b\")\n",
    "\n",
    "\n",
    "bar2=sns.barplot(x=\"Recovered\", y=\"Country/Region\", data=group_cases,\n",
    "            label=\"Recovered\", color=\"g\")\n",
    "\n",
    "\n",
    "bar3=sns.barplot(x=\"Deaths\", y=\"Country/Region\", data=group_cases,\n",
    "            label=\"Deaths\", color=\"r\")\n",
    "\n",
    "ax.legend(loc=4, ncol = 1)\n",
    "plt.show()"
   ]
  },
  {
   "cell_type": "markdown",
   "metadata": {},
   "source": [
    "**The ratio of recovered and death cases are shown below for the top 5 countries that have reported max deaths. UK has seen more deaths than recoveries while US leads in the number of deaths due to COVID19**"
   ]
  },
  {
   "cell_type": "code",
   "execution_count": 20,
   "metadata": {},
   "outputs": [
    {
     "data": {
      "image/png": "[encoded data removed]",
      "text/plain": [
       "<Figure size 1440x720 with 1 Axes>"
      ]
     },
     "metadata": {
      "needs_background": "light"
     },
     "output_type": "display_data"
    }
   ],
   "source": [
    "group_cases=df_update[['Recovered','Deaths','Country/Region']].groupby('Country/Region').sum().sort_values('Deaths',ascending=False).head()\n",
    "group_cases.plot(kind='bar',width=0.5,colormap='plasma',figsize=(20,10))\n",
    "plt.title(\"Recovered vs Death\")\n",
    "plt.show()\n"
   ]
  },
  {
   "cell_type": "markdown",
   "metadata": {},
   "source": [
    "# India"
   ]
  },
  {
   "cell_type": "markdown",
   "metadata": {},
   "source": [
    "**Observing the cases in India. Confirmed cases are increasing in India each day. There is a need to get a flatter curve for confirmed cases which currently is in upswing with a steep increase since past few days.**"
   ]
  },
  {
   "cell_type": "code",
   "execution_count": 70,
   "metadata": {},
   "outputs": [
    {
     "data": {
      "image/png": "[encoded data removed]",
      "text/plain": [
       "<Figure size 576x576 with 1 Axes>"
      ]
     },
     "metadata": {
      "needs_background": "light"
     },
     "output_type": "display_data"
    }
   ],
   "source": [
    "india_cases_complete=df.loc[df['Country/Region']=='India']\n",
    "india_cases_complete['date'] = india_cases_complete['ObservationDate'].dt.date\n",
    "india_cases_complete['date']=pd.to_datetime(india_cases_complete['date'])\n",
    "india_cases_complete = india_cases_complete[india_cases_complete['date'] > pd.Timestamp(date(2020,1,21))]\n",
    "num_plot = india_cases_complete.groupby('date')[\"Confirmed\", \"Recovered\", \"Deaths\"].sum()\n",
    "num_plot.plot(figsize=(8,8),colormap='winter',title='Per Day statistics for India',marker='o')\n",
    "num_plot_india=num_plot.reset_index()"
   ]
  },
  {
   "cell_type": "code",
   "execution_count": 22,
   "metadata": {},
   "outputs": [
    {
     "data": {
      "text/html": [
       "<div>\n",
       "<style scoped>\n",
       "    .dataframe tbody tr th:only-of-type {\n",
       "        vertical-align: middle;\n",
       "    }\n",
       "\n",
       "    .dataframe tbody tr th {\n",
       "        vertical-align: top;\n",
       "    }\n",
       "\n",
       "    .dataframe thead th {\n",
       "        text-align: right;\n",
       "    }\n",
       "</style>\n",
       "<table border=\"1\" class=\"dataframe\">\n",
       "  <thead>\n",
       "    <tr style=\"text-align: right;\">\n",
       "      <th></th>\n",
       "      <th>date</th>\n",
       "      <th>Confirmed</th>\n",
       "      <th>Recovered</th>\n",
       "      <th>Deaths</th>\n",
       "      <th>Confirmed Case Increase</th>\n",
       "      <th>Death Case Increase</th>\n",
       "    </tr>\n",
       "  </thead>\n",
       "  <tbody>\n",
       "    <tr>\n",
       "      <th>98</th>\n",
       "      <td>2020-05-07</td>\n",
       "      <td>56351</td>\n",
       "      <td>16776</td>\n",
       "      <td>1889</td>\n",
       "      <td>3364</td>\n",
       "      <td>104</td>\n",
       "    </tr>\n",
       "    <tr>\n",
       "      <th>99</th>\n",
       "      <td>2020-05-08</td>\n",
       "      <td>59695</td>\n",
       "      <td>17887</td>\n",
       "      <td>1985</td>\n",
       "      <td>3344</td>\n",
       "      <td>96</td>\n",
       "    </tr>\n",
       "    <tr>\n",
       "      <th>100</th>\n",
       "      <td>2020-05-09</td>\n",
       "      <td>62808</td>\n",
       "      <td>19301</td>\n",
       "      <td>2101</td>\n",
       "      <td>3113</td>\n",
       "      <td>116</td>\n",
       "    </tr>\n",
       "    <tr>\n",
       "      <th>101</th>\n",
       "      <td>2020-05-10</td>\n",
       "      <td>67161</td>\n",
       "      <td>20969</td>\n",
       "      <td>2212</td>\n",
       "      <td>4353</td>\n",
       "      <td>111</td>\n",
       "    </tr>\n",
       "    <tr>\n",
       "      <th>102</th>\n",
       "      <td>2020-05-11</td>\n",
       "      <td>70768</td>\n",
       "      <td>22549</td>\n",
       "      <td>2294</td>\n",
       "      <td>3607</td>\n",
       "      <td>82</td>\n",
       "    </tr>\n",
       "  </tbody>\n",
       "</table>\n",
       "</div>"
      ],
      "text/plain": [
       "          date  Confirmed  Recovered  Deaths  Confirmed Case Increase  \\\n",
       "98  2020-05-07      56351      16776    1889                     3364   \n",
       "99  2020-05-08      59695      17887    1985                     3344   \n",
       "100 2020-05-09      62808      19301    2101                     3113   \n",
       "101 2020-05-10      67161      20969    2212                     4353   \n",
       "102 2020-05-11      70768      22549    2294                     3607   \n",
       "\n",
       "     Death Case Increase  \n",
       "98                   104  \n",
       "99                    96  \n",
       "100                  116  \n",
       "101                  111  \n",
       "102                   82  "
      ]
     },
     "execution_count": 22,
     "metadata": {},
     "output_type": "execute_result"
    }
   ],
   "source": [
    "num_plot_india['Confirmed Case Increase']=0\n",
    "num_plot_india['Death Case Increase']=0\n",
    "num_plot_india['Confirmed Case Increase'][0]=0\n",
    "num_plot_india['Death Case Increase'][0]=0\n",
    "for i in range(1,num_plot_india.shape[0]):\n",
    "    num_plot_india['Confirmed Case Increase'][i]=-(num_plot_india.iloc[i-1][1]-num_plot_india.iloc[i][1])\n",
    "    num_plot_india['Death Case Increase'][i]=-(num_plot_india.iloc[i-1][3]-num_plot_india.iloc[i][3])\n",
    "num_plot_india.tail()"
   ]
  },
  {
   "cell_type": "markdown",
   "metadata": {},
   "source": [
    "**10th May has recorded highest number of COVID19 confirmed cases in India in a day (4353).**"
   ]
  },
  {
   "cell_type": "code",
   "execution_count": 27,
   "metadata": {},
   "outputs": [
    {
     "data": {
      "image/png": "[encoded data removed]",
      "text/plain": [
       "<Figure size 1440x432 with 1 Axes>"
      ]
     },
     "metadata": {
      "needs_background": "light"
     },
     "output_type": "display_data"
    }
   ],
   "source": [
    "num_plot_india['Confirmed Case Increase'].plot(kind='bar',width=0.95,colormap='spring',figsize=(20,6),title='Confirmed Case Trend')\n",
    "plt.show()"
   ]
  },
  {
   "cell_type": "code",
   "execution_count": 28,
   "metadata": {},
   "outputs": [
    {
     "data": {
      "image/png": "[encoded data removed]",
      "text/plain": [
       "<Figure size 1440x432 with 1 Axes>"
      ]
     },
     "metadata": {
      "needs_background": "light"
     },
     "output_type": "display_data"
    }
   ],
   "source": [
    "num_plot_india['Death Case Increase'].plot(kind='bar',width=0.95,colormap='winter',figsize=(20,6),title='Death Case Trend')\n",
    "plt.show()"
   ]
  },
  {
   "cell_type": "markdown",
   "metadata": {},
   "source": [
    "**Adding other datasources for further analysis of India on State-level**"
   ]
  },
  {
   "cell_type": "code",
   "execution_count": 71,
   "metadata": {},
   "outputs": [],
   "source": [
    "#Removal of 'Unassigned' State/UnionTerritory\n",
    "india_covid_19.rename(columns={'State/UnionTerritory': 'State', 'Cured': 'Recovered'}, inplace=True)\n",
    "unassigned=india_covid_19[india_covid_19['State']=='Unassigned'].index\n",
    "india_covid_19.drop(unassigned,axis=0,inplace=True)\n",
    "unassigned1=india_covid_19[india_covid_19['State']=='Nagaland#'].index\n",
    "india_covid_19.drop(unassigned1,axis=0,inplace=True)\n",
    "unassigned2=india_covid_19[india_covid_19['State']=='Jharkhand#'].index\n",
    "india_covid_19.drop(unassigned2,axis=0,inplace=True)\n",
    "unassigned3=india_covid_19[india_covid_19['State']=='Madhya Pradesh#'].index\n",
    "india_covid_19.drop(unassigned3,axis=0,inplace=True)"
   ]
  },
  {
   "cell_type": "markdown",
   "metadata": {},
   "source": [
    "**Statewise Confirmed Cases in India for COVID-2019**"
   ]
  },
  {
   "cell_type": "code",
   "execution_count": 72,
   "metadata": {},
   "outputs": [
    {
     "data": {
      "application/vnd.plotly.v1+json": {
       "config": {
        "plotlyServerURL": "https://plot.ly"
       },
       "data": [
        {
         "branchvalues": "total",
         "customdata": [
          [
           "Andaman and Nicobar Islands",
           33
          ],
          [
           "Andhra Pradesh",
           2018
          ],
          [
           "Arunachal Pradesh",
           1
          ],
          [
           "Assam",
           65
          ],
          [
           "Bihar",
           747
          ],
          [
           "Chandigarh",
           174
          ],
          [
           "Chhattisgarh",
           59
          ],
          [
           "Dadar Nagar Haveli",
           1
          ],
          [
           "Delhi",
           7233
          ],
          [
           "Goa",
           7
          ],
          [
           "Gujarat",
           8541
          ],
          [
           "Haryana",
           730
          ],
          [
           "Himachal Pradesh",
           59
          ],
          [
           "Jammu and Kashmir",
           879
          ],
          [
           "Jharkhand",
           160
          ],
          [
           "Karnataka",
           862
          ],
          [
           "Kerala",
           519
          ],
          [
           "Ladakh",
           42
          ],
          [
           "Madhya Pradesh",
           3785
          ],
          [
           "Maharashtra",
           23401
          ],
          [
           "Manipur",
           2
          ],
          [
           "Meghalaya",
           13
          ],
          [
           "Mizoram",
           1
          ],
          [
           "Nagaland",
           1
          ],
          [
           "Odisha",
           414
          ],
          [
           "Puducherry",
           12
          ],
          [
           "Punjab",
           1877
          ],
          [
           "Rajasthan",
           3988
          ],
          [
           "Tamil Nadu",
           8002
          ],
          [
           "Telengana",
           1275
          ],
          [
           "Tripura",
           152
          ],
          [
           "Uttar Pradesh",
           3573
          ],
          [
           "Uttarakhand",
           68
          ],
          [
           "West Bengal",
           2063
          ],
          [
           "(?)",
           70757
          ]
         ],
         "domain": {
          "x": [
           0,
           1
          ],
          "y": [
           0,
           1
          ]
         },
         "hovertemplate": "State=%{customdata[0]}<br>Confirmed=%{color}<br>labels=%{label}<br>parent=%{parent}<br>id=%{id}<extra></extra>",
         "ids": [
          "India/Andaman and Nicobar Islands",
          "India/Andhra Pradesh",
          "India/Arunachal Pradesh",
          "India/Assam",
          "India/Bihar",
          "India/Chandigarh",
          "India/Chhattisgarh",
          "India/Dadar Nagar Haveli",
          "India/Delhi",
          "India/Goa",
          "India/Gujarat",
          "India/Haryana",
          "India/Himachal Pradesh",
          "India/Jammu and Kashmir",
          "India/Jharkhand",
          "India/Karnataka",
          "India/Kerala",
          "India/Ladakh",
          "India/Madhya Pradesh",
          "India/Maharashtra",
          "India/Manipur",
          "India/Meghalaya",
          "India/Mizoram",
          "India/Nagaland",
          "India/Odisha",
          "India/Puducherry",
          "India/Punjab",
          "India/Rajasthan",
          "India/Tamil Nadu",
          "India/Telengana",
          "India/Tripura",
          "India/Uttar Pradesh",
          "India/Uttarakhand",
          "India/West Bengal",
          "India"
         ],
         "labels": [
          "Andaman and Nicobar Islands",
          "Andhra Pradesh",
          "Arunachal Pradesh",
          "Assam",
          "Bihar",
          "Chandigarh",
          "Chhattisgarh",
          "Dadar Nagar Haveli",
          "Delhi",
          "Goa",
          "Gujarat",
          "Haryana",
          "Himachal Pradesh",
          "Jammu and Kashmir",
          "Jharkhand",
          "Karnataka",
          "Kerala",
          "Ladakh",
          "Madhya Pradesh",
          "Maharashtra",
          "Manipur",
          "Meghalaya",
          "Mizoram",
          "Nagaland",
          "Odisha",
          "Puducherry",
          "Punjab",
          "Rajasthan",
          "Tamil Nadu",
          "Telengana",
          "Tripura",
          "Uttar Pradesh",
          "Uttarakhand",
          "West Bengal",
          "India"
         ],
         "marker": {
          "coloraxis": "coloraxis",
          "colors": [
           33,
           2018,
           1,
           65,
           747,
           174,
           59,
           1,
           7233,
           7,
           8541,
           730,
           59,
           879,
           160,
           862,
           519,
           42,
           3785,
           23401,
           2,
           13,
           1,
           1,
           414,
           12,
           1877,
           3988,
           8002,
           1275,
           152,
           3573,
           68,
           2063,
           70757
          ]
         },
         "name": "",
         "parents": [
          "India",
          "India",
          "India",
          "India",
          "India",
          "India",
          "India",
          "India",
          "India",
          "India",
          "India",
          "India",
          "India",
          "India",
          "India",
          "India",
          "India",
          "India",
          "India",
          "India",
          "India",
          "India",
          "India",
          "India",
          "India",
          "India",
          "India",
          "India",
          "India",
          "India",
          "India",
          "India",
          "India",
          "India",
          ""
         ],
         "type": "treemap",
         "values": [
          33,
          2018,
          1,
          65,
          747,
          174,
          59,
          1,
          7233,
          7,
          8541,
          730,
          59,
          879,
          160,
          862,
          519,
          42,
          3785,
          23401,
          2,
          13,
          1,
          1,
          414,
          12,
          1877,
          3988,
          8002,
          1275,
          152,
          3573,
          68,
          2063,
          70757
         ]
        }
       ],
       "layout": {
        "coloraxis": {
         "colorbar": {
          "title": {
           "text": "Confirmed"
          }
         },
         "colorscale": [
          [
           0,
           "#0d0887"
          ],
          [
           0.1111111111111111,
           "#46039f"
          ],
          [
           0.2222222222222222,
           "#7201a8"
          ],
          [
           0.3333333333333333,
           "#9c179e"
          ],
          [
           0.4444444444444444,
           "#bd3786"
          ],
          [
           0.5555555555555556,
           "#d8576b"
          ],
          [
           0.6666666666666666,
           "#ed7953"
          ],
          [
           0.7777777777777778,
           "#fb9f3a"
          ],
          [
           0.8888888888888888,
           "#fdca26"
          ],
          [
           1,
           "#f0f921"
          ]
         ]
        },
        "legend": {
         "tracegroupgap": 0
        },
        "margin": {
         "t": 60
        },
        "template": {
         "data": {
          "bar": [
           {
            "error_x": {
             "color": "#2a3f5f"
            },
            "error_y": {
             "color": "#2a3f5f"
            },
            "marker": {
             "line": {
              "color": "#E5ECF6",
              "width": 0.5
             }
            },
            "type": "bar"
           }
          ],
          "barpolar": [
           {
            "marker": {
             "line": {
              "color": "#E5ECF6",
              "width": 0.5
             }
            },
            "type": "barpolar"
           }
          ],
          "carpet": [
           {
            "aaxis": {
             "endlinecolor": "#2a3f5f",
             "gridcolor": "white",
             "linecolor": "white",
             "minorgridcolor": "white",
             "startlinecolor": "#2a3f5f"
            },
            "baxis": {
             "endlinecolor": "#2a3f5f",
             "gridcolor": "white",
             "linecolor": "white",
             "minorgridcolor": "white",
             "startlinecolor": "#2a3f5f"
            },
            "type": "carpet"
           }
          ],
          "choropleth": [
           {
            "colorbar": {
             "outlinewidth": 0,
             "ticks": ""
            },
            "type": "choropleth"
           }
          ],
          "contour": [
           {
            "colorbar": {
             "outlinewidth": 0,
             "ticks": ""
            },
            "colorscale": [
             [
              0,
              "#0d0887"
             ],
             [
              0.1111111111111111,
              "#46039f"
             ],
             [
              0.2222222222222222,
              "#7201a8"
             ],
             [
              0.3333333333333333,
              "#9c179e"
             ],
             [
              0.4444444444444444,
              "#bd3786"
             ],
             [
              0.5555555555555556,
              "#d8576b"
             ],
             [
              0.6666666666666666,
              "#ed7953"
             ],
             [
              0.7777777777777778,
              "#fb9f3a"
             ],
             [
              0.8888888888888888,
              "#fdca26"
             ],
             [
              1,
              "#f0f921"
             ]
            ],
            "type": "contour"
           }
          ],
          "contourcarpet": [
           {
            "colorbar": {
             "outlinewidth": 0,
             "ticks": ""
            },
            "type": "contourcarpet"
           }
          ],
          "heatmap": [
           {
            "colorbar": {
             "outlinewidth": 0,
             "ticks": ""
            },
            "colorscale": [
             [
              0,
              "#0d0887"
             ],
             [
              0.1111111111111111,
              "#46039f"
             ],
             [
              0.2222222222222222,
              "#7201a8"
             ],
             [
              0.3333333333333333,
              "#9c179e"
             ],
             [
              0.4444444444444444,
              "#bd3786"
             ],
             [
              0.5555555555555556,
              "#d8576b"
             ],
             [
              0.6666666666666666,
              "#ed7953"
             ],
             [
              0.7777777777777778,
              "#fb9f3a"
             ],
             [
              0.8888888888888888,
              "#fdca26"
             ],
             [
              1,
              "#f0f921"
             ]
            ],
            "type": "heatmap"
           }
          ],
          "heatmapgl": [
           {
            "colorbar": {
             "outlinewidth": 0,
             "ticks": ""
            },
            "colorscale": [
             [
              0,
              "#0d0887"
             ],
             [
              0.1111111111111111,
              "#46039f"
             ],
             [
              0.2222222222222222,
              "#7201a8"
             ],
             [
              0.3333333333333333,
              "#9c179e"
             ],
             [
              0.4444444444444444,
              "#bd3786"
             ],
             [
              0.5555555555555556,
              "#d8576b"
             ],
             [
              0.6666666666666666,
              "#ed7953"
             ],
             [
              0.7777777777777778,
              "#fb9f3a"
             ],
             [
              0.8888888888888888,
              "#fdca26"
             ],
             [
              1,
              "#f0f921"
             ]
            ],
            "type": "heatmapgl"
           }
          ],
          "histogram": [
           {
            "marker": {
             "colorbar": {
              "outlinewidth": 0,
              "ticks": ""
             }
            },
            "type": "histogram"
           }
          ],
          "histogram2d": [
           {
            "colorbar": {
             "outlinewidth": 0,
             "ticks": ""
            },
            "colorscale": [
             [
              0,
              "#0d0887"
             ],
             [
              0.1111111111111111,
              "#46039f"
             ],
             [
              0.2222222222222222,
              "#7201a8"
             ],
             [
              0.3333333333333333,
              "#9c179e"
             ],
             [
              0.4444444444444444,
              "#bd3786"
             ],
             [
              0.5555555555555556,
              "#d8576b"
             ],
             [
              0.6666666666666666,
              "#ed7953"
             ],
             [
              0.7777777777777778,
              "#fb9f3a"
             ],
             [
              0.8888888888888888,
              "#fdca26"
             ],
             [
              1,
              "#f0f921"
             ]
            ],
            "type": "histogram2d"
           }
          ],
          "histogram2dcontour": [
           {
            "colorbar": {
             "outlinewidth": 0,
             "ticks": ""
            },
            "colorscale": [
             [
              0,
              "#0d0887"
             ],
             [
              0.1111111111111111,
              "#46039f"
             ],
             [
              0.2222222222222222,
              "#7201a8"
             ],
             [
              0.3333333333333333,
              "#9c179e"
             ],
             [
              0.4444444444444444,
              "#bd3786"
             ],
             [
              0.5555555555555556,
              "#d8576b"
             ],
             [
              0.6666666666666666,
              "#ed7953"
             ],
             [
              0.7777777777777778,
              "#fb9f3a"
             ],
             [
              0.8888888888888888,
              "#fdca26"
             ],
             [
              1,
              "#f0f921"
             ]
            ],
            "type": "histogram2dcontour"
           }
          ],
          "mesh3d": [
           {
            "colorbar": {
             "outlinewidth": 0,
             "ticks": ""
            },
            "type": "mesh3d"
           }
          ],
          "parcoords": [
           {
            "line": {
             "colorbar": {
              "outlinewidth": 0,
              "ticks": ""
             }
            },
            "type": "parcoords"
           }
          ],
          "pie": [
           {
            "automargin": true,
            "type": "pie"
           }
          ],
          "scatter": [
           {
            "marker": {
             "colorbar": {
              "outlinewidth": 0,
              "ticks": ""
             }
            },
            "type": "scatter"
           }
          ],
          "scatter3d": [
           {
            "line": {
             "colorbar": {
              "outlinewidth": 0,
              "ticks": ""
             }
            },
            "marker": {
             "colorbar": {
              "outlinewidth": 0,
              "ticks": ""
             }
            },
            "type": "scatter3d"
           }
          ],
          "scattercarpet": [
           {
            "marker": {
             "colorbar": {
              "outlinewidth": 0,
              "ticks": ""
             }
            },
            "type": "scattercarpet"
           }
          ],
          "scattergeo": [
           {
            "marker": {
             "colorbar": {
              "outlinewidth": 0,
              "ticks": ""
             }
            },
            "type": "scattergeo"
           }
          ],
          "scattergl": [
           {
            "marker": {
             "colorbar": {
              "outlinewidth": 0,
              "ticks": ""
             }
            },
            "type": "scattergl"
           }
          ],
          "scattermapbox": [
           {
            "marker": {
             "colorbar": {
              "outlinewidth": 0,
              "ticks": ""
             }
            },
            "type": "scattermapbox"
           }
          ],
          "scatterpolar": [
           {
            "marker": {
             "colorbar": {
              "outlinewidth": 0,
              "ticks": ""
             }
            },
            "type": "scatterpolar"
           }
          ],
          "scatterpolargl": [
           {
            "marker": {
             "colorbar": {
              "outlinewidth": 0,
              "ticks": ""
             }
            },
            "type": "scatterpolargl"
           }
          ],
          "scatterternary": [
           {
            "marker": {
             "colorbar": {
              "outlinewidth": 0,
              "ticks": ""
             }
            },
            "type": "scatterternary"
           }
          ],
          "surface": [
           {
            "colorbar": {
             "outlinewidth": 0,
             "ticks": ""
            },
            "colorscale": [
             [
              0,
              "#0d0887"
             ],
             [
              0.1111111111111111,
              "#46039f"
             ],
             [
              0.2222222222222222,
              "#7201a8"
             ],
             [
              0.3333333333333333,
              "#9c179e"
             ],
             [
              0.4444444444444444,
              "#bd3786"
             ],
             [
              0.5555555555555556,
              "#d8576b"
             ],
             [
              0.6666666666666666,
              "#ed7953"
             ],
             [
              0.7777777777777778,
              "#fb9f3a"
             ],
             [
              0.8888888888888888,
              "#fdca26"
             ],
             [
              1,
              "#f0f921"
             ]
            ],
            "type": "surface"
           }
          ],
          "table": [
           {
            "cells": {
             "fill": {
              "color": "#EBF0F8"
             },
             "line": {
              "color": "white"
             }
            },
            "header": {
             "fill": {
              "color": "#C8D4E3"
             },
             "line": {
              "color": "white"
             }
            },
            "type": "table"
           }
          ]
         },
         "layout": {
          "annotationdefaults": {
           "arrowcolor": "#2a3f5f",
           "arrowhead": 0,
           "arrowwidth": 1
          },
          "coloraxis": {
           "colorbar": {
            "outlinewidth": 0,
            "ticks": ""
           }
          },
          "colorscale": {
           "diverging": [
            [
             0,
             "#8e0152"
            ],
            [
             0.1,
             "#c51b7d"
            ],
            [
             0.2,
             "#de77ae"
            ],
            [
             0.3,
             "#f1b6da"
            ],
            [
             0.4,
             "#fde0ef"
            ],
            [
             0.5,
             "#f7f7f7"
            ],
            [
             0.6,
             "#e6f5d0"
            ],
            [
             0.7,
             "#b8e186"
            ],
            [
             0.8,
             "#7fbc41"
            ],
            [
             0.9,
             "#4d9221"
            ],
            [
             1,
             "#276419"
            ]
           ],
           "sequential": [
            [
             0,
             "#0d0887"
            ],
            [
             0.1111111111111111,
             "#46039f"
            ],
            [
             0.2222222222222222,
             "#7201a8"
            ],
            [
             0.3333333333333333,
             "#9c179e"
            ],
            [
             0.4444444444444444,
             "#bd3786"
            ],
            [
             0.5555555555555556,
             "#d8576b"
            ],
            [
             0.6666666666666666,
             "#ed7953"
            ],
            [
             0.7777777777777778,
             "#fb9f3a"
            ],
            [
             0.8888888888888888,
             "#fdca26"
            ],
            [
             1,
             "#f0f921"
            ]
           ],
           "sequentialminus": [
            [
             0,
             "#0d0887"
            ],
            [
             0.1111111111111111,
             "#46039f"
            ],
            [
             0.2222222222222222,
             "#7201a8"
            ],
            [
             0.3333333333333333,
             "#9c179e"
            ],
            [
             0.4444444444444444,
             "#bd3786"
            ],
            [
             0.5555555555555556,
             "#d8576b"
            ],
            [
             0.6666666666666666,
             "#ed7953"
            ],
            [
             0.7777777777777778,
             "#fb9f3a"
            ],
            [
             0.8888888888888888,
             "#fdca26"
            ],
            [
             1,
             "#f0f921"
            ]
           ]
          },
          "colorway": [
           "#636efa",
           "#EF553B",
           "#00cc96",
           "#ab63fa",
           "#FFA15A",
           "#19d3f3",
           "#FF6692",
           "#B6E880",
           "#FF97FF",
           "#FECB52"
          ],
          "font": {
           "color": "#2a3f5f"
          },
          "geo": {
           "bgcolor": "white",
           "lakecolor": "white",
           "landcolor": "#E5ECF6",
           "showlakes": true,
           "showland": true,
           "subunitcolor": "white"
          },
          "hoverlabel": {
           "align": "left"
          },
          "hovermode": "closest",
          "mapbox": {
           "style": "light"
          },
          "paper_bgcolor": "white",
          "plot_bgcolor": "#E5ECF6",
          "polar": {
           "angularaxis": {
            "gridcolor": "white",
            "linecolor": "white",
            "ticks": ""
           },
           "bgcolor": "#E5ECF6",
           "radialaxis": {
            "gridcolor": "white",
            "linecolor": "white",
            "ticks": ""
           }
          },
          "scene": {
           "xaxis": {
            "backgroundcolor": "#E5ECF6",
            "gridcolor": "white",
            "gridwidth": 2,
            "linecolor": "white",
            "showbackground": true,
            "ticks": "",
            "zerolinecolor": "white"
           },
           "yaxis": {
            "backgroundcolor": "#E5ECF6",
            "gridcolor": "white",
            "gridwidth": 2,
            "linecolor": "white",
            "showbackground": true,
            "ticks": "",
            "zerolinecolor": "white"
           },
           "zaxis": {
            "backgroundcolor": "#E5ECF6",
            "gridcolor": "white",
            "gridwidth": 2,
            "linecolor": "white",
            "showbackground": true,
            "ticks": "",
            "zerolinecolor": "white"
           }
          },
          "shapedefaults": {
           "line": {
            "color": "#2a3f5f"
           }
          },
          "ternary": {
           "aaxis": {
            "gridcolor": "white",
            "linecolor": "white",
            "ticks": ""
           },
           "baxis": {
            "gridcolor": "white",
            "linecolor": "white",
            "ticks": ""
           },
           "bgcolor": "#E5ECF6",
           "caxis": {
            "gridcolor": "white",
            "linecolor": "white",
            "ticks": ""
           }
          },
          "title": {
           "x": 0.05
          },
          "xaxis": {
           "automargin": true,
           "gridcolor": "white",
           "linecolor": "white",
           "ticks": "",
           "title": {
            "standoff": 15
           },
           "zerolinecolor": "white",
           "zerolinewidth": 2
          },
          "yaxis": {
           "automargin": true,
           "gridcolor": "white",
           "linecolor": "white",
           "ticks": "",
           "title": {
            "standoff": 15
           },
           "zerolinecolor": "white",
           "zerolinewidth": 2
          }
         }
        }
       }
      },
      "text/html": [
       "<div>\n",
       "        \n",
       "        \n",
       "            <div id=\"6ddde9e0-4486-42b6-b5b0-c1a162c4ca71\" class=\"plotly-graph-div\" style=\"height:525px; width:100%;\"></div>\n",
       "            <script type=\"text/javascript\">\n",
       "                require([\"plotly\"], function(Plotly) {\n",
       "                    window.PLOTLYENV=window.PLOTLYENV || {};\n",
       "                    \n",
       "                if (document.getElementById(\"6ddde9e0-4486-42b6-b5b0-c1a162c4ca71\")) {\n",
       "                    Plotly.newPlot(\n",
       "                        '6ddde9e0-4486-42b6-b5b0-c1a162c4ca71',\n",
       "                        [{\"branchvalues\": \"total\", \"customdata\": [[\"Andaman and Nicobar Islands\", 33], [\"Andhra Pradesh\", 2018], [\"Arunachal Pradesh\", 1], [\"Assam\", 65], [\"Bihar\", 747], [\"Chandigarh\", 174], [\"Chhattisgarh\", 59], [\"Dadar Nagar Haveli\", 1], [\"Delhi\", 7233], [\"Goa\", 7], [\"Gujarat\", 8541], [\"Haryana\", 730], [\"Himachal Pradesh\", 59], [\"Jammu and Kashmir\", 879], [\"Jharkhand\", 160], [\"Karnataka\", 862], [\"Kerala\", 519], [\"Ladakh\", 42], [\"Madhya Pradesh\", 3785], [\"Maharashtra\", 23401], [\"Manipur\", 2], [\"Meghalaya\", 13], [\"Mizoram\", 1], [\"Nagaland\", 1], [\"Odisha\", 414], [\"Puducherry\", 12], [\"Punjab\", 1877], [\"Rajasthan\", 3988], [\"Tamil Nadu\", 8002], [\"Telengana\", 1275], [\"Tripura\", 152], [\"Uttar Pradesh\", 3573], [\"Uttarakhand\", 68], [\"West Bengal\", 2063], [\"(?)\", 70757]], \"domain\": {\"x\": [0.0, 1.0], \"y\": [0.0, 1.0]}, \"hovertemplate\": \"State=%{customdata[0]}<br>Confirmed=%{color}<br>labels=%{label}<br>parent=%{parent}<br>id=%{id}<extra></extra>\", \"ids\": [\"India/Andaman and Nicobar Islands\", \"India/Andhra Pradesh\", \"India/Arunachal Pradesh\", \"India/Assam\", \"India/Bihar\", \"India/Chandigarh\", \"India/Chhattisgarh\", \"India/Dadar Nagar Haveli\", \"India/Delhi\", \"India/Goa\", \"India/Gujarat\", \"India/Haryana\", \"India/Himachal Pradesh\", \"India/Jammu and Kashmir\", \"India/Jharkhand\", \"India/Karnataka\", \"India/Kerala\", \"India/Ladakh\", \"India/Madhya Pradesh\", \"India/Maharashtra\", \"India/Manipur\", \"India/Meghalaya\", \"India/Mizoram\", \"India/Nagaland\", \"India/Odisha\", \"India/Puducherry\", \"India/Punjab\", \"India/Rajasthan\", \"India/Tamil Nadu\", \"India/Telengana\", \"India/Tripura\", \"India/Uttar Pradesh\", \"India/Uttarakhand\", \"India/West Bengal\", \"India\"], \"labels\": [\"Andaman and Nicobar Islands\", \"Andhra Pradesh\", \"Arunachal Pradesh\", \"Assam\", \"Bihar\", \"Chandigarh\", \"Chhattisgarh\", \"Dadar Nagar Haveli\", \"Delhi\", \"Goa\", \"Gujarat\", \"Haryana\", \"Himachal Pradesh\", \"Jammu and Kashmir\", \"Jharkhand\", \"Karnataka\", \"Kerala\", \"Ladakh\", \"Madhya Pradesh\", \"Maharashtra\", \"Manipur\", \"Meghalaya\", \"Mizoram\", \"Nagaland\", \"Odisha\", \"Puducherry\", \"Punjab\", \"Rajasthan\", \"Tamil Nadu\", \"Telengana\", \"Tripura\", \"Uttar Pradesh\", \"Uttarakhand\", \"West Bengal\", \"India\"], \"marker\": {\"coloraxis\": \"coloraxis\", \"colors\": [33, 2018, 1, 65, 747, 174, 59, 1, 7233, 7, 8541, 730, 59, 879, 160, 862, 519, 42, 3785, 23401, 2, 13, 1, 1, 414, 12, 1877, 3988, 8002, 1275, 152, 3573, 68, 2063, 70757]}, \"name\": \"\", \"parents\": [\"India\", \"India\", \"India\", \"India\", \"India\", \"India\", \"India\", \"India\", \"India\", \"India\", \"India\", \"India\", \"India\", \"India\", \"India\", \"India\", \"India\", \"India\", \"India\", \"India\", \"India\", \"India\", \"India\", \"India\", \"India\", \"India\", \"India\", \"India\", \"India\", \"India\", \"India\", \"India\", \"India\", \"India\", \"\"], \"type\": \"treemap\", \"values\": [33, 2018, 1, 65, 747, 174, 59, 1, 7233, 7, 8541, 730, 59, 879, 160, 862, 519, 42, 3785, 23401, 2, 13, 1, 1, 414, 12, 1877, 3988, 8002, 1275, 152, 3573, 68, 2063, 70757]}],\n",
       "                        {\"coloraxis\": {\"colorbar\": {\"title\": {\"text\": \"Confirmed\"}}, \"colorscale\": [[0.0, \"#0d0887\"], [0.1111111111111111, \"#46039f\"], [0.2222222222222222, \"#7201a8\"], [0.3333333333333333, \"#9c179e\"], [0.4444444444444444, \"#bd3786\"], [0.5555555555555556, \"#d8576b\"], [0.6666666666666666, \"#ed7953\"], [0.7777777777777778, \"#fb9f3a\"], [0.8888888888888888, \"#fdca26\"], [1.0, \"#f0f921\"]]}, \"legend\": {\"tracegroupgap\": 0}, \"margin\": {\"t\": 60}, \"template\": {\"data\": {\"bar\": [{\"error_x\": {\"color\": \"#2a3f5f\"}, \"error_y\": {\"color\": \"#2a3f5f\"}, \"marker\": {\"line\": {\"color\": \"#E5ECF6\", \"width\": 0.5}}, \"type\": \"bar\"}], \"barpolar\": [{\"marker\": {\"line\": {\"color\": \"#E5ECF6\", \"width\": 0.5}}, \"type\": \"barpolar\"}], \"carpet\": [{\"aaxis\": {\"endlinecolor\": \"#2a3f5f\", \"gridcolor\": \"white\", \"linecolor\": \"white\", \"minorgridcolor\": \"white\", \"startlinecolor\": \"#2a3f5f\"}, \"baxis\": {\"endlinecolor\": \"#2a3f5f\", \"gridcolor\": \"white\", \"linecolor\": \"white\", \"minorgridcolor\": \"white\", \"startlinecolor\": \"#2a3f5f\"}, \"type\": \"carpet\"}], \"choropleth\": [{\"colorbar\": {\"outlinewidth\": 0, \"ticks\": \"\"}, \"type\": \"choropleth\"}], \"contour\": [{\"colorbar\": {\"outlinewidth\": 0, \"ticks\": \"\"}, \"colorscale\": [[0.0, \"#0d0887\"], [0.1111111111111111, \"#46039f\"], [0.2222222222222222, \"#7201a8\"], [0.3333333333333333, \"#9c179e\"], [0.4444444444444444, \"#bd3786\"], [0.5555555555555556, \"#d8576b\"], [0.6666666666666666, \"#ed7953\"], [0.7777777777777778, \"#fb9f3a\"], [0.8888888888888888, \"#fdca26\"], [1.0, \"#f0f921\"]], \"type\": \"contour\"}], \"contourcarpet\": [{\"colorbar\": {\"outlinewidth\": 0, \"ticks\": \"\"}, \"type\": \"contourcarpet\"}], \"heatmap\": [{\"colorbar\": {\"outlinewidth\": 0, \"ticks\": \"\"}, \"colorscale\": [[0.0, \"#0d0887\"], [0.1111111111111111, \"#46039f\"], [0.2222222222222222, \"#7201a8\"], [0.3333333333333333, \"#9c179e\"], [0.4444444444444444, \"#bd3786\"], [0.5555555555555556, \"#d8576b\"], [0.6666666666666666, \"#ed7953\"], [0.7777777777777778, \"#fb9f3a\"], [0.8888888888888888, \"#fdca26\"], [1.0, \"#f0f921\"]], \"type\": \"heatmap\"}], \"heatmapgl\": [{\"colorbar\": {\"outlinewidth\": 0, \"ticks\": \"\"}, \"colorscale\": [[0.0, \"#0d0887\"], [0.1111111111111111, \"#46039f\"], [0.2222222222222222, \"#7201a8\"], [0.3333333333333333, \"#9c179e\"], [0.4444444444444444, \"#bd3786\"], [0.5555555555555556, \"#d8576b\"], [0.6666666666666666, \"#ed7953\"], [0.7777777777777778, \"#fb9f3a\"], [0.8888888888888888, \"#fdca26\"], [1.0, \"#f0f921\"]], \"type\": \"heatmapgl\"}], \"histogram\": [{\"marker\": {\"colorbar\": {\"outlinewidth\": 0, \"ticks\": \"\"}}, \"type\": \"histogram\"}], \"histogram2d\": [{\"colorbar\": {\"outlinewidth\": 0, \"ticks\": \"\"}, \"colorscale\": [[0.0, \"#0d0887\"], [0.1111111111111111, \"#46039f\"], [0.2222222222222222, \"#7201a8\"], [0.3333333333333333, \"#9c179e\"], [0.4444444444444444, \"#bd3786\"], [0.5555555555555556, \"#d8576b\"], [0.6666666666666666, \"#ed7953\"], [0.7777777777777778, \"#fb9f3a\"], [0.8888888888888888, \"#fdca26\"], [1.0, \"#f0f921\"]], \"type\": \"histogram2d\"}], \"histogram2dcontour\": [{\"colorbar\": {\"outlinewidth\": 0, \"ticks\": \"\"}, \"colorscale\": [[0.0, \"#0d0887\"], [0.1111111111111111, \"#46039f\"], [0.2222222222222222, \"#7201a8\"], [0.3333333333333333, \"#9c179e\"], [0.4444444444444444, \"#bd3786\"], [0.5555555555555556, \"#d8576b\"], [0.6666666666666666, \"#ed7953\"], [0.7777777777777778, \"#fb9f3a\"], [0.8888888888888888, \"#fdca26\"], [1.0, \"#f0f921\"]], \"type\": \"histogram2dcontour\"}], \"mesh3d\": [{\"colorbar\": {\"outlinewidth\": 0, \"ticks\": \"\"}, \"type\": \"mesh3d\"}], \"parcoords\": [{\"line\": {\"colorbar\": {\"outlinewidth\": 0, \"ticks\": \"\"}}, \"type\": \"parcoords\"}], \"pie\": [{\"automargin\": true, \"type\": \"pie\"}], \"scatter\": [{\"marker\": {\"colorbar\": {\"outlinewidth\": 0, \"ticks\": \"\"}}, \"type\": \"scatter\"}], \"scatter3d\": [{\"line\": {\"colorbar\": {\"outlinewidth\": 0, \"ticks\": \"\"}}, \"marker\": {\"colorbar\": {\"outlinewidth\": 0, \"ticks\": \"\"}}, \"type\": \"scatter3d\"}], \"scattercarpet\": [{\"marker\": {\"colorbar\": {\"outlinewidth\": 0, \"ticks\": \"\"}}, \"type\": \"scattercarpet\"}], \"scattergeo\": [{\"marker\": {\"colorbar\": {\"outlinewidth\": 0, \"ticks\": \"\"}}, \"type\": \"scattergeo\"}], \"scattergl\": [{\"marker\": {\"colorbar\": {\"outlinewidth\": 0, \"ticks\": \"\"}}, \"type\": \"scattergl\"}], \"scattermapbox\": [{\"marker\": {\"colorbar\": {\"outlinewidth\": 0, \"ticks\": \"\"}}, \"type\": \"scattermapbox\"}], \"scatterpolar\": [{\"marker\": {\"colorbar\": {\"outlinewidth\": 0, \"ticks\": \"\"}}, \"type\": \"scatterpolar\"}], \"scatterpolargl\": [{\"marker\": {\"colorbar\": {\"outlinewidth\": 0, \"ticks\": \"\"}}, \"type\": \"scatterpolargl\"}], \"scatterternary\": [{\"marker\": {\"colorbar\": {\"outlinewidth\": 0, \"ticks\": \"\"}}, \"type\": \"scatterternary\"}], \"surface\": [{\"colorbar\": {\"outlinewidth\": 0, \"ticks\": \"\"}, \"colorscale\": [[0.0, \"#0d0887\"], [0.1111111111111111, \"#46039f\"], [0.2222222222222222, \"#7201a8\"], [0.3333333333333333, \"#9c179e\"], [0.4444444444444444, \"#bd3786\"], [0.5555555555555556, \"#d8576b\"], [0.6666666666666666, \"#ed7953\"], [0.7777777777777778, \"#fb9f3a\"], [0.8888888888888888, \"#fdca26\"], [1.0, \"#f0f921\"]], \"type\": \"surface\"}], \"table\": [{\"cells\": {\"fill\": {\"color\": \"#EBF0F8\"}, \"line\": {\"color\": \"white\"}}, \"header\": {\"fill\": {\"color\": \"#C8D4E3\"}, \"line\": {\"color\": \"white\"}}, \"type\": \"table\"}]}, \"layout\": {\"annotationdefaults\": {\"arrowcolor\": \"#2a3f5f\", \"arrowhead\": 0, \"arrowwidth\": 1}, \"coloraxis\": {\"colorbar\": {\"outlinewidth\": 0, \"ticks\": \"\"}}, \"colorscale\": {\"diverging\": [[0, \"#8e0152\"], [0.1, \"#c51b7d\"], [0.2, \"#de77ae\"], [0.3, \"#f1b6da\"], [0.4, \"#fde0ef\"], [0.5, \"#f7f7f7\"], [0.6, \"#e6f5d0\"], [0.7, \"#b8e186\"], [0.8, \"#7fbc41\"], [0.9, \"#4d9221\"], [1, \"#276419\"]], \"sequential\": [[0.0, \"#0d0887\"], [0.1111111111111111, \"#46039f\"], [0.2222222222222222, \"#7201a8\"], [0.3333333333333333, \"#9c179e\"], [0.4444444444444444, \"#bd3786\"], [0.5555555555555556, \"#d8576b\"], [0.6666666666666666, \"#ed7953\"], [0.7777777777777778, \"#fb9f3a\"], [0.8888888888888888, \"#fdca26\"], [1.0, \"#f0f921\"]], \"sequentialminus\": [[0.0, \"#0d0887\"], [0.1111111111111111, \"#46039f\"], [0.2222222222222222, \"#7201a8\"], [0.3333333333333333, \"#9c179e\"], [0.4444444444444444, \"#bd3786\"], [0.5555555555555556, \"#d8576b\"], [0.6666666666666666, \"#ed7953\"], [0.7777777777777778, \"#fb9f3a\"], [0.8888888888888888, \"#fdca26\"], [1.0, \"#f0f921\"]]}, \"colorway\": [\"#636efa\", \"#EF553B\", \"#00cc96\", \"#ab63fa\", \"#FFA15A\", \"#19d3f3\", \"#FF6692\", \"#B6E880\", \"#FF97FF\", \"#FECB52\"], \"font\": {\"color\": \"#2a3f5f\"}, \"geo\": {\"bgcolor\": \"white\", \"lakecolor\": \"white\", \"landcolor\": \"#E5ECF6\", \"showlakes\": true, \"showland\": true, \"subunitcolor\": \"white\"}, \"hoverlabel\": {\"align\": \"left\"}, \"hovermode\": \"closest\", \"mapbox\": {\"style\": \"light\"}, \"paper_bgcolor\": \"white\", \"plot_bgcolor\": \"#E5ECF6\", \"polar\": {\"angularaxis\": {\"gridcolor\": \"white\", \"linecolor\": \"white\", \"ticks\": \"\"}, \"bgcolor\": \"#E5ECF6\", \"radialaxis\": {\"gridcolor\": \"white\", \"linecolor\": \"white\", \"ticks\": \"\"}}, \"scene\": {\"xaxis\": {\"backgroundcolor\": \"#E5ECF6\", \"gridcolor\": \"white\", \"gridwidth\": 2, \"linecolor\": \"white\", \"showbackground\": true, \"ticks\": \"\", \"zerolinecolor\": \"white\"}, \"yaxis\": {\"backgroundcolor\": \"#E5ECF6\", \"gridcolor\": \"white\", \"gridwidth\": 2, \"linecolor\": \"white\", \"showbackground\": true, \"ticks\": \"\", \"zerolinecolor\": \"white\"}, \"zaxis\": {\"backgroundcolor\": \"#E5ECF6\", \"gridcolor\": \"white\", \"gridwidth\": 2, \"linecolor\": \"white\", \"showbackground\": true, \"ticks\": \"\", \"zerolinecolor\": \"white\"}}, \"shapedefaults\": {\"line\": {\"color\": \"#2a3f5f\"}}, \"ternary\": {\"aaxis\": {\"gridcolor\": \"white\", \"linecolor\": \"white\", \"ticks\": \"\"}, \"baxis\": {\"gridcolor\": \"white\", \"linecolor\": \"white\", \"ticks\": \"\"}, \"bgcolor\": \"#E5ECF6\", \"caxis\": {\"gridcolor\": \"white\", \"linecolor\": \"white\", \"ticks\": \"\"}}, \"title\": {\"x\": 0.05}, \"xaxis\": {\"automargin\": true, \"gridcolor\": \"white\", \"linecolor\": \"white\", \"ticks\": \"\", \"title\": {\"standoff\": 15}, \"zerolinecolor\": \"white\", \"zerolinewidth\": 2}, \"yaxis\": {\"automargin\": true, \"gridcolor\": \"white\", \"linecolor\": \"white\", \"ticks\": \"\", \"title\": {\"standoff\": 15}, \"zerolinecolor\": \"white\", \"zerolinewidth\": 2}}}},\n",
       "                        {\"responsive\": true}\n",
       "                    ).then(function(){\n",
       "                            \n",
       "var gd = document.getElementById('6ddde9e0-4486-42b6-b5b0-c1a162c4ca71');\n",
       "var x = new MutationObserver(function (mutations, observer) {{\n",
       "        var display = window.getComputedStyle(gd).display;\n",
       "        if (!display || display === 'none') {{\n",
       "            console.log([gd, 'removed!']);\n",
       "            Plotly.purge(gd);\n",
       "            observer.disconnect();\n",
       "        }}\n",
       "}});\n",
       "\n",
       "// Listen for the removal of the full notebook cells\n",
       "var notebookContainer = gd.closest('#notebook-container');\n",
       "if (notebookContainer) {{\n",
       "    x.observe(notebookContainer, {childList: true});\n",
       "}}\n",
       "\n",
       "// Listen for the clearing of the current output cell\n",
       "var outputEl = gd.closest('.output');\n",
       "if (outputEl) {{\n",
       "    x.observe(outputEl, {childList: true});\n",
       "}}\n",
       "\n",
       "                        })\n",
       "                };\n",
       "                });\n",
       "            </script>\n",
       "        </div>"
      ]
     },
     "metadata": {},
     "output_type": "display_data"
    }
   ],
   "source": [
    "\n",
    "statewise_cases = pd.DataFrame(india_covid_19.groupby(['State'])['Confirmed', 'Deaths', 'Recovered'].max().reset_index())\n",
    "statewise_cases[\"Country\"] = \"India\" \n",
    "fig = px.treemap(statewise_cases, path=['Country','State'], values='Confirmed',color='Confirmed', hover_data=['State'])\n",
    "fig.show()"
   ]
  },
  {
   "cell_type": "markdown",
   "metadata": {},
   "source": [
    "**Gender-wise distribution of the COVID-2019 cases**<br>\n",
    "The figure shows the cases are more than double in Males than Females"
   ]
  },
  {
   "cell_type": "code",
   "execution_count": 38,
   "metadata": {},
   "outputs": [
    {
     "data": {
      "image/png": "[encoded data removed]",
      "text/plain": [
       "<Figure size 576x576 with 1 Axes>"
      ]
     },
     "metadata": {},
     "output_type": "display_data"
    }
   ],
   "source": [
    "labels = ['Male', 'Female']\n",
    "sizes = []\n",
    "sizes.append(list(individual_details['gender'].value_counts())[0])\n",
    "sizes.append(list(individual_details['gender'].value_counts())[1])\n",
    "explode = (0.05, 0)\n",
    "colors = ['#ffcc99','#66b3ff']\n",
    "plt.figure(figsize= (8,8))\n",
    "plt.pie(sizes, explode=explode, labels=labels,colors=colors, autopct='%1.1f',startangle=90)\n",
    "plt.title('Percentage of Gender (Ignoring the Missing Values)',fontsize = 10)\n",
    "plt.show ()"
   ]
  },
  {
   "cell_type": "markdown",
   "metadata": {},
   "source": [
    "**Age-wise distribution of the COVID-2019 cases**<br>\n",
    "The cases are more common in elderly population as seen in the graph below"
   ]
  },
  {
   "cell_type": "code",
   "execution_count": 39,
   "metadata": {},
   "outputs": [
    {
     "data": {
      "image/png": "[encoded data removed]",
      "text/plain": [
       "<Figure size 720x720 with 1 Axes>"
      ]
     },
     "metadata": {},
     "output_type": "display_data"
    }
   ],
   "source": [
    "fig = plt.figure(figsize=(10,10))\n",
    "age_dist_india = age_group.groupby('AgeGroup')['Sno'].sum().sort_values(ascending=False)\n",
    "def absolute_value(val):\n",
    "    a  = val\n",
    "    return (np.round(a,2))\n",
    "age_dist_india.plot(kind=\"pie\",title='Case Distribution by Age',autopct=absolute_value,colormap='Paired',startangle=90)\n",
    "\n",
    "plt.show ()"
   ]
  },
  {
   "cell_type": "markdown",
   "metadata": {},
   "source": [
    "**Statewise Recovery and Death Rate in India**<br>\n",
    "1)Maharashtra has the highest number of Confirmed cases in India<br>\n",
    "2) Kerala has highest recovery rate among the top 20 hotspot states in India <br>\n",
    "3)We have 5 Green states (COVID-19-free) now in India <br>\n",
    "4)West Bengal has the highest death rate."
   ]
  },
  {
   "cell_type": "code",
   "execution_count": 40,
   "metadata": {},
   "outputs": [],
   "source": [
    "india_covid_19['Deaths']=india_covid_19['Deaths'].astype('int')"
   ]
  },
  {
   "cell_type": "code",
   "execution_count": 41,
   "metadata": {},
   "outputs": [
    {
     "data": {
      "text/html": [
       "<style  type=\"text/css\" >\n",
       "    #T_96a4ecd0_9463_11ea_af13_663baf2e524arow0_col0 {\n",
       "            background-color:  #3f007d;\n",
       "            color:  #f1f1f1;\n",
       "        }    #T_96a4ecd0_9463_11ea_af13_663baf2e524arow0_col1 {\n",
       "            background-color:  #3f007d;\n",
       "            color:  #f1f1f1;\n",
       "        }    #T_96a4ecd0_9463_11ea_af13_663baf2e524arow0_col2 {\n",
       "            background-color:  #3f007d;\n",
       "            color:  #f1f1f1;\n",
       "        }    #T_96a4ecd0_9463_11ea_af13_663baf2e524arow0_col3 {\n",
       "            background-color:  #e2e2ef;\n",
       "            color:  #000000;\n",
       "        }    #T_96a4ecd0_9463_11ea_af13_663baf2e524arow0_col4 {\n",
       "            background-color:  #acaad1;\n",
       "            color:  #000000;\n",
       "        }    #T_96a4ecd0_9463_11ea_af13_663baf2e524arow1_col0 {\n",
       "            background-color:  #bebfdd;\n",
       "            color:  #000000;\n",
       "        }    #T_96a4ecd0_9463_11ea_af13_663baf2e524arow1_col1 {\n",
       "            background-color:  #8885be;\n",
       "            color:  #000000;\n",
       "        }    #T_96a4ecd0_9463_11ea_af13_663baf2e524arow1_col2 {\n",
       "            background-color:  #8b87bf;\n",
       "            color:  #000000;\n",
       "        }    #T_96a4ecd0_9463_11ea_af13_663baf2e524arow1_col3 {\n",
       "            background-color:  #c7c8e1;\n",
       "            color:  #000000;\n",
       "        }    #T_96a4ecd0_9463_11ea_af13_663baf2e524arow1_col4 {\n",
       "            background-color:  #796eb2;\n",
       "            color:  #000000;\n",
       "        }    #T_96a4ecd0_9463_11ea_af13_663baf2e524arow2_col0 {\n",
       "            background-color:  #c4c5e0;\n",
       "            color:  #000000;\n",
       "        }    #T_96a4ecd0_9463_11ea_af13_663baf2e524arow2_col1 {\n",
       "            background-color:  #f6f4f9;\n",
       "            color:  #000000;\n",
       "        }    #T_96a4ecd0_9463_11ea_af13_663baf2e524arow2_col2 {\n",
       "            background-color:  #afaed4;\n",
       "            color:  #000000;\n",
       "        }    #T_96a4ecd0_9463_11ea_af13_663baf2e524arow2_col3 {\n",
       "            background-color:  #d8d8ea;\n",
       "            color:  #000000;\n",
       "        }    #T_96a4ecd0_9463_11ea_af13_663baf2e524arow2_col4 {\n",
       "            background-color:  #f1eff6;\n",
       "            color:  #000000;\n",
       "        }    #T_96a4ecd0_9463_11ea_af13_663baf2e524arow3_col0 {\n",
       "            background-color:  #cccce4;\n",
       "            color:  #000000;\n",
       "        }    #T_96a4ecd0_9463_11ea_af13_663baf2e524arow3_col1 {\n",
       "            background-color:  #f3f2f8;\n",
       "            color:  #000000;\n",
       "        }    #T_96a4ecd0_9463_11ea_af13_663baf2e524arow3_col2 {\n",
       "            background-color:  #acaad1;\n",
       "            color:  #000000;\n",
       "        }    #T_96a4ecd0_9463_11ea_af13_663baf2e524arow3_col3 {\n",
       "            background-color:  #d0d1e6;\n",
       "            color:  #000000;\n",
       "        }    #T_96a4ecd0_9463_11ea_af13_663baf2e524arow3_col4 {\n",
       "            background-color:  #f1eff6;\n",
       "            color:  #000000;\n",
       "        }    #T_96a4ecd0_9463_11ea_af13_663baf2e524arow4_col0 {\n",
       "            background-color:  #e8e6f2;\n",
       "            color:  #000000;\n",
       "        }    #T_96a4ecd0_9463_11ea_af13_663baf2e524arow4_col1 {\n",
       "            background-color:  #eeecf5;\n",
       "            color:  #000000;\n",
       "        }    #T_96a4ecd0_9463_11ea_af13_663baf2e524arow4_col2 {\n",
       "            background-color:  #a4a1cc;\n",
       "            color:  #000000;\n",
       "        }    #T_96a4ecd0_9463_11ea_af13_663baf2e524arow4_col3 {\n",
       "            background-color:  #8e8ac0;\n",
       "            color:  #000000;\n",
       "        }    #T_96a4ecd0_9463_11ea_af13_663baf2e524arow4_col4 {\n",
       "            background-color:  #c6c7e1;\n",
       "            color:  #000000;\n",
       "        }    #T_96a4ecd0_9463_11ea_af13_663baf2e524arow5_col0 {\n",
       "            background-color:  #e9e8f2;\n",
       "            color:  #000000;\n",
       "        }    #T_96a4ecd0_9463_11ea_af13_663baf2e524arow5_col1 {\n",
       "            background-color:  #d9d9ea;\n",
       "            color:  #000000;\n",
       "        }    #T_96a4ecd0_9463_11ea_af13_663baf2e524arow5_col2 {\n",
       "            background-color:  #bebfdd;\n",
       "            color:  #000000;\n",
       "        }    #T_96a4ecd0_9463_11ea_af13_663baf2e524arow5_col3 {\n",
       "            background-color:  #a8a6cf;\n",
       "            color:  #000000;\n",
       "        }    #T_96a4ecd0_9463_11ea_af13_663baf2e524arow5_col4 {\n",
       "            background-color:  #796eb2;\n",
       "            color:  #000000;\n",
       "        }    #T_96a4ecd0_9463_11ea_af13_663baf2e524arow6_col0 {\n",
       "            background-color:  #eae9f3;\n",
       "            color:  #000000;\n",
       "        }    #T_96a4ecd0_9463_11ea_af13_663baf2e524arow6_col1 {\n",
       "            background-color:  #f3f1f7;\n",
       "            color:  #000000;\n",
       "        }    #T_96a4ecd0_9463_11ea_af13_663baf2e524arow6_col2 {\n",
       "            background-color:  #bebedd;\n",
       "            color:  #000000;\n",
       "        }    #T_96a4ecd0_9463_11ea_af13_663baf2e524arow6_col3 {\n",
       "            background-color:  #a09dca;\n",
       "            color:  #000000;\n",
       "        }    #T_96a4ecd0_9463_11ea_af13_663baf2e524arow6_col4 {\n",
       "            background-color:  #dfdfed;\n",
       "            color:  #000000;\n",
       "        }    #T_96a4ecd0_9463_11ea_af13_663baf2e524arow7_col0 {\n",
       "            background-color:  #f3f1f7;\n",
       "            color:  #000000;\n",
       "        }    #T_96a4ecd0_9463_11ea_af13_663baf2e524arow7_col1 {\n",
       "            background-color:  #dfdfed;\n",
       "            color:  #000000;\n",
       "        }    #T_96a4ecd0_9463_11ea_af13_663baf2e524arow7_col2 {\n",
       "            background-color:  #f1f0f6;\n",
       "            color:  #000000;\n",
       "        }    #T_96a4ecd0_9463_11ea_af13_663baf2e524arow7_col3 {\n",
       "            background-color:  #dcdcec;\n",
       "            color:  #000000;\n",
       "        }    #T_96a4ecd0_9463_11ea_af13_663baf2e524arow7_col4 {\n",
       "            background-color:  #3f007d;\n",
       "            color:  #f1f1f1;\n",
       "        }    #T_96a4ecd0_9463_11ea_af13_663baf2e524arow8_col0 {\n",
       "            background-color:  #f3f1f7;\n",
       "            color:  #000000;\n",
       "        }    #T_96a4ecd0_9463_11ea_af13_663baf2e524arow8_col1 {\n",
       "            background-color:  #f7f5fa;\n",
       "            color:  #000000;\n",
       "        }    #T_96a4ecd0_9463_11ea_af13_663baf2e524arow8_col2 {\n",
       "            background-color:  #e2e1ef;\n",
       "            color:  #000000;\n",
       "        }    #T_96a4ecd0_9463_11ea_af13_663baf2e524arow8_col3 {\n",
       "            background-color:  #a3a0cb;\n",
       "            color:  #000000;\n",
       "        }    #T_96a4ecd0_9463_11ea_af13_663baf2e524arow8_col4 {\n",
       "            background-color:  #dfdfed;\n",
       "            color:  #000000;\n",
       "        }    #T_96a4ecd0_9463_11ea_af13_663baf2e524arow9_col0 {\n",
       "            background-color:  #f4f2f8;\n",
       "            color:  #000000;\n",
       "        }    #T_96a4ecd0_9463_11ea_af13_663baf2e524arow9_col1 {\n",
       "            background-color:  #f8f7fb;\n",
       "            color:  #000000;\n",
       "        }    #T_96a4ecd0_9463_11ea_af13_663baf2e524arow9_col2 {\n",
       "            background-color:  #f9f7fb;\n",
       "            color:  #000000;\n",
       "        }    #T_96a4ecd0_9463_11ea_af13_663baf2e524arow9_col3 {\n",
       "            background-color:  #f3f1f7;\n",
       "            color:  #000000;\n",
       "        }    #T_96a4ecd0_9463_11ea_af13_663baf2e524arow9_col4 {\n",
       "            background-color:  #dfdfed;\n",
       "            color:  #000000;\n",
       "        }    #T_96a4ecd0_9463_11ea_af13_663baf2e524arow10_col0 {\n",
       "            background-color:  #f7f5fa;\n",
       "            color:  #000000;\n",
       "        }    #T_96a4ecd0_9463_11ea_af13_663baf2e524arow10_col1 {\n",
       "            background-color:  #f9f7fb;\n",
       "            color:  #000000;\n",
       "        }    #T_96a4ecd0_9463_11ea_af13_663baf2e524arow10_col2 {\n",
       "            background-color:  #e8e7f2;\n",
       "            color:  #000000;\n",
       "        }    #T_96a4ecd0_9463_11ea_af13_663baf2e524arow10_col3 {\n",
       "            background-color:  #7f7bb9;\n",
       "            color:  #000000;\n",
       "        }    #T_96a4ecd0_9463_11ea_af13_663baf2e524arow10_col4 {\n",
       "            background-color:  #dfdfed;\n",
       "            color:  #000000;\n",
       "        }    #T_96a4ecd0_9463_11ea_af13_663baf2e524arow11_col0 {\n",
       "            background-color:  #f8f7fb;\n",
       "            color:  #000000;\n",
       "        }    #T_96a4ecd0_9463_11ea_af13_663baf2e524arow11_col1 {\n",
       "            background-color:  #fbfafc;\n",
       "            color:  #000000;\n",
       "        }    #T_96a4ecd0_9463_11ea_af13_663baf2e524arow11_col2 {\n",
       "            background-color:  #f3f1f7;\n",
       "            color:  #000000;\n",
       "        }    #T_96a4ecd0_9463_11ea_af13_663baf2e524arow11_col3 {\n",
       "            background-color:  #a09dca;\n",
       "            color:  #000000;\n",
       "        }    #T_96a4ecd0_9463_11ea_af13_663baf2e524arow11_col4 {\n",
       "            background-color:  #f1eff6;\n",
       "            color:  #000000;\n",
       "        }    #T_96a4ecd0_9463_11ea_af13_663baf2e524arow12_col0 {\n",
       "            background-color:  #f8f7fb;\n",
       "            color:  #000000;\n",
       "        }    #T_96a4ecd0_9463_11ea_af13_663baf2e524arow12_col1 {\n",
       "            background-color:  #f8f7fb;\n",
       "            color:  #000000;\n",
       "        }    #T_96a4ecd0_9463_11ea_af13_663baf2e524arow12_col2 {\n",
       "            background-color:  #f3f1f7;\n",
       "            color:  #000000;\n",
       "        }    #T_96a4ecd0_9463_11ea_af13_663baf2e524arow12_col3 {\n",
       "            background-color:  #a09dca;\n",
       "            color:  #000000;\n",
       "        }    #T_96a4ecd0_9463_11ea_af13_663baf2e524arow12_col4 {\n",
       "            background-color:  #acaad1;\n",
       "            color:  #000000;\n",
       "        }    #T_96a4ecd0_9463_11ea_af13_663baf2e524arow13_col0 {\n",
       "            background-color:  #f9f7fb;\n",
       "            color:  #000000;\n",
       "        }    #T_96a4ecd0_9463_11ea_af13_663baf2e524arow13_col1 {\n",
       "            background-color:  #fcfbfd;\n",
       "            color:  #000000;\n",
       "        }    #T_96a4ecd0_9463_11ea_af13_663baf2e524arow13_col2 {\n",
       "            background-color:  #f4f2f8;\n",
       "            color:  #000000;\n",
       "        }    #T_96a4ecd0_9463_11ea_af13_663baf2e524arow13_col3 {\n",
       "            background-color:  #9e9ac8;\n",
       "            color:  #000000;\n",
       "        }    #T_96a4ecd0_9463_11ea_af13_663baf2e524arow13_col4 {\n",
       "            background-color:  #f1eff6;\n",
       "            color:  #000000;\n",
       "        }    #T_96a4ecd0_9463_11ea_af13_663baf2e524arow14_col0 {\n",
       "            background-color:  #f9f8fb;\n",
       "            color:  #000000;\n",
       "        }    #T_96a4ecd0_9463_11ea_af13_663baf2e524arow14_col1 {\n",
       "            background-color:  #fbfafc;\n",
       "            color:  #000000;\n",
       "        }    #T_96a4ecd0_9463_11ea_af13_663baf2e524arow14_col2 {\n",
       "            background-color:  #f5f3f8;\n",
       "            color:  #000000;\n",
       "        }    #T_96a4ecd0_9463_11ea_af13_663baf2e524arow14_col3 {\n",
       "            background-color:  #a8a6cf;\n",
       "            color:  #000000;\n",
       "        }    #T_96a4ecd0_9463_11ea_af13_663baf2e524arow14_col4 {\n",
       "            background-color:  #dfdfed;\n",
       "            color:  #000000;\n",
       "        }    #T_96a4ecd0_9463_11ea_af13_663baf2e524arow15_col0 {\n",
       "            background-color:  #faf9fc;\n",
       "            color:  #000000;\n",
       "        }    #T_96a4ecd0_9463_11ea_af13_663baf2e524arow15_col1 {\n",
       "            background-color:  #fcfbfd;\n",
       "            color:  #000000;\n",
       "        }    #T_96a4ecd0_9463_11ea_af13_663baf2e524arow15_col2 {\n",
       "            background-color:  #f1f0f6;\n",
       "            color:  #000000;\n",
       "        }    #T_96a4ecd0_9463_11ea_af13_663baf2e524arow15_col3 {\n",
       "            background-color:  #491285;\n",
       "            color:  #f1f1f1;\n",
       "        }    #T_96a4ecd0_9463_11ea_af13_663baf2e524arow15_col4 {\n",
       "            background-color:  #f1eff6;\n",
       "            color:  #000000;\n",
       "        }    #T_96a4ecd0_9463_11ea_af13_663baf2e524arow16_col0 {\n",
       "            background-color:  #faf9fc;\n",
       "            color:  #000000;\n",
       "        }    #T_96a4ecd0_9463_11ea_af13_663baf2e524arow16_col1 {\n",
       "            background-color:  #fcfbfd;\n",
       "            color:  #000000;\n",
       "        }    #T_96a4ecd0_9463_11ea_af13_663baf2e524arow16_col2 {\n",
       "            background-color:  #faf9fc;\n",
       "            color:  #000000;\n",
       "        }    #T_96a4ecd0_9463_11ea_af13_663baf2e524arow16_col3 {\n",
       "            background-color:  #e1e0ee;\n",
       "            color:  #000000;\n",
       "        }    #T_96a4ecd0_9463_11ea_af13_663baf2e524arow16_col4 {\n",
       "            background-color:  #f1eff6;\n",
       "            color:  #000000;\n",
       "        }    #T_96a4ecd0_9463_11ea_af13_663baf2e524arow17_col0 {\n",
       "            background-color:  #fcfbfd;\n",
       "            color:  #000000;\n",
       "        }    #T_96a4ecd0_9463_11ea_af13_663baf2e524arow17_col1 {\n",
       "            background-color:  #fcfbfd;\n",
       "            color:  #000000;\n",
       "        }    #T_96a4ecd0_9463_11ea_af13_663baf2e524arow17_col2 {\n",
       "            background-color:  #fcfbfd;\n",
       "            color:  #000000;\n",
       "        }    #T_96a4ecd0_9463_11ea_af13_663baf2e524arow17_col3 {\n",
       "            background-color:  #edebf4;\n",
       "            color:  #000000;\n",
       "        }    #T_96a4ecd0_9463_11ea_af13_663baf2e524arow17_col4 {\n",
       "            background-color:  #f1eff6;\n",
       "            color:  #000000;\n",
       "        }    #T_96a4ecd0_9463_11ea_af13_663baf2e524arow18_col0 {\n",
       "            background-color:  #fcfbfd;\n",
       "            color:  #000000;\n",
       "        }    #T_96a4ecd0_9463_11ea_af13_663baf2e524arow18_col1 {\n",
       "            background-color:  #fcfbfd;\n",
       "            color:  #000000;\n",
       "        }    #T_96a4ecd0_9463_11ea_af13_663baf2e524arow18_col2 {\n",
       "            background-color:  #faf9fc;\n",
       "            color:  #000000;\n",
       "        }    #T_96a4ecd0_9463_11ea_af13_663baf2e524arow18_col3 {\n",
       "            background-color:  #a09dca;\n",
       "            color:  #000000;\n",
       "        }    #T_96a4ecd0_9463_11ea_af13_663baf2e524arow18_col4 {\n",
       "            background-color:  #dfdfed;\n",
       "            color:  #000000;\n",
       "        }    #T_96a4ecd0_9463_11ea_af13_663baf2e524arow19_col0 {\n",
       "            background-color:  #fcfbfd;\n",
       "            color:  #000000;\n",
       "        }    #T_96a4ecd0_9463_11ea_af13_663baf2e524arow19_col1 {\n",
       "            background-color:  #fcfbfd;\n",
       "            color:  #000000;\n",
       "        }    #T_96a4ecd0_9463_11ea_af13_663baf2e524arow19_col2 {\n",
       "            background-color:  #fcfbfd;\n",
       "            color:  #000000;\n",
       "        }    #T_96a4ecd0_9463_11ea_af13_663baf2e524arow19_col3 {\n",
       "            background-color:  #fbfafc;\n",
       "            color:  #000000;\n",
       "        }    #T_96a4ecd0_9463_11ea_af13_663baf2e524arow19_col4 {\n",
       "            background-color:  #fcfbfd;\n",
       "            color:  #000000;\n",
       "        }    #T_96a4ecd0_9463_11ea_af13_663baf2e524arow20_col0 {\n",
       "            background-color:  #fcfbfd;\n",
       "            color:  #000000;\n",
       "        }    #T_96a4ecd0_9463_11ea_af13_663baf2e524arow20_col1 {\n",
       "            background-color:  #fcfbfd;\n",
       "            color:  #000000;\n",
       "        }    #T_96a4ecd0_9463_11ea_af13_663baf2e524arow20_col2 {\n",
       "            background-color:  #fbfafc;\n",
       "            color:  #000000;\n",
       "        }    #T_96a4ecd0_9463_11ea_af13_663baf2e524arow20_col3 {\n",
       "            background-color:  #7669af;\n",
       "            color:  #000000;\n",
       "        }    #T_96a4ecd0_9463_11ea_af13_663baf2e524arow20_col4 {\n",
       "            background-color:  #f1eff6;\n",
       "            color:  #000000;\n",
       "        }    #T_96a4ecd0_9463_11ea_af13_663baf2e524arow21_col0 {\n",
       "            background-color:  #fcfbfd;\n",
       "            color:  #000000;\n",
       "        }    #T_96a4ecd0_9463_11ea_af13_663baf2e524arow21_col1 {\n",
       "            background-color:  #fcfbfd;\n",
       "            color:  #000000;\n",
       "        }    #T_96a4ecd0_9463_11ea_af13_663baf2e524arow21_col2 {\n",
       "            background-color:  #fcfbfd;\n",
       "            color:  #000000;\n",
       "        }    #T_96a4ecd0_9463_11ea_af13_663baf2e524arow21_col3 {\n",
       "            background-color:  #9995c6;\n",
       "            color:  #000000;\n",
       "        }    #T_96a4ecd0_9463_11ea_af13_663baf2e524arow21_col4 {\n",
       "            background-color:  #c6c7e1;\n",
       "            color:  #000000;\n",
       "        }    #T_96a4ecd0_9463_11ea_af13_663baf2e524arow22_col0 {\n",
       "            background-color:  #fcfbfd;\n",
       "            color:  #000000;\n",
       "        }    #T_96a4ecd0_9463_11ea_af13_663baf2e524arow22_col1 {\n",
       "            background-color:  #fcfbfd;\n",
       "            color:  #000000;\n",
       "        }    #T_96a4ecd0_9463_11ea_af13_663baf2e524arow22_col2 {\n",
       "            background-color:  #fbfafc;\n",
       "            color:  #000000;\n",
       "        }    #T_96a4ecd0_9463_11ea_af13_663baf2e524arow22_col3 {\n",
       "            background-color:  #4f1f8b;\n",
       "            color:  #f1f1f1;\n",
       "        }    #T_96a4ecd0_9463_11ea_af13_663baf2e524arow22_col4 {\n",
       "            background-color:  #fcfbfd;\n",
       "            color:  #000000;\n",
       "        }    #T_96a4ecd0_9463_11ea_af13_663baf2e524arow23_col0 {\n",
       "            background-color:  #fcfbfd;\n",
       "            color:  #000000;\n",
       "        }    #T_96a4ecd0_9463_11ea_af13_663baf2e524arow23_col1 {\n",
       "            background-color:  #fcfbfd;\n",
       "            color:  #000000;\n",
       "        }    #T_96a4ecd0_9463_11ea_af13_663baf2e524arow23_col2 {\n",
       "            background-color:  #fbfafc;\n",
       "            color:  #000000;\n",
       "        }    #T_96a4ecd0_9463_11ea_af13_663baf2e524arow23_col3 {\n",
       "            background-color:  #7a71b4;\n",
       "            color:  #000000;\n",
       "        }    #T_96a4ecd0_9463_11ea_af13_663baf2e524arow23_col4 {\n",
       "            background-color:  #c6c7e1;\n",
       "            color:  #000000;\n",
       "        }    #T_96a4ecd0_9463_11ea_af13_663baf2e524arow24_col0 {\n",
       "            background-color:  #fcfbfd;\n",
       "            color:  #000000;\n",
       "        }    #T_96a4ecd0_9463_11ea_af13_663baf2e524arow24_col1 {\n",
       "            background-color:  #fcfbfd;\n",
       "            color:  #000000;\n",
       "        }    #T_96a4ecd0_9463_11ea_af13_663baf2e524arow24_col2 {\n",
       "            background-color:  #fcfbfd;\n",
       "            color:  #000000;\n",
       "        }    #T_96a4ecd0_9463_11ea_af13_663baf2e524arow24_col3 {\n",
       "            background-color:  #9e9ac8;\n",
       "            color:  #000000;\n",
       "        }    #T_96a4ecd0_9463_11ea_af13_663baf2e524arow24_col4 {\n",
       "            background-color:  #fcfbfd;\n",
       "            color:  #000000;\n",
       "        }    #T_96a4ecd0_9463_11ea_af13_663baf2e524arow25_col0 {\n",
       "            background-color:  #fcfbfd;\n",
       "            color:  #000000;\n",
       "        }    #T_96a4ecd0_9463_11ea_af13_663baf2e524arow25_col1 {\n",
       "            background-color:  #fcfbfd;\n",
       "            color:  #000000;\n",
       "        }    #T_96a4ecd0_9463_11ea_af13_663baf2e524arow25_col2 {\n",
       "            background-color:  #fcfbfd;\n",
       "            color:  #000000;\n",
       "        }    #T_96a4ecd0_9463_11ea_af13_663baf2e524arow25_col3 {\n",
       "            background-color:  #3f007d;\n",
       "            color:  #f1f1f1;\n",
       "        }    #T_96a4ecd0_9463_11ea_af13_663baf2e524arow25_col4 {\n",
       "            background-color:  #fcfbfd;\n",
       "            color:  #000000;\n",
       "        }    #T_96a4ecd0_9463_11ea_af13_663baf2e524arow26_col0 {\n",
       "            background-color:  #fcfbfd;\n",
       "            color:  #000000;\n",
       "        }    #T_96a4ecd0_9463_11ea_af13_663baf2e524arow26_col1 {\n",
       "            background-color:  #fcfbfd;\n",
       "            color:  #000000;\n",
       "        }    #T_96a4ecd0_9463_11ea_af13_663baf2e524arow26_col2 {\n",
       "            background-color:  #fcfbfd;\n",
       "            color:  #000000;\n",
       "        }    #T_96a4ecd0_9463_11ea_af13_663baf2e524arow26_col3 {\n",
       "            background-color:  #66499f;\n",
       "            color:  #f1f1f1;\n",
       "        }    #T_96a4ecd0_9463_11ea_af13_663baf2e524arow26_col4 {\n",
       "            background-color:  #51228d;\n",
       "            color:  #f1f1f1;\n",
       "        }    #T_96a4ecd0_9463_11ea_af13_663baf2e524arow27_col0 {\n",
       "            background-color:  #fcfbfd;\n",
       "            color:  #000000;\n",
       "        }    #T_96a4ecd0_9463_11ea_af13_663baf2e524arow27_col1 {\n",
       "            background-color:  #fcfbfd;\n",
       "            color:  #000000;\n",
       "        }    #T_96a4ecd0_9463_11ea_af13_663baf2e524arow27_col2 {\n",
       "            background-color:  #fcfbfd;\n",
       "            color:  #000000;\n",
       "        }    #T_96a4ecd0_9463_11ea_af13_663baf2e524arow27_col3 {\n",
       "            background-color:  #9e9ac8;\n",
       "            color:  #000000;\n",
       "        }    #T_96a4ecd0_9463_11ea_af13_663baf2e524arow27_col4 {\n",
       "            background-color:  #fcfbfd;\n",
       "            color:  #000000;\n",
       "        }    #T_96a4ecd0_9463_11ea_af13_663baf2e524arow28_col0 {\n",
       "            background-color:  #fcfbfd;\n",
       "            color:  #000000;\n",
       "        }    #T_96a4ecd0_9463_11ea_af13_663baf2e524arow28_col1 {\n",
       "            background-color:  #fcfbfd;\n",
       "            color:  #000000;\n",
       "        }    #T_96a4ecd0_9463_11ea_af13_663baf2e524arow28_col2 {\n",
       "            background-color:  #fcfbfd;\n",
       "            color:  #000000;\n",
       "        }    #T_96a4ecd0_9463_11ea_af13_663baf2e524arow28_col3 {\n",
       "            background-color:  #3f007d;\n",
       "            color:  #f1f1f1;\n",
       "        }    #T_96a4ecd0_9463_11ea_af13_663baf2e524arow28_col4 {\n",
       "            background-color:  #fcfbfd;\n",
       "            color:  #000000;\n",
       "        }    #T_96a4ecd0_9463_11ea_af13_663baf2e524arow29_col0 {\n",
       "            background-color:  #fcfbfd;\n",
       "            color:  #000000;\n",
       "        }    #T_96a4ecd0_9463_11ea_af13_663baf2e524arow29_col1 {\n",
       "            background-color:  #fcfbfd;\n",
       "            color:  #000000;\n",
       "        }    #T_96a4ecd0_9463_11ea_af13_663baf2e524arow29_col2 {\n",
       "            background-color:  #fcfbfd;\n",
       "            color:  #000000;\n",
       "        }    #T_96a4ecd0_9463_11ea_af13_663baf2e524arow29_col3 {\n",
       "            background-color:  #3f007d;\n",
       "            color:  #f1f1f1;\n",
       "        }    #T_96a4ecd0_9463_11ea_af13_663baf2e524arow29_col4 {\n",
       "            background-color:  #fcfbfd;\n",
       "            color:  #000000;\n",
       "        }    #T_96a4ecd0_9463_11ea_af13_663baf2e524arow30_col0 {\n",
       "            background-color:  #fcfbfd;\n",
       "            color:  #000000;\n",
       "        }    #T_96a4ecd0_9463_11ea_af13_663baf2e524arow30_col1 {\n",
       "            background-color:  #fcfbfd;\n",
       "            color:  #000000;\n",
       "        }    #T_96a4ecd0_9463_11ea_af13_663baf2e524arow30_col2 {\n",
       "            background-color:  #fcfbfd;\n",
       "            color:  #000000;\n",
       "        }    #T_96a4ecd0_9463_11ea_af13_663baf2e524arow30_col3 {\n",
       "            background-color:  #fcfbfd;\n",
       "            color:  #000000;\n",
       "        }    #T_96a4ecd0_9463_11ea_af13_663baf2e524arow30_col4 {\n",
       "            background-color:  #fcfbfd;\n",
       "            color:  #000000;\n",
       "        }    #T_96a4ecd0_9463_11ea_af13_663baf2e524arow31_col0 {\n",
       "            background-color:  #fcfbfd;\n",
       "            color:  #000000;\n",
       "        }    #T_96a4ecd0_9463_11ea_af13_663baf2e524arow31_col1 {\n",
       "            background-color:  #fcfbfd;\n",
       "            color:  #000000;\n",
       "        }    #T_96a4ecd0_9463_11ea_af13_663baf2e524arow31_col2 {\n",
       "            background-color:  #fcfbfd;\n",
       "            color:  #000000;\n",
       "        }    #T_96a4ecd0_9463_11ea_af13_663baf2e524arow31_col3 {\n",
       "            background-color:  #3f007d;\n",
       "            color:  #f1f1f1;\n",
       "        }    #T_96a4ecd0_9463_11ea_af13_663baf2e524arow31_col4 {\n",
       "            background-color:  #fcfbfd;\n",
       "            color:  #000000;\n",
       "        }    #T_96a4ecd0_9463_11ea_af13_663baf2e524arow32_col0 {\n",
       "            background-color:  #fcfbfd;\n",
       "            color:  #000000;\n",
       "        }    #T_96a4ecd0_9463_11ea_af13_663baf2e524arow32_col1 {\n",
       "            background-color:  #fcfbfd;\n",
       "            color:  #000000;\n",
       "        }    #T_96a4ecd0_9463_11ea_af13_663baf2e524arow32_col2 {\n",
       "            background-color:  #fcfbfd;\n",
       "            color:  #000000;\n",
       "        }    #T_96a4ecd0_9463_11ea_af13_663baf2e524arow32_col3 {\n",
       "            background-color:  #fcfbfd;\n",
       "            color:  #000000;\n",
       "        }    #T_96a4ecd0_9463_11ea_af13_663baf2e524arow32_col4 {\n",
       "            background-color:  #fcfbfd;\n",
       "            color:  #000000;\n",
       "        }    #T_96a4ecd0_9463_11ea_af13_663baf2e524arow33_col0 {\n",
       "            background-color:  #fcfbfd;\n",
       "            color:  #000000;\n",
       "        }    #T_96a4ecd0_9463_11ea_af13_663baf2e524arow33_col1 {\n",
       "            background-color:  #fcfbfd;\n",
       "            color:  #000000;\n",
       "        }    #T_96a4ecd0_9463_11ea_af13_663baf2e524arow33_col2 {\n",
       "            background-color:  #fcfbfd;\n",
       "            color:  #000000;\n",
       "        }    #T_96a4ecd0_9463_11ea_af13_663baf2e524arow33_col3 {\n",
       "            background-color:  #3f007d;\n",
       "            color:  #f1f1f1;\n",
       "        }    #T_96a4ecd0_9463_11ea_af13_663baf2e524arow33_col4 {\n",
       "            background-color:  #fcfbfd;\n",
       "            color:  #000000;\n",
       "        }</style><table id=\"T_96a4ecd0_9463_11ea_af13_663baf2e524a\" ><thead>    <tr>        <th class=\"blank level0\" ></th>        <th class=\"col_heading level0 col0\" >Confirmed</th>        <th class=\"col_heading level0 col1\" >Deaths</th>        <th class=\"col_heading level0 col2\" >Recovered</th>        <th class=\"col_heading level0 col3\" >Recovery Rate</th>        <th class=\"col_heading level0 col4\" >Death Rate</th>    </tr>    <tr>        <th class=\"index_name level0\" >State</th>        <th class=\"blank\" ></th>        <th class=\"blank\" ></th>        <th class=\"blank\" ></th>        <th class=\"blank\" ></th>        <th class=\"blank\" ></th>    </tr></thead><tbody>\n",
       "                <tr>\n",
       "                        <th id=\"T_96a4ecd0_9463_11ea_af13_663baf2e524alevel0_row0\" class=\"row_heading level0 row0\" >Maharashtra</th>\n",
       "                        <td id=\"T_96a4ecd0_9463_11ea_af13_663baf2e524arow0_col0\" class=\"data row0 col0\" >23401</td>\n",
       "                        <td id=\"T_96a4ecd0_9463_11ea_af13_663baf2e524arow0_col1\" class=\"data row0 col1\" >868</td>\n",
       "                        <td id=\"T_96a4ecd0_9463_11ea_af13_663baf2e524arow0_col2\" class=\"data row0 col2\" >4786</td>\n",
       "                        <td id=\"T_96a4ecd0_9463_11ea_af13_663baf2e524arow0_col3\" class=\"data row0 col3\" >0.200000</td>\n",
       "                        <td id=\"T_96a4ecd0_9463_11ea_af13_663baf2e524arow0_col4\" class=\"data row0 col4\" >0.040000</td>\n",
       "            </tr>\n",
       "            <tr>\n",
       "                        <th id=\"T_96a4ecd0_9463_11ea_af13_663baf2e524alevel0_row1\" class=\"row_heading level0 row1\" >Gujarat</th>\n",
       "                        <td id=\"T_96a4ecd0_9463_11ea_af13_663baf2e524arow1_col0\" class=\"data row1 col0\" >8541</td>\n",
       "                        <td id=\"T_96a4ecd0_9463_11ea_af13_663baf2e524arow1_col1\" class=\"data row1 col1\" >513</td>\n",
       "                        <td id=\"T_96a4ecd0_9463_11ea_af13_663baf2e524arow1_col2\" class=\"data row1 col2\" >2780</td>\n",
       "                        <td id=\"T_96a4ecd0_9463_11ea_af13_663baf2e524arow1_col3\" class=\"data row1 col3\" >0.330000</td>\n",
       "                        <td id=\"T_96a4ecd0_9463_11ea_af13_663baf2e524arow1_col4\" class=\"data row1 col4\" >0.060000</td>\n",
       "            </tr>\n",
       "            <tr>\n",
       "                        <th id=\"T_96a4ecd0_9463_11ea_af13_663baf2e524alevel0_row2\" class=\"row_heading level0 row2\" >Tamil Nadu</th>\n",
       "                        <td id=\"T_96a4ecd0_9463_11ea_af13_663baf2e524arow2_col0\" class=\"data row2 col0\" >8002</td>\n",
       "                        <td id=\"T_96a4ecd0_9463_11ea_af13_663baf2e524arow2_col1\" class=\"data row2 col1\" >53</td>\n",
       "                        <td id=\"T_96a4ecd0_9463_11ea_af13_663baf2e524arow2_col2\" class=\"data row2 col2\" >2051</td>\n",
       "                        <td id=\"T_96a4ecd0_9463_11ea_af13_663baf2e524arow2_col3\" class=\"data row2 col3\" >0.260000</td>\n",
       "                        <td id=\"T_96a4ecd0_9463_11ea_af13_663baf2e524arow2_col4\" class=\"data row2 col4\" >0.010000</td>\n",
       "            </tr>\n",
       "            <tr>\n",
       "                        <th id=\"T_96a4ecd0_9463_11ea_af13_663baf2e524alevel0_row3\" class=\"row_heading level0 row3\" >Delhi</th>\n",
       "                        <td id=\"T_96a4ecd0_9463_11ea_af13_663baf2e524arow3_col0\" class=\"data row3 col0\" >7233</td>\n",
       "                        <td id=\"T_96a4ecd0_9463_11ea_af13_663baf2e524arow3_col1\" class=\"data row3 col1\" >73</td>\n",
       "                        <td id=\"T_96a4ecd0_9463_11ea_af13_663baf2e524arow3_col2\" class=\"data row3 col2\" >2129</td>\n",
       "                        <td id=\"T_96a4ecd0_9463_11ea_af13_663baf2e524arow3_col3\" class=\"data row3 col3\" >0.290000</td>\n",
       "                        <td id=\"T_96a4ecd0_9463_11ea_af13_663baf2e524arow3_col4\" class=\"data row3 col4\" >0.010000</td>\n",
       "            </tr>\n",
       "            <tr>\n",
       "                        <th id=\"T_96a4ecd0_9463_11ea_af13_663baf2e524alevel0_row4\" class=\"row_heading level0 row4\" >Rajasthan</th>\n",
       "                        <td id=\"T_96a4ecd0_9463_11ea_af13_663baf2e524arow4_col0\" class=\"data row4 col0\" >3988</td>\n",
       "                        <td id=\"T_96a4ecd0_9463_11ea_af13_663baf2e524arow4_col1\" class=\"data row4 col1\" >113</td>\n",
       "                        <td id=\"T_96a4ecd0_9463_11ea_af13_663baf2e524arow4_col2\" class=\"data row4 col2\" >2264</td>\n",
       "                        <td id=\"T_96a4ecd0_9463_11ea_af13_663baf2e524arow4_col3\" class=\"data row4 col3\" >0.570000</td>\n",
       "                        <td id=\"T_96a4ecd0_9463_11ea_af13_663baf2e524arow4_col4\" class=\"data row4 col4\" >0.030000</td>\n",
       "            </tr>\n",
       "            <tr>\n",
       "                        <th id=\"T_96a4ecd0_9463_11ea_af13_663baf2e524alevel0_row5\" class=\"row_heading level0 row5\" >Madhya Pradesh</th>\n",
       "                        <td id=\"T_96a4ecd0_9463_11ea_af13_663baf2e524arow5_col0\" class=\"data row5 col0\" >3785</td>\n",
       "                        <td id=\"T_96a4ecd0_9463_11ea_af13_663baf2e524arow5_col1\" class=\"data row5 col1\" >221</td>\n",
       "                        <td id=\"T_96a4ecd0_9463_11ea_af13_663baf2e524arow5_col2\" class=\"data row5 col2\" >1747</td>\n",
       "                        <td id=\"T_96a4ecd0_9463_11ea_af13_663baf2e524arow5_col3\" class=\"data row5 col3\" >0.460000</td>\n",
       "                        <td id=\"T_96a4ecd0_9463_11ea_af13_663baf2e524arow5_col4\" class=\"data row5 col4\" >0.060000</td>\n",
       "            </tr>\n",
       "            <tr>\n",
       "                        <th id=\"T_96a4ecd0_9463_11ea_af13_663baf2e524alevel0_row6\" class=\"row_heading level0 row6\" >Uttar Pradesh</th>\n",
       "                        <td id=\"T_96a4ecd0_9463_11ea_af13_663baf2e524arow6_col0\" class=\"data row6 col0\" >3573</td>\n",
       "                        <td id=\"T_96a4ecd0_9463_11ea_af13_663baf2e524arow6_col1\" class=\"data row6 col1\" >80</td>\n",
       "                        <td id=\"T_96a4ecd0_9463_11ea_af13_663baf2e524arow6_col2\" class=\"data row6 col2\" >1758</td>\n",
       "                        <td id=\"T_96a4ecd0_9463_11ea_af13_663baf2e524arow6_col3\" class=\"data row6 col3\" >0.490000</td>\n",
       "                        <td id=\"T_96a4ecd0_9463_11ea_af13_663baf2e524arow6_col4\" class=\"data row6 col4\" >0.020000</td>\n",
       "            </tr>\n",
       "            <tr>\n",
       "                        <th id=\"T_96a4ecd0_9463_11ea_af13_663baf2e524alevel0_row7\" class=\"row_heading level0 row7\" >West Bengal</th>\n",
       "                        <td id=\"T_96a4ecd0_9463_11ea_af13_663baf2e524arow7_col0\" class=\"data row7 col0\" >2063</td>\n",
       "                        <td id=\"T_96a4ecd0_9463_11ea_af13_663baf2e524arow7_col1\" class=\"data row7 col1\" >190</td>\n",
       "                        <td id=\"T_96a4ecd0_9463_11ea_af13_663baf2e524arow7_col2\" class=\"data row7 col2\" >499</td>\n",
       "                        <td id=\"T_96a4ecd0_9463_11ea_af13_663baf2e524arow7_col3\" class=\"data row7 col3\" >0.240000</td>\n",
       "                        <td id=\"T_96a4ecd0_9463_11ea_af13_663baf2e524arow7_col4\" class=\"data row7 col4\" >0.090000</td>\n",
       "            </tr>\n",
       "            <tr>\n",
       "                        <th id=\"T_96a4ecd0_9463_11ea_af13_663baf2e524alevel0_row8\" class=\"row_heading level0 row8\" >Andhra Pradesh</th>\n",
       "                        <td id=\"T_96a4ecd0_9463_11ea_af13_663baf2e524arow8_col0\" class=\"data row8 col0\" >2018</td>\n",
       "                        <td id=\"T_96a4ecd0_9463_11ea_af13_663baf2e524arow8_col1\" class=\"data row8 col1\" >45</td>\n",
       "                        <td id=\"T_96a4ecd0_9463_11ea_af13_663baf2e524arow8_col2\" class=\"data row8 col2\" >975</td>\n",
       "                        <td id=\"T_96a4ecd0_9463_11ea_af13_663baf2e524arow8_col3\" class=\"data row8 col3\" >0.480000</td>\n",
       "                        <td id=\"T_96a4ecd0_9463_11ea_af13_663baf2e524arow8_col4\" class=\"data row8 col4\" >0.020000</td>\n",
       "            </tr>\n",
       "            <tr>\n",
       "                        <th id=\"T_96a4ecd0_9463_11ea_af13_663baf2e524alevel0_row9\" class=\"row_heading level0 row9\" >Punjab</th>\n",
       "                        <td id=\"T_96a4ecd0_9463_11ea_af13_663baf2e524arow9_col0\" class=\"data row9 col0\" >1877</td>\n",
       "                        <td id=\"T_96a4ecd0_9463_11ea_af13_663baf2e524arow9_col1\" class=\"data row9 col1\" >31</td>\n",
       "                        <td id=\"T_96a4ecd0_9463_11ea_af13_663baf2e524arow9_col2\" class=\"data row9 col2\" >168</td>\n",
       "                        <td id=\"T_96a4ecd0_9463_11ea_af13_663baf2e524arow9_col3\" class=\"data row9 col3\" >0.090000</td>\n",
       "                        <td id=\"T_96a4ecd0_9463_11ea_af13_663baf2e524arow9_col4\" class=\"data row9 col4\" >0.020000</td>\n",
       "            </tr>\n",
       "            <tr>\n",
       "                        <th id=\"T_96a4ecd0_9463_11ea_af13_663baf2e524alevel0_row10\" class=\"row_heading level0 row10\" >Telengana</th>\n",
       "                        <td id=\"T_96a4ecd0_9463_11ea_af13_663baf2e524arow10_col0\" class=\"data row10 col0\" >1275</td>\n",
       "                        <td id=\"T_96a4ecd0_9463_11ea_af13_663baf2e524arow10_col1\" class=\"data row10 col1\" >30</td>\n",
       "                        <td id=\"T_96a4ecd0_9463_11ea_af13_663baf2e524arow10_col2\" class=\"data row10 col2\" >800</td>\n",
       "                        <td id=\"T_96a4ecd0_9463_11ea_af13_663baf2e524arow10_col3\" class=\"data row10 col3\" >0.630000</td>\n",
       "                        <td id=\"T_96a4ecd0_9463_11ea_af13_663baf2e524arow10_col4\" class=\"data row10 col4\" >0.020000</td>\n",
       "            </tr>\n",
       "            <tr>\n",
       "                        <th id=\"T_96a4ecd0_9463_11ea_af13_663baf2e524alevel0_row11\" class=\"row_heading level0 row11\" >Jammu and Kashmir</th>\n",
       "                        <td id=\"T_96a4ecd0_9463_11ea_af13_663baf2e524arow11_col0\" class=\"data row11 col0\" >879</td>\n",
       "                        <td id=\"T_96a4ecd0_9463_11ea_af13_663baf2e524arow11_col1\" class=\"data row11 col1\" >10</td>\n",
       "                        <td id=\"T_96a4ecd0_9463_11ea_af13_663baf2e524arow11_col2\" class=\"data row11 col2\" >427</td>\n",
       "                        <td id=\"T_96a4ecd0_9463_11ea_af13_663baf2e524arow11_col3\" class=\"data row11 col3\" >0.490000</td>\n",
       "                        <td id=\"T_96a4ecd0_9463_11ea_af13_663baf2e524arow11_col4\" class=\"data row11 col4\" >0.010000</td>\n",
       "            </tr>\n",
       "            <tr>\n",
       "                        <th id=\"T_96a4ecd0_9463_11ea_af13_663baf2e524alevel0_row12\" class=\"row_heading level0 row12\" >Karnataka</th>\n",
       "                        <td id=\"T_96a4ecd0_9463_11ea_af13_663baf2e524arow12_col0\" class=\"data row12 col0\" >862</td>\n",
       "                        <td id=\"T_96a4ecd0_9463_11ea_af13_663baf2e524arow12_col1\" class=\"data row12 col1\" >31</td>\n",
       "                        <td id=\"T_96a4ecd0_9463_11ea_af13_663baf2e524arow12_col2\" class=\"data row12 col2\" >426</td>\n",
       "                        <td id=\"T_96a4ecd0_9463_11ea_af13_663baf2e524arow12_col3\" class=\"data row12 col3\" >0.490000</td>\n",
       "                        <td id=\"T_96a4ecd0_9463_11ea_af13_663baf2e524arow12_col4\" class=\"data row12 col4\" >0.040000</td>\n",
       "            </tr>\n",
       "            <tr>\n",
       "                        <th id=\"T_96a4ecd0_9463_11ea_af13_663baf2e524alevel0_row13\" class=\"row_heading level0 row13\" >Bihar</th>\n",
       "                        <td id=\"T_96a4ecd0_9463_11ea_af13_663baf2e524arow13_col0\" class=\"data row13 col0\" >747</td>\n",
       "                        <td id=\"T_96a4ecd0_9463_11ea_af13_663baf2e524arow13_col1\" class=\"data row13 col1\" >6</td>\n",
       "                        <td id=\"T_96a4ecd0_9463_11ea_af13_663baf2e524arow13_col2\" class=\"data row13 col2\" >377</td>\n",
       "                        <td id=\"T_96a4ecd0_9463_11ea_af13_663baf2e524arow13_col3\" class=\"data row13 col3\" >0.500000</td>\n",
       "                        <td id=\"T_96a4ecd0_9463_11ea_af13_663baf2e524arow13_col4\" class=\"data row13 col4\" >0.010000</td>\n",
       "            </tr>\n",
       "            <tr>\n",
       "                        <th id=\"T_96a4ecd0_9463_11ea_af13_663baf2e524alevel0_row14\" class=\"row_heading level0 row14\" >Haryana</th>\n",
       "                        <td id=\"T_96a4ecd0_9463_11ea_af13_663baf2e524arow14_col0\" class=\"data row14 col0\" >730</td>\n",
       "                        <td id=\"T_96a4ecd0_9463_11ea_af13_663baf2e524arow14_col1\" class=\"data row14 col1\" >11</td>\n",
       "                        <td id=\"T_96a4ecd0_9463_11ea_af13_663baf2e524arow14_col2\" class=\"data row14 col2\" >337</td>\n",
       "                        <td id=\"T_96a4ecd0_9463_11ea_af13_663baf2e524arow14_col3\" class=\"data row14 col3\" >0.460000</td>\n",
       "                        <td id=\"T_96a4ecd0_9463_11ea_af13_663baf2e524arow14_col4\" class=\"data row14 col4\" >0.020000</td>\n",
       "            </tr>\n",
       "            <tr>\n",
       "                        <th id=\"T_96a4ecd0_9463_11ea_af13_663baf2e524alevel0_row15\" class=\"row_heading level0 row15\" >Kerala</th>\n",
       "                        <td id=\"T_96a4ecd0_9463_11ea_af13_663baf2e524arow15_col0\" class=\"data row15 col0\" >519</td>\n",
       "                        <td id=\"T_96a4ecd0_9463_11ea_af13_663baf2e524arow15_col1\" class=\"data row15 col1\" >4</td>\n",
       "                        <td id=\"T_96a4ecd0_9463_11ea_af13_663baf2e524arow15_col2\" class=\"data row15 col2\" >489</td>\n",
       "                        <td id=\"T_96a4ecd0_9463_11ea_af13_663baf2e524arow15_col3\" class=\"data row15 col3\" >0.940000</td>\n",
       "                        <td id=\"T_96a4ecd0_9463_11ea_af13_663baf2e524arow15_col4\" class=\"data row15 col4\" >0.010000</td>\n",
       "            </tr>\n",
       "            <tr>\n",
       "                        <th id=\"T_96a4ecd0_9463_11ea_af13_663baf2e524alevel0_row16\" class=\"row_heading level0 row16\" >Odisha</th>\n",
       "                        <td id=\"T_96a4ecd0_9463_11ea_af13_663baf2e524arow16_col0\" class=\"data row16 col0\" >414</td>\n",
       "                        <td id=\"T_96a4ecd0_9463_11ea_af13_663baf2e524arow16_col1\" class=\"data row16 col1\" >3</td>\n",
       "                        <td id=\"T_96a4ecd0_9463_11ea_af13_663baf2e524arow16_col2\" class=\"data row16 col2\" >85</td>\n",
       "                        <td id=\"T_96a4ecd0_9463_11ea_af13_663baf2e524arow16_col3\" class=\"data row16 col3\" >0.210000</td>\n",
       "                        <td id=\"T_96a4ecd0_9463_11ea_af13_663baf2e524arow16_col4\" class=\"data row16 col4\" >0.010000</td>\n",
       "            </tr>\n",
       "            <tr>\n",
       "                        <th id=\"T_96a4ecd0_9463_11ea_af13_663baf2e524alevel0_row17\" class=\"row_heading level0 row17\" >Chandigarh</th>\n",
       "                        <td id=\"T_96a4ecd0_9463_11ea_af13_663baf2e524arow17_col0\" class=\"data row17 col0\" >174</td>\n",
       "                        <td id=\"T_96a4ecd0_9463_11ea_af13_663baf2e524arow17_col1\" class=\"data row17 col1\" >2</td>\n",
       "                        <td id=\"T_96a4ecd0_9463_11ea_af13_663baf2e524arow17_col2\" class=\"data row17 col2\" >24</td>\n",
       "                        <td id=\"T_96a4ecd0_9463_11ea_af13_663baf2e524arow17_col3\" class=\"data row17 col3\" >0.140000</td>\n",
       "                        <td id=\"T_96a4ecd0_9463_11ea_af13_663baf2e524arow17_col4\" class=\"data row17 col4\" >0.010000</td>\n",
       "            </tr>\n",
       "            <tr>\n",
       "                        <th id=\"T_96a4ecd0_9463_11ea_af13_663baf2e524alevel0_row18\" class=\"row_heading level0 row18\" >Jharkhand</th>\n",
       "                        <td id=\"T_96a4ecd0_9463_11ea_af13_663baf2e524arow18_col0\" class=\"data row18 col0\" >160</td>\n",
       "                        <td id=\"T_96a4ecd0_9463_11ea_af13_663baf2e524arow18_col1\" class=\"data row18 col1\" >3</td>\n",
       "                        <td id=\"T_96a4ecd0_9463_11ea_af13_663baf2e524arow18_col2\" class=\"data row18 col2\" >78</td>\n",
       "                        <td id=\"T_96a4ecd0_9463_11ea_af13_663baf2e524arow18_col3\" class=\"data row18 col3\" >0.490000</td>\n",
       "                        <td id=\"T_96a4ecd0_9463_11ea_af13_663baf2e524arow18_col4\" class=\"data row18 col4\" >0.020000</td>\n",
       "            </tr>\n",
       "            <tr>\n",
       "                        <th id=\"T_96a4ecd0_9463_11ea_af13_663baf2e524alevel0_row19\" class=\"row_heading level0 row19\" >Tripura</th>\n",
       "                        <td id=\"T_96a4ecd0_9463_11ea_af13_663baf2e524arow19_col0\" class=\"data row19 col0\" >152</td>\n",
       "                        <td id=\"T_96a4ecd0_9463_11ea_af13_663baf2e524arow19_col1\" class=\"data row19 col1\" >0</td>\n",
       "                        <td id=\"T_96a4ecd0_9463_11ea_af13_663baf2e524arow19_col2\" class=\"data row19 col2\" >2</td>\n",
       "                        <td id=\"T_96a4ecd0_9463_11ea_af13_663baf2e524arow19_col3\" class=\"data row19 col3\" >0.010000</td>\n",
       "                        <td id=\"T_96a4ecd0_9463_11ea_af13_663baf2e524arow19_col4\" class=\"data row19 col4\" >0.000000</td>\n",
       "            </tr>\n",
       "            <tr>\n",
       "                        <th id=\"T_96a4ecd0_9463_11ea_af13_663baf2e524alevel0_row20\" class=\"row_heading level0 row20\" >Uttarakhand</th>\n",
       "                        <td id=\"T_96a4ecd0_9463_11ea_af13_663baf2e524arow20_col0\" class=\"data row20 col0\" >68</td>\n",
       "                        <td id=\"T_96a4ecd0_9463_11ea_af13_663baf2e524arow20_col1\" class=\"data row20 col1\" >1</td>\n",
       "                        <td id=\"T_96a4ecd0_9463_11ea_af13_663baf2e524arow20_col2\" class=\"data row20 col2\" >46</td>\n",
       "                        <td id=\"T_96a4ecd0_9463_11ea_af13_663baf2e524arow20_col3\" class=\"data row20 col3\" >0.680000</td>\n",
       "                        <td id=\"T_96a4ecd0_9463_11ea_af13_663baf2e524arow20_col4\" class=\"data row20 col4\" >0.010000</td>\n",
       "            </tr>\n",
       "            <tr>\n",
       "                        <th id=\"T_96a4ecd0_9463_11ea_af13_663baf2e524alevel0_row21\" class=\"row_heading level0 row21\" >Assam</th>\n",
       "                        <td id=\"T_96a4ecd0_9463_11ea_af13_663baf2e524arow21_col0\" class=\"data row21 col0\" >65</td>\n",
       "                        <td id=\"T_96a4ecd0_9463_11ea_af13_663baf2e524arow21_col1\" class=\"data row21 col1\" >2</td>\n",
       "                        <td id=\"T_96a4ecd0_9463_11ea_af13_663baf2e524arow21_col2\" class=\"data row21 col2\" >34</td>\n",
       "                        <td id=\"T_96a4ecd0_9463_11ea_af13_663baf2e524arow21_col3\" class=\"data row21 col3\" >0.520000</td>\n",
       "                        <td id=\"T_96a4ecd0_9463_11ea_af13_663baf2e524arow21_col4\" class=\"data row21 col4\" >0.030000</td>\n",
       "            </tr>\n",
       "            <tr>\n",
       "                        <th id=\"T_96a4ecd0_9463_11ea_af13_663baf2e524alevel0_row22\" class=\"row_heading level0 row22\" >Chhattisgarh</th>\n",
       "                        <td id=\"T_96a4ecd0_9463_11ea_af13_663baf2e524arow22_col0\" class=\"data row22 col0\" >59</td>\n",
       "                        <td id=\"T_96a4ecd0_9463_11ea_af13_663baf2e524arow22_col1\" class=\"data row22 col1\" >0</td>\n",
       "                        <td id=\"T_96a4ecd0_9463_11ea_af13_663baf2e524arow22_col2\" class=\"data row22 col2\" >53</td>\n",
       "                        <td id=\"T_96a4ecd0_9463_11ea_af13_663baf2e524arow22_col3\" class=\"data row22 col3\" >0.900000</td>\n",
       "                        <td id=\"T_96a4ecd0_9463_11ea_af13_663baf2e524arow22_col4\" class=\"data row22 col4\" >0.000000</td>\n",
       "            </tr>\n",
       "            <tr>\n",
       "                        <th id=\"T_96a4ecd0_9463_11ea_af13_663baf2e524alevel0_row23\" class=\"row_heading level0 row23\" >Himachal Pradesh</th>\n",
       "                        <td id=\"T_96a4ecd0_9463_11ea_af13_663baf2e524arow23_col0\" class=\"data row23 col0\" >59</td>\n",
       "                        <td id=\"T_96a4ecd0_9463_11ea_af13_663baf2e524arow23_col1\" class=\"data row23 col1\" >2</td>\n",
       "                        <td id=\"T_96a4ecd0_9463_11ea_af13_663baf2e524arow23_col2\" class=\"data row23 col2\" >39</td>\n",
       "                        <td id=\"T_96a4ecd0_9463_11ea_af13_663baf2e524arow23_col3\" class=\"data row23 col3\" >0.660000</td>\n",
       "                        <td id=\"T_96a4ecd0_9463_11ea_af13_663baf2e524arow23_col4\" class=\"data row23 col4\" >0.030000</td>\n",
       "            </tr>\n",
       "            <tr>\n",
       "                        <th id=\"T_96a4ecd0_9463_11ea_af13_663baf2e524alevel0_row24\" class=\"row_heading level0 row24\" >Ladakh</th>\n",
       "                        <td id=\"T_96a4ecd0_9463_11ea_af13_663baf2e524arow24_col0\" class=\"data row24 col0\" >42</td>\n",
       "                        <td id=\"T_96a4ecd0_9463_11ea_af13_663baf2e524arow24_col1\" class=\"data row24 col1\" >0</td>\n",
       "                        <td id=\"T_96a4ecd0_9463_11ea_af13_663baf2e524arow24_col2\" class=\"data row24 col2\" >21</td>\n",
       "                        <td id=\"T_96a4ecd0_9463_11ea_af13_663baf2e524arow24_col3\" class=\"data row24 col3\" >0.500000</td>\n",
       "                        <td id=\"T_96a4ecd0_9463_11ea_af13_663baf2e524arow24_col4\" class=\"data row24 col4\" >0.000000</td>\n",
       "            </tr>\n",
       "            <tr>\n",
       "                        <th id=\"T_96a4ecd0_9463_11ea_af13_663baf2e524alevel0_row25\" class=\"row_heading level0 row25\" >Andaman and Nicobar Islands</th>\n",
       "                        <td id=\"T_96a4ecd0_9463_11ea_af13_663baf2e524arow25_col0\" class=\"data row25 col0\" >33</td>\n",
       "                        <td id=\"T_96a4ecd0_9463_11ea_af13_663baf2e524arow25_col1\" class=\"data row25 col1\" >0</td>\n",
       "                        <td id=\"T_96a4ecd0_9463_11ea_af13_663baf2e524arow25_col2\" class=\"data row25 col2\" >33</td>\n",
       "                        <td id=\"T_96a4ecd0_9463_11ea_af13_663baf2e524arow25_col3\" class=\"data row25 col3\" >1.000000</td>\n",
       "                        <td id=\"T_96a4ecd0_9463_11ea_af13_663baf2e524arow25_col4\" class=\"data row25 col4\" >0.000000</td>\n",
       "            </tr>\n",
       "            <tr>\n",
       "                        <th id=\"T_96a4ecd0_9463_11ea_af13_663baf2e524alevel0_row26\" class=\"row_heading level0 row26\" >Meghalaya</th>\n",
       "                        <td id=\"T_96a4ecd0_9463_11ea_af13_663baf2e524arow26_col0\" class=\"data row26 col0\" >13</td>\n",
       "                        <td id=\"T_96a4ecd0_9463_11ea_af13_663baf2e524arow26_col1\" class=\"data row26 col1\" >1</td>\n",
       "                        <td id=\"T_96a4ecd0_9463_11ea_af13_663baf2e524arow26_col2\" class=\"data row26 col2\" >10</td>\n",
       "                        <td id=\"T_96a4ecd0_9463_11ea_af13_663baf2e524arow26_col3\" class=\"data row26 col3\" >0.770000</td>\n",
       "                        <td id=\"T_96a4ecd0_9463_11ea_af13_663baf2e524arow26_col4\" class=\"data row26 col4\" >0.080000</td>\n",
       "            </tr>\n",
       "            <tr>\n",
       "                        <th id=\"T_96a4ecd0_9463_11ea_af13_663baf2e524alevel0_row27\" class=\"row_heading level0 row27\" >Puducherry</th>\n",
       "                        <td id=\"T_96a4ecd0_9463_11ea_af13_663baf2e524arow27_col0\" class=\"data row27 col0\" >12</td>\n",
       "                        <td id=\"T_96a4ecd0_9463_11ea_af13_663baf2e524arow27_col1\" class=\"data row27 col1\" >0</td>\n",
       "                        <td id=\"T_96a4ecd0_9463_11ea_af13_663baf2e524arow27_col2\" class=\"data row27 col2\" >6</td>\n",
       "                        <td id=\"T_96a4ecd0_9463_11ea_af13_663baf2e524arow27_col3\" class=\"data row27 col3\" >0.500000</td>\n",
       "                        <td id=\"T_96a4ecd0_9463_11ea_af13_663baf2e524arow27_col4\" class=\"data row27 col4\" >0.000000</td>\n",
       "            </tr>\n",
       "            <tr>\n",
       "                        <th id=\"T_96a4ecd0_9463_11ea_af13_663baf2e524alevel0_row28\" class=\"row_heading level0 row28\" >Goa</th>\n",
       "                        <td id=\"T_96a4ecd0_9463_11ea_af13_663baf2e524arow28_col0\" class=\"data row28 col0\" >7</td>\n",
       "                        <td id=\"T_96a4ecd0_9463_11ea_af13_663baf2e524arow28_col1\" class=\"data row28 col1\" >0</td>\n",
       "                        <td id=\"T_96a4ecd0_9463_11ea_af13_663baf2e524arow28_col2\" class=\"data row28 col2\" >7</td>\n",
       "                        <td id=\"T_96a4ecd0_9463_11ea_af13_663baf2e524arow28_col3\" class=\"data row28 col3\" >1.000000</td>\n",
       "                        <td id=\"T_96a4ecd0_9463_11ea_af13_663baf2e524arow28_col4\" class=\"data row28 col4\" >0.000000</td>\n",
       "            </tr>\n",
       "            <tr>\n",
       "                        <th id=\"T_96a4ecd0_9463_11ea_af13_663baf2e524alevel0_row29\" class=\"row_heading level0 row29\" >Manipur</th>\n",
       "                        <td id=\"T_96a4ecd0_9463_11ea_af13_663baf2e524arow29_col0\" class=\"data row29 col0\" >2</td>\n",
       "                        <td id=\"T_96a4ecd0_9463_11ea_af13_663baf2e524arow29_col1\" class=\"data row29 col1\" >0</td>\n",
       "                        <td id=\"T_96a4ecd0_9463_11ea_af13_663baf2e524arow29_col2\" class=\"data row29 col2\" >2</td>\n",
       "                        <td id=\"T_96a4ecd0_9463_11ea_af13_663baf2e524arow29_col3\" class=\"data row29 col3\" >1.000000</td>\n",
       "                        <td id=\"T_96a4ecd0_9463_11ea_af13_663baf2e524arow29_col4\" class=\"data row29 col4\" >0.000000</td>\n",
       "            </tr>\n",
       "            <tr>\n",
       "                        <th id=\"T_96a4ecd0_9463_11ea_af13_663baf2e524alevel0_row30\" class=\"row_heading level0 row30\" >Nagaland</th>\n",
       "                        <td id=\"T_96a4ecd0_9463_11ea_af13_663baf2e524arow30_col0\" class=\"data row30 col0\" >1</td>\n",
       "                        <td id=\"T_96a4ecd0_9463_11ea_af13_663baf2e524arow30_col1\" class=\"data row30 col1\" >0</td>\n",
       "                        <td id=\"T_96a4ecd0_9463_11ea_af13_663baf2e524arow30_col2\" class=\"data row30 col2\" >0</td>\n",
       "                        <td id=\"T_96a4ecd0_9463_11ea_af13_663baf2e524arow30_col3\" class=\"data row30 col3\" >0.000000</td>\n",
       "                        <td id=\"T_96a4ecd0_9463_11ea_af13_663baf2e524arow30_col4\" class=\"data row30 col4\" >0.000000</td>\n",
       "            </tr>\n",
       "            <tr>\n",
       "                        <th id=\"T_96a4ecd0_9463_11ea_af13_663baf2e524alevel0_row31\" class=\"row_heading level0 row31\" >Mizoram</th>\n",
       "                        <td id=\"T_96a4ecd0_9463_11ea_af13_663baf2e524arow31_col0\" class=\"data row31 col0\" >1</td>\n",
       "                        <td id=\"T_96a4ecd0_9463_11ea_af13_663baf2e524arow31_col1\" class=\"data row31 col1\" >0</td>\n",
       "                        <td id=\"T_96a4ecd0_9463_11ea_af13_663baf2e524arow31_col2\" class=\"data row31 col2\" >1</td>\n",
       "                        <td id=\"T_96a4ecd0_9463_11ea_af13_663baf2e524arow31_col3\" class=\"data row31 col3\" >1.000000</td>\n",
       "                        <td id=\"T_96a4ecd0_9463_11ea_af13_663baf2e524arow31_col4\" class=\"data row31 col4\" >0.000000</td>\n",
       "            </tr>\n",
       "            <tr>\n",
       "                        <th id=\"T_96a4ecd0_9463_11ea_af13_663baf2e524alevel0_row32\" class=\"row_heading level0 row32\" >Dadar Nagar Haveli</th>\n",
       "                        <td id=\"T_96a4ecd0_9463_11ea_af13_663baf2e524arow32_col0\" class=\"data row32 col0\" >1</td>\n",
       "                        <td id=\"T_96a4ecd0_9463_11ea_af13_663baf2e524arow32_col1\" class=\"data row32 col1\" >0</td>\n",
       "                        <td id=\"T_96a4ecd0_9463_11ea_af13_663baf2e524arow32_col2\" class=\"data row32 col2\" >0</td>\n",
       "                        <td id=\"T_96a4ecd0_9463_11ea_af13_663baf2e524arow32_col3\" class=\"data row32 col3\" >0.000000</td>\n",
       "                        <td id=\"T_96a4ecd0_9463_11ea_af13_663baf2e524arow32_col4\" class=\"data row32 col4\" >0.000000</td>\n",
       "            </tr>\n",
       "            <tr>\n",
       "                        <th id=\"T_96a4ecd0_9463_11ea_af13_663baf2e524alevel0_row33\" class=\"row_heading level0 row33\" >Arunachal Pradesh</th>\n",
       "                        <td id=\"T_96a4ecd0_9463_11ea_af13_663baf2e524arow33_col0\" class=\"data row33 col0\" >1</td>\n",
       "                        <td id=\"T_96a4ecd0_9463_11ea_af13_663baf2e524arow33_col1\" class=\"data row33 col1\" >0</td>\n",
       "                        <td id=\"T_96a4ecd0_9463_11ea_af13_663baf2e524arow33_col2\" class=\"data row33 col2\" >1</td>\n",
       "                        <td id=\"T_96a4ecd0_9463_11ea_af13_663baf2e524arow33_col3\" class=\"data row33 col3\" >1.000000</td>\n",
       "                        <td id=\"T_96a4ecd0_9463_11ea_af13_663baf2e524arow33_col4\" class=\"data row33 col4\" >0.000000</td>\n",
       "            </tr>\n",
       "    </tbody></table>"
      ],
      "text/plain": [
       "<pandas.io.formats.style.Styler at 0x7f42806c8f28>"
      ]
     },
     "execution_count": 41,
     "metadata": {},
     "output_type": "execute_result"
    }
   ],
   "source": [
    "state_details = pd.pivot_table(india_covid_19, values=['Confirmed','Deaths','Recovered'], index='State', aggfunc='max')\n",
    "state_details['Recovery Rate'] = round(state_details['Recovered'] / state_details['Confirmed'],2)\n",
    "state_details['Death Rate'] = round(state_details['Deaths'] /state_details['Confirmed'], 2)\n",
    "state_details = state_details.sort_values(by='Confirmed', ascending= False)\n",
    "state_details.style.background_gradient(cmap='Purples')"
   ]
  },
  {
   "cell_type": "markdown",
   "metadata": {},
   "source": [
    "**Statewise Testing done so far in India till 1st May**<br>\n",
    "Maharashtra has done maximum number of tests with 8% of tested cases being positive<br>\n",
    "Delhi and Gujarat have tested less number of people but still have the highest number of those tested being positive (7%)"
   ]
  },
  {
   "cell_type": "code",
   "execution_count": 61,
   "metadata": {},
   "outputs": [],
   "source": [
    "import plotly.express as px"
   ]
  },
  {
   "cell_type": "code",
   "execution_count": 73,
   "metadata": {},
   "outputs": [
    {
     "data": {
      "application/vnd.plotly.v1+json": {
       "config": {
        "plotlyServerURL": "https://plot.ly"
       },
       "data": [
        {
         "alignmentgroup": "True",
         "hovertemplate": "State=%{y}<br>Total Tested=%{x}<extra></extra>",
         "legendgroup": "Maharashtra",
         "marker": {
          "color": "#636efa"
         },
         "name": "Maharashtra",
         "offsetgroup": "Maharashtra",
         "orientation": "h",
         "showlegend": true,
         "textposition": "auto",
         "type": "bar",
         "x": [
          151085
         ],
         "xaxis": "x",
         "y": [
          "Maharashtra"
         ],
         "yaxis": "y"
        },
        {
         "alignmentgroup": "True",
         "hovertemplate": "State=%{y}<br>Total Tested=%{x}<extra></extra>",
         "legendgroup": "Tamil Nadu",
         "marker": {
          "color": "#EF553B"
         },
         "name": "Tamil Nadu",
         "offsetgroup": "Tamil Nadu",
         "orientation": "h",
         "showlegend": true,
         "textposition": "auto",
         "type": "bar",
         "x": [
          139490
         ],
         "xaxis": "x",
         "y": [
          "Tamil Nadu"
         ],
         "yaxis": "y"
        },
        {
         "alignmentgroup": "True",
         "hovertemplate": "State=%{y}<br>Total Tested=%{x}<extra></extra>",
         "legendgroup": "Rajasthan",
         "marker": {
          "color": "#00cc96"
         },
         "name": "Rajasthan",
         "offsetgroup": "Rajasthan",
         "orientation": "h",
         "showlegend": true,
         "textposition": "auto",
         "type": "bar",
         "x": [
          113934
         ],
         "xaxis": "x",
         "y": [
          "Rajasthan"
         ],
         "yaxis": "y"
        },
        {
         "alignmentgroup": "True",
         "hovertemplate": "State=%{y}<br>Total Tested=%{x}<extra></extra>",
         "legendgroup": "Andhra Pradesh",
         "marker": {
          "color": "#ab63fa"
         },
         "name": "Andhra Pradesh",
         "offsetgroup": "Andhra Pradesh",
         "orientation": "h",
         "showlegend": true,
         "textposition": "auto",
         "type": "bar",
         "x": [
          108403
         ],
         "xaxis": "x",
         "y": [
          "Andhra Pradesh"
         ],
         "yaxis": "y"
        },
        {
         "alignmentgroup": "True",
         "hovertemplate": "State=%{y}<br>Total Tested=%{x}<extra></extra>",
         "legendgroup": "Uttar Pradesh",
         "marker": {
          "color": "#FFA15A"
         },
         "name": "Uttar Pradesh",
         "offsetgroup": "Uttar Pradesh",
         "orientation": "h",
         "showlegend": true,
         "textposition": "auto",
         "type": "bar",
         "x": [
          85729
         ],
         "xaxis": "x",
         "y": [
          "Uttar Pradesh"
         ],
         "yaxis": "y"
        },
        {
         "alignmentgroup": "True",
         "hovertemplate": "State=%{y}<br>Total Tested=%{x}<extra></extra>",
         "legendgroup": "Karnataka",
         "marker": {
          "color": "#19d3f3"
         },
         "name": "Karnataka",
         "offsetgroup": "Karnataka",
         "orientation": "h",
         "showlegend": true,
         "textposition": "auto",
         "type": "bar",
         "x": [
          69730
         ],
         "xaxis": "x",
         "y": [
          "Karnataka"
         ],
         "yaxis": "y"
        },
        {
         "alignmentgroup": "True",
         "hovertemplate": "State=%{y}<br>Total Tested=%{x}<extra></extra>",
         "legendgroup": "Gujarat",
         "marker": {
          "color": "#FF6692"
         },
         "name": "Gujarat",
         "offsetgroup": "Gujarat",
         "orientation": "h",
         "showlegend": true,
         "textposition": "auto",
         "type": "bar",
         "x": [
          68774
         ],
         "xaxis": "x",
         "y": [
          "Gujarat"
         ],
         "yaxis": "y"
        },
        {
         "alignmentgroup": "True",
         "hovertemplate": "State=%{y}<br>Total Tested=%{x}<extra></extra>",
         "legendgroup": "Delhi",
         "marker": {
          "color": "#B6E880"
         },
         "name": "Delhi",
         "offsetgroup": "Delhi",
         "orientation": "h",
         "showlegend": true,
         "textposition": "auto",
         "type": "bar",
         "x": [
          47225
         ],
         "xaxis": "x",
         "y": [
          "Delhi"
         ],
         "yaxis": "y"
        },
        {
         "alignmentgroup": "True",
         "hovertemplate": "State=%{y}<br>Total Tested=%{x}<extra></extra>",
         "legendgroup": "Madhya Pradesh",
         "marker": {
          "color": "#FF97FF"
         },
         "name": "Madhya Pradesh",
         "offsetgroup": "Madhya Pradesh",
         "orientation": "h",
         "showlegend": true,
         "textposition": "auto",
         "type": "bar",
         "x": [
          46578
         ],
         "xaxis": "x",
         "y": [
          "Madhya Pradesh"
         ],
         "yaxis": "y"
        },
        {
         "alignmentgroup": "True",
         "hovertemplate": "State=%{y}<br>Total Tested=%{x}<extra></extra>",
         "legendgroup": "Odisha",
         "marker": {
          "color": "#FECB52"
         },
         "name": "Odisha",
         "offsetgroup": "Odisha",
         "orientation": "h",
         "showlegend": true,
         "textposition": "auto",
         "type": "bar",
         "x": [
          36593
         ],
         "xaxis": "x",
         "y": [
          "Odisha"
         ],
         "yaxis": "y"
        },
        {
         "alignmentgroup": "True",
         "hovertemplate": "State=%{y}<br>Total Tested=%{x}<extra></extra>",
         "legendgroup": "Haryana",
         "marker": {
          "color": "#636efa"
         },
         "name": "Haryana",
         "offsetgroup": "Haryana",
         "orientation": "h",
         "showlegend": true,
         "textposition": "auto",
         "type": "bar",
         "x": [
          31200
         ],
         "xaxis": "x",
         "y": [
          "Haryana"
         ],
         "yaxis": "y"
        },
        {
         "alignmentgroup": "True",
         "hovertemplate": "State=%{y}<br>Total Tested=%{x}<extra></extra>",
         "legendgroup": "Kerala",
         "marker": {
          "color": "#EF553B"
         },
         "name": "Kerala",
         "offsetgroup": "Kerala",
         "orientation": "h",
         "showlegend": true,
         "textposition": "auto",
         "type": "bar",
         "x": [
          31183
         ],
         "xaxis": "x",
         "y": [
          "Kerala"
         ],
         "yaxis": "y"
        },
        {
         "alignmentgroup": "True",
         "hovertemplate": "State=%{y}<br>Total Tested=%{x}<extra></extra>",
         "legendgroup": "Bihar",
         "marker": {
          "color": "#00cc96"
         },
         "name": "Bihar",
         "offsetgroup": "Bihar",
         "orientation": "h",
         "showlegend": true,
         "textposition": "auto",
         "type": "bar",
         "x": [
          26315
         ],
         "xaxis": "x",
         "y": [
          "Bihar"
         ],
         "yaxis": "y"
        },
        {
         "alignmentgroup": "True",
         "hovertemplate": "State=%{y}<br>Total Tested=%{x}<extra></extra>",
         "legendgroup": "Punjab",
         "marker": {
          "color": "#ab63fa"
         },
         "name": "Punjab",
         "offsetgroup": "Punjab",
         "orientation": "h",
         "showlegend": true,
         "textposition": "auto",
         "type": "bar",
         "x": [
          24868
         ],
         "xaxis": "x",
         "y": [
          "Punjab"
         ],
         "yaxis": "y"
        },
        {
         "alignmentgroup": "True",
         "hovertemplate": "State=%{y}<br>Total Tested=%{x}<extra></extra>",
         "legendgroup": "Jammu and Kashmir",
         "marker": {
          "color": "#FFA15A"
         },
         "name": "Jammu and Kashmir",
         "offsetgroup": "Jammu and Kashmir",
         "orientation": "h",
         "showlegend": true,
         "textposition": "auto",
         "type": "bar",
         "x": [
          23406
         ],
         "xaxis": "x",
         "y": [
          "Jammu and Kashmir"
         ],
         "yaxis": "y"
        },
        {
         "alignmentgroup": "True",
         "hovertemplate": "State=%{y}<br>Total Tested=%{x}<extra></extra>",
         "legendgroup": "Telangana",
         "marker": {
          "color": "#19d3f3"
         },
         "name": "Telangana",
         "offsetgroup": "Telangana",
         "orientation": "h",
         "showlegend": true,
         "textposition": "auto",
         "type": "bar",
         "x": [
          19278
         ],
         "xaxis": "x",
         "y": [
          "Telangana"
         ],
         "yaxis": "y"
        },
        {
         "alignmentgroup": "True",
         "hovertemplate": "State=%{y}<br>Total Tested=%{x}<extra></extra>",
         "legendgroup": "Chhattisgarh",
         "marker": {
          "color": "#FF6692"
         },
         "name": "Chhattisgarh",
         "offsetgroup": "Chhattisgarh",
         "orientation": "h",
         "showlegend": true,
         "textposition": "auto",
         "type": "bar",
         "x": [
          18039
         ],
         "xaxis": "x",
         "y": [
          "Chhattisgarh"
         ],
         "yaxis": "y"
        },
        {
         "alignmentgroup": "True",
         "hovertemplate": "State=%{y}<br>Total Tested=%{x}<extra></extra>",
         "legendgroup": "West Bengal",
         "marker": {
          "color": "#B6E880"
         },
         "name": "West Bengal",
         "offsetgroup": "West Bengal",
         "orientation": "h",
         "showlegend": true,
         "textposition": "auto",
         "type": "bar",
         "x": [
          16525
         ],
         "xaxis": "x",
         "y": [
          "West Bengal"
         ],
         "yaxis": "y"
        },
        {
         "alignmentgroup": "True",
         "hovertemplate": "State=%{y}<br>Total Tested=%{x}<extra></extra>",
         "legendgroup": "Jharkhand",
         "marker": {
          "color": "#FF97FF"
         },
         "name": "Jharkhand",
         "offsetgroup": "Jharkhand",
         "orientation": "h",
         "showlegend": true,
         "textposition": "auto",
         "type": "bar",
         "x": [
          11771
         ],
         "xaxis": "x",
         "y": [
          "Jharkhand"
         ],
         "yaxis": "y"
        },
        {
         "alignmentgroup": "True",
         "hovertemplate": "State=%{y}<br>Total Tested=%{x}<extra></extra>",
         "legendgroup": "Assam",
         "marker": {
          "color": "#FECB52"
         },
         "name": "Assam",
         "offsetgroup": "Assam",
         "orientation": "h",
         "showlegend": true,
         "textposition": "auto",
         "type": "bar",
         "x": [
          9520
         ],
         "xaxis": "x",
         "y": [
          "Assam"
         ],
         "yaxis": "y"
        },
        {
         "alignmentgroup": "True",
         "hovertemplate": "State=%{y}<br>Total Tested=%{x}<extra></extra>",
         "legendgroup": "Uttarakhand",
         "marker": {
          "color": "#636efa"
         },
         "name": "Uttarakhand",
         "offsetgroup": "Uttarakhand",
         "orientation": "h",
         "showlegend": true,
         "textposition": "auto",
         "type": "bar",
         "x": [
          7042
         ],
         "xaxis": "x",
         "y": [
          "Uttarakhand"
         ],
         "yaxis": "y"
        },
        {
         "alignmentgroup": "True",
         "hovertemplate": "State=%{y}<br>Total Tested=%{x}<extra></extra>",
         "legendgroup": "Himachal Pradesh",
         "marker": {
          "color": "#EF553B"
         },
         "name": "Himachal Pradesh",
         "offsetgroup": "Himachal Pradesh",
         "orientation": "h",
         "showlegend": true,
         "textposition": "auto",
         "type": "bar",
         "x": [
          6842
         ],
         "xaxis": "x",
         "y": [
          "Himachal Pradesh"
         ],
         "yaxis": "y"
        },
        {
         "alignmentgroup": "True",
         "hovertemplate": "State=%{y}<br>Total Tested=%{x}<extra></extra>",
         "legendgroup": "Andaman and Nicobar Islands",
         "marker": {
          "color": "#00cc96"
         },
         "name": "Andaman and Nicobar Islands",
         "offsetgroup": "Andaman and Nicobar Islands",
         "orientation": "h",
         "showlegend": true,
         "textposition": "auto",
         "type": "bar",
         "x": [
          3754
         ],
         "xaxis": "x",
         "y": [
          "Andaman and Nicobar Islands"
         ],
         "yaxis": "y"
        },
        {
         "alignmentgroup": "True",
         "hovertemplate": "State=%{y}<br>Total Tested=%{x}<extra></extra>",
         "legendgroup": "Tripura",
         "marker": {
          "color": "#ab63fa"
         },
         "name": "Tripura",
         "offsetgroup": "Tripura",
         "orientation": "h",
         "showlegend": true,
         "textposition": "auto",
         "type": "bar",
         "x": [
          3215
         ],
         "xaxis": "x",
         "y": [
          "Tripura"
         ],
         "yaxis": "y"
        },
        {
         "alignmentgroup": "True",
         "hovertemplate": "State=%{y}<br>Total Tested=%{x}<extra></extra>",
         "legendgroup": "Puducherry",
         "marker": {
          "color": "#FFA15A"
         },
         "name": "Puducherry",
         "offsetgroup": "Puducherry",
         "orientation": "h",
         "showlegend": true,
         "textposition": "auto",
         "type": "bar",
         "x": [
          2698
         ],
         "xaxis": "x",
         "y": [
          "Puducherry"
         ],
         "yaxis": "y"
        },
        {
         "alignmentgroup": "True",
         "hovertemplate": "State=%{y}<br>Total Tested=%{x}<extra></extra>",
         "legendgroup": "Ladakh",
         "marker": {
          "color": "#19d3f3"
         },
         "name": "Ladakh",
         "offsetgroup": "Ladakh",
         "orientation": "h",
         "showlegend": true,
         "textposition": "auto",
         "type": "bar",
         "x": [
          2434
         ],
         "xaxis": "x",
         "y": [
          "Ladakh"
         ],
         "yaxis": "y"
        },
        {
         "alignmentgroup": "True",
         "hovertemplate": "State=%{y}<br>Total Tested=%{x}<extra></extra>",
         "legendgroup": "Goa",
         "marker": {
          "color": "#FF6692"
         },
         "name": "Goa",
         "offsetgroup": "Goa",
         "orientation": "h",
         "showlegend": true,
         "textposition": "auto",
         "type": "bar",
         "x": [
          2181
         ],
         "xaxis": "x",
         "y": [
          "Goa"
         ],
         "yaxis": "y"
        },
        {
         "alignmentgroup": "True",
         "hovertemplate": "State=%{y}<br>Total Tested=%{x}<extra></extra>",
         "legendgroup": "Meghalaya",
         "marker": {
          "color": "#B6E880"
         },
         "name": "Meghalaya",
         "offsetgroup": "Meghalaya",
         "orientation": "h",
         "showlegend": true,
         "textposition": "auto",
         "type": "bar",
         "x": [
          1707
         ],
         "xaxis": "x",
         "y": [
          "Meghalaya"
         ],
         "yaxis": "y"
        },
        {
         "alignmentgroup": "True",
         "hovertemplate": "State=%{y}<br>Total Tested=%{x}<extra></extra>",
         "legendgroup": "Chandigarh",
         "marker": {
          "color": "#FF97FF"
         },
         "name": "Chandigarh",
         "offsetgroup": "Chandigarh",
         "orientation": "h",
         "showlegend": true,
         "textposition": "auto",
         "type": "bar",
         "x": [
          1462
         ],
         "xaxis": "x",
         "y": [
          "Chandigarh"
         ],
         "yaxis": "y"
        },
        {
         "alignmentgroup": "True",
         "hovertemplate": "State=%{y}<br>Total Tested=%{x}<extra></extra>",
         "legendgroup": "Arunachal Pradesh",
         "marker": {
          "color": "#FECB52"
         },
         "name": "Arunachal Pradesh",
         "offsetgroup": "Arunachal Pradesh",
         "orientation": "h",
         "showlegend": true,
         "textposition": "auto",
         "type": "bar",
         "x": [
          724
         ],
         "xaxis": "x",
         "y": [
          "Arunachal Pradesh"
         ],
         "yaxis": "y"
        },
        {
         "alignmentgroup": "True",
         "hovertemplate": "State=%{y}<br>Total Tested=%{x}<extra></extra>",
         "legendgroup": "Nagaland",
         "marker": {
          "color": "#636efa"
         },
         "name": "Nagaland",
         "offsetgroup": "Nagaland",
         "orientation": "h",
         "showlegend": true,
         "textposition": "auto",
         "type": "bar",
         "x": [
          674
         ],
         "xaxis": "x",
         "y": [
          "Nagaland"
         ],
         "yaxis": "y"
        },
        {
         "alignmentgroup": "True",
         "hovertemplate": "State=%{y}<br>Total Tested=%{x}<extra></extra>",
         "legendgroup": "Mizoram",
         "marker": {
          "color": "#EF553B"
         },
         "name": "Mizoram",
         "offsetgroup": "Mizoram",
         "orientation": "h",
         "showlegend": true,
         "textposition": "auto",
         "type": "bar",
         "x": [
          180
         ],
         "xaxis": "x",
         "y": [
          "Mizoram"
         ],
         "yaxis": "y"
        }
       ],
       "layout": {
        "barmode": "relative",
        "height": 800,
        "legend": {
         "title": {
          "text": "State"
         },
         "tracegroupgap": 0
        },
        "template": {
         "data": {
          "bar": [
           {
            "error_x": {
             "color": "#2a3f5f"
            },
            "error_y": {
             "color": "#2a3f5f"
            },
            "marker": {
             "line": {
              "color": "#E5ECF6",
              "width": 0.5
             }
            },
            "type": "bar"
           }
          ],
          "barpolar": [
           {
            "marker": {
             "line": {
              "color": "#E5ECF6",
              "width": 0.5
             }
            },
            "type": "barpolar"
           }
          ],
          "carpet": [
           {
            "aaxis": {
             "endlinecolor": "#2a3f5f",
             "gridcolor": "white",
             "linecolor": "white",
             "minorgridcolor": "white",
             "startlinecolor": "#2a3f5f"
            },
            "baxis": {
             "endlinecolor": "#2a3f5f",
             "gridcolor": "white",
             "linecolor": "white",
             "minorgridcolor": "white",
             "startlinecolor": "#2a3f5f"
            },
            "type": "carpet"
           }
          ],
          "choropleth": [
           {
            "colorbar": {
             "outlinewidth": 0,
             "ticks": ""
            },
            "type": "choropleth"
           }
          ],
          "contour": [
           {
            "colorbar": {
             "outlinewidth": 0,
             "ticks": ""
            },
            "colorscale": [
             [
              0,
              "#0d0887"
             ],
             [
              0.1111111111111111,
              "#46039f"
             ],
             [
              0.2222222222222222,
              "#7201a8"
             ],
             [
              0.3333333333333333,
              "#9c179e"
             ],
             [
              0.4444444444444444,
              "#bd3786"
             ],
             [
              0.5555555555555556,
              "#d8576b"
             ],
             [
              0.6666666666666666,
              "#ed7953"
             ],
             [
              0.7777777777777778,
              "#fb9f3a"
             ],
             [
              0.8888888888888888,
              "#fdca26"
             ],
             [
              1,
              "#f0f921"
             ]
            ],
            "type": "contour"
           }
          ],
          "contourcarpet": [
           {
            "colorbar": {
             "outlinewidth": 0,
             "ticks": ""
            },
            "type": "contourcarpet"
           }
          ],
          "heatmap": [
           {
            "colorbar": {
             "outlinewidth": 0,
             "ticks": ""
            },
            "colorscale": [
             [
              0,
              "#0d0887"
             ],
             [
              0.1111111111111111,
              "#46039f"
             ],
             [
              0.2222222222222222,
              "#7201a8"
             ],
             [
              0.3333333333333333,
              "#9c179e"
             ],
             [
              0.4444444444444444,
              "#bd3786"
             ],
             [
              0.5555555555555556,
              "#d8576b"
             ],
             [
              0.6666666666666666,
              "#ed7953"
             ],
             [
              0.7777777777777778,
              "#fb9f3a"
             ],
             [
              0.8888888888888888,
              "#fdca26"
             ],
             [
              1,
              "#f0f921"
             ]
            ],
            "type": "heatmap"
           }
          ],
          "heatmapgl": [
           {
            "colorbar": {
             "outlinewidth": 0,
             "ticks": ""
            },
            "colorscale": [
             [
              0,
              "#0d0887"
             ],
             [
              0.1111111111111111,
              "#46039f"
             ],
             [
              0.2222222222222222,
              "#7201a8"
             ],
             [
              0.3333333333333333,
              "#9c179e"
             ],
             [
              0.4444444444444444,
              "#bd3786"
             ],
             [
              0.5555555555555556,
              "#d8576b"
             ],
             [
              0.6666666666666666,
              "#ed7953"
             ],
             [
              0.7777777777777778,
              "#fb9f3a"
             ],
             [
              0.8888888888888888,
              "#fdca26"
             ],
             [
              1,
              "#f0f921"
             ]
            ],
            "type": "heatmapgl"
           }
          ],
          "histogram": [
           {
            "marker": {
             "colorbar": {
              "outlinewidth": 0,
              "ticks": ""
             }
            },
            "type": "histogram"
           }
          ],
          "histogram2d": [
           {
            "colorbar": {
             "outlinewidth": 0,
             "ticks": ""
            },
            "colorscale": [
             [
              0,
              "#0d0887"
             ],
             [
              0.1111111111111111,
              "#46039f"
             ],
             [
              0.2222222222222222,
              "#7201a8"
             ],
             [
              0.3333333333333333,
              "#9c179e"
             ],
             [
              0.4444444444444444,
              "#bd3786"
             ],
             [
              0.5555555555555556,
              "#d8576b"
             ],
             [
              0.6666666666666666,
              "#ed7953"
             ],
             [
              0.7777777777777778,
              "#fb9f3a"
             ],
             [
              0.8888888888888888,
              "#fdca26"
             ],
             [
              1,
              "#f0f921"
             ]
            ],
            "type": "histogram2d"
           }
          ],
          "histogram2dcontour": [
           {
            "colorbar": {
             "outlinewidth": 0,
             "ticks": ""
            },
            "colorscale": [
             [
              0,
              "#0d0887"
             ],
             [
              0.1111111111111111,
              "#46039f"
             ],
             [
              0.2222222222222222,
              "#7201a8"
             ],
             [
              0.3333333333333333,
              "#9c179e"
             ],
             [
              0.4444444444444444,
              "#bd3786"
             ],
             [
              0.5555555555555556,
              "#d8576b"
             ],
             [
              0.6666666666666666,
              "#ed7953"
             ],
             [
              0.7777777777777778,
              "#fb9f3a"
             ],
             [
              0.8888888888888888,
              "#fdca26"
             ],
             [
              1,
              "#f0f921"
             ]
            ],
            "type": "histogram2dcontour"
           }
          ],
          "mesh3d": [
           {
            "colorbar": {
             "outlinewidth": 0,
             "ticks": ""
            },
            "type": "mesh3d"
           }
          ],
          "parcoords": [
           {
            "line": {
             "colorbar": {
              "outlinewidth": 0,
              "ticks": ""
             }
            },
            "type": "parcoords"
           }
          ],
          "pie": [
           {
            "automargin": true,
            "type": "pie"
           }
          ],
          "scatter": [
           {
            "marker": {
             "colorbar": {
              "outlinewidth": 0,
              "ticks": ""
             }
            },
            "type": "scatter"
           }
          ],
          "scatter3d": [
           {
            "line": {
             "colorbar": {
              "outlinewidth": 0,
              "ticks": ""
             }
            },
            "marker": {
             "colorbar": {
              "outlinewidth": 0,
              "ticks": ""
             }
            },
            "type": "scatter3d"
           }
          ],
          "scattercarpet": [
           {
            "marker": {
             "colorbar": {
              "outlinewidth": 0,
              "ticks": ""
             }
            },
            "type": "scattercarpet"
           }
          ],
          "scattergeo": [
           {
            "marker": {
             "colorbar": {
              "outlinewidth": 0,
              "ticks": ""
             }
            },
            "type": "scattergeo"
           }
          ],
          "scattergl": [
           {
            "marker": {
             "colorbar": {
              "outlinewidth": 0,
              "ticks": ""
             }
            },
            "type": "scattergl"
           }
          ],
          "scattermapbox": [
           {
            "marker": {
             "colorbar": {
              "outlinewidth": 0,
              "ticks": ""
             }
            },
            "type": "scattermapbox"
           }
          ],
          "scatterpolar": [
           {
            "marker": {
             "colorbar": {
              "outlinewidth": 0,
              "ticks": ""
             }
            },
            "type": "scatterpolar"
           }
          ],
          "scatterpolargl": [
           {
            "marker": {
             "colorbar": {
              "outlinewidth": 0,
              "ticks": ""
             }
            },
            "type": "scatterpolargl"
           }
          ],
          "scatterternary": [
           {
            "marker": {
             "colorbar": {
              "outlinewidth": 0,
              "ticks": ""
             }
            },
            "type": "scatterternary"
           }
          ],
          "surface": [
           {
            "colorbar": {
             "outlinewidth": 0,
             "ticks": ""
            },
            "colorscale": [
             [
              0,
              "#0d0887"
             ],
             [
              0.1111111111111111,
              "#46039f"
             ],
             [
              0.2222222222222222,
              "#7201a8"
             ],
             [
              0.3333333333333333,
              "#9c179e"
             ],
             [
              0.4444444444444444,
              "#bd3786"
             ],
             [
              0.5555555555555556,
              "#d8576b"
             ],
             [
              0.6666666666666666,
              "#ed7953"
             ],
             [
              0.7777777777777778,
              "#fb9f3a"
             ],
             [
              0.8888888888888888,
              "#fdca26"
             ],
             [
              1,
              "#f0f921"
             ]
            ],
            "type": "surface"
           }
          ],
          "table": [
           {
            "cells": {
             "fill": {
              "color": "#EBF0F8"
             },
             "line": {
              "color": "white"
             }
            },
            "header": {
             "fill": {
              "color": "#C8D4E3"
             },
             "line": {
              "color": "white"
             }
            },
            "type": "table"
           }
          ]
         },
         "layout": {
          "annotationdefaults": {
           "arrowcolor": "#2a3f5f",
           "arrowhead": 0,
           "arrowwidth": 1
          },
          "coloraxis": {
           "colorbar": {
            "outlinewidth": 0,
            "ticks": ""
           }
          },
          "colorscale": {
           "diverging": [
            [
             0,
             "#8e0152"
            ],
            [
             0.1,
             "#c51b7d"
            ],
            [
             0.2,
             "#de77ae"
            ],
            [
             0.3,
             "#f1b6da"
            ],
            [
             0.4,
             "#fde0ef"
            ],
            [
             0.5,
             "#f7f7f7"
            ],
            [
             0.6,
             "#e6f5d0"
            ],
            [
             0.7,
             "#b8e186"
            ],
            [
             0.8,
             "#7fbc41"
            ],
            [
             0.9,
             "#4d9221"
            ],
            [
             1,
             "#276419"
            ]
           ],
           "sequential": [
            [
             0,
             "#0d0887"
            ],
            [
             0.1111111111111111,
             "#46039f"
            ],
            [
             0.2222222222222222,
             "#7201a8"
            ],
            [
             0.3333333333333333,
             "#9c179e"
            ],
            [
             0.4444444444444444,
             "#bd3786"
            ],
            [
             0.5555555555555556,
             "#d8576b"
            ],
            [
             0.6666666666666666,
             "#ed7953"
            ],
            [
             0.7777777777777778,
             "#fb9f3a"
            ],
            [
             0.8888888888888888,
             "#fdca26"
            ],
            [
             1,
             "#f0f921"
            ]
           ],
           "sequentialminus": [
            [
             0,
             "#0d0887"
            ],
            [
             0.1111111111111111,
             "#46039f"
            ],
            [
             0.2222222222222222,
             "#7201a8"
            ],
            [
             0.3333333333333333,
             "#9c179e"
            ],
            [
             0.4444444444444444,
             "#bd3786"
            ],
            [
             0.5555555555555556,
             "#d8576b"
            ],
            [
             0.6666666666666666,
             "#ed7953"
            ],
            [
             0.7777777777777778,
             "#fb9f3a"
            ],
            [
             0.8888888888888888,
             "#fdca26"
            ],
            [
             1,
             "#f0f921"
            ]
           ]
          },
          "colorway": [
           "#636efa",
           "#EF553B",
           "#00cc96",
           "#ab63fa",
           "#FFA15A",
           "#19d3f3",
           "#FF6692",
           "#B6E880",
           "#FF97FF",
           "#FECB52"
          ],
          "font": {
           "color": "#2a3f5f"
          },
          "geo": {
           "bgcolor": "white",
           "lakecolor": "white",
           "landcolor": "#E5ECF6",
           "showlakes": true,
           "showland": true,
           "subunitcolor": "white"
          },
          "hoverlabel": {
           "align": "left"
          },
          "hovermode": "closest",
          "mapbox": {
           "style": "light"
          },
          "paper_bgcolor": "white",
          "plot_bgcolor": "#E5ECF6",
          "polar": {
           "angularaxis": {
            "gridcolor": "white",
            "linecolor": "white",
            "ticks": ""
           },
           "bgcolor": "#E5ECF6",
           "radialaxis": {
            "gridcolor": "white",
            "linecolor": "white",
            "ticks": ""
           }
          },
          "scene": {
           "xaxis": {
            "backgroundcolor": "#E5ECF6",
            "gridcolor": "white",
            "gridwidth": 2,
            "linecolor": "white",
            "showbackground": true,
            "ticks": "",
            "zerolinecolor": "white"
           },
           "yaxis": {
            "backgroundcolor": "#E5ECF6",
            "gridcolor": "white",
            "gridwidth": 2,
            "linecolor": "white",
            "showbackground": true,
            "ticks": "",
            "zerolinecolor": "white"
           },
           "zaxis": {
            "backgroundcolor": "#E5ECF6",
            "gridcolor": "white",
            "gridwidth": 2,
            "linecolor": "white",
            "showbackground": true,
            "ticks": "",
            "zerolinecolor": "white"
           }
          },
          "shapedefaults": {
           "line": {
            "color": "#2a3f5f"
           }
          },
          "ternary": {
           "aaxis": {
            "gridcolor": "white",
            "linecolor": "white",
            "ticks": ""
           },
           "baxis": {
            "gridcolor": "white",
            "linecolor": "white",
            "ticks": ""
           },
           "bgcolor": "#E5ECF6",
           "caxis": {
            "gridcolor": "white",
            "linecolor": "white",
            "ticks": ""
           }
          },
          "title": {
           "x": 0.05
          },
          "xaxis": {
           "automargin": true,
           "gridcolor": "white",
           "linecolor": "white",
           "ticks": "",
           "title": {
            "standoff": 15
           },
           "zerolinecolor": "white",
           "zerolinewidth": 2
          },
          "yaxis": {
           "automargin": true,
           "gridcolor": "white",
           "linecolor": "white",
           "ticks": "",
           "title": {
            "standoff": 15
           },
           "zerolinecolor": "white",
           "zerolinewidth": 2
          }
         }
        },
        "title": {
         "text": "Statewise Testing"
        },
        "xaxis": {
         "anchor": "y",
         "domain": [
          0,
          1
         ],
         "title": {
          "text": "Total Tested"
         }
        },
        "yaxis": {
         "anchor": "x",
         "categoryarray": [
          "Mizoram",
          "Nagaland",
          "Arunachal Pradesh",
          "Chandigarh",
          "Meghalaya",
          "Goa",
          "Ladakh",
          "Puducherry",
          "Tripura",
          "Andaman and Nicobar Islands",
          "Himachal Pradesh",
          "Uttarakhand",
          "Assam",
          "Jharkhand",
          "West Bengal",
          "Chhattisgarh",
          "Telangana",
          "Jammu and Kashmir",
          "Punjab",
          "Bihar",
          "Kerala",
          "Haryana",
          "Odisha",
          "Madhya Pradesh",
          "Delhi",
          "Gujarat",
          "Karnataka",
          "Uttar Pradesh",
          "Andhra Pradesh",
          "Rajasthan",
          "Tamil Nadu",
          "Maharashtra"
         ],
         "categoryorder": "array",
         "domain": [
          0,
          1
         ],
         "title": {
          "text": "State"
         }
        }
       }
      },
      "text/html": [
       "<div>\n",
       "        \n",
       "        \n",
       "            <div id=\"d7c1767c-0c9a-452b-9c98-b77abe75e9d4\" class=\"plotly-graph-div\" style=\"height:800px; width:100%;\"></div>\n",
       "            <script type=\"text/javascript\">\n",
       "                require([\"plotly\"], function(Plotly) {\n",
       "                    window.PLOTLYENV=window.PLOTLYENV || {};\n",
       "                    \n",
       "                if (document.getElementById(\"d7c1767c-0c9a-452b-9c98-b77abe75e9d4\")) {\n",
       "                    Plotly.newPlot(\n",
       "                        'd7c1767c-0c9a-452b-9c98-b77abe75e9d4',\n",
       "                        [{\"alignmentgroup\": \"True\", \"hovertemplate\": \"State=%{y}<br>Total Tested=%{x}<extra></extra>\", \"legendgroup\": \"Maharashtra\", \"marker\": {\"color\": \"#636efa\"}, \"name\": \"Maharashtra\", \"offsetgroup\": \"Maharashtra\", \"orientation\": \"h\", \"showlegend\": true, \"textposition\": \"auto\", \"type\": \"bar\", \"x\": [151085.0], \"xaxis\": \"x\", \"y\": [\"Maharashtra\"], \"yaxis\": \"y\"}, {\"alignmentgroup\": \"True\", \"hovertemplate\": \"State=%{y}<br>Total Tested=%{x}<extra></extra>\", \"legendgroup\": \"Tamil Nadu\", \"marker\": {\"color\": \"#EF553B\"}, \"name\": \"Tamil Nadu\", \"offsetgroup\": \"Tamil Nadu\", \"orientation\": \"h\", \"showlegend\": true, \"textposition\": \"auto\", \"type\": \"bar\", \"x\": [139490.0], \"xaxis\": \"x\", \"y\": [\"Tamil Nadu\"], \"yaxis\": \"y\"}, {\"alignmentgroup\": \"True\", \"hovertemplate\": \"State=%{y}<br>Total Tested=%{x}<extra></extra>\", \"legendgroup\": \"Rajasthan\", \"marker\": {\"color\": \"#00cc96\"}, \"name\": \"Rajasthan\", \"offsetgroup\": \"Rajasthan\", \"orientation\": \"h\", \"showlegend\": true, \"textposition\": \"auto\", \"type\": \"bar\", \"x\": [113934.0], \"xaxis\": \"x\", \"y\": [\"Rajasthan\"], \"yaxis\": \"y\"}, {\"alignmentgroup\": \"True\", \"hovertemplate\": \"State=%{y}<br>Total Tested=%{x}<extra></extra>\", \"legendgroup\": \"Andhra Pradesh\", \"marker\": {\"color\": \"#ab63fa\"}, \"name\": \"Andhra Pradesh\", \"offsetgroup\": \"Andhra Pradesh\", \"orientation\": \"h\", \"showlegend\": true, \"textposition\": \"auto\", \"type\": \"bar\", \"x\": [108403.0], \"xaxis\": \"x\", \"y\": [\"Andhra Pradesh\"], \"yaxis\": \"y\"}, {\"alignmentgroup\": \"True\", \"hovertemplate\": \"State=%{y}<br>Total Tested=%{x}<extra></extra>\", \"legendgroup\": \"Uttar Pradesh\", \"marker\": {\"color\": \"#FFA15A\"}, \"name\": \"Uttar Pradesh\", \"offsetgroup\": \"Uttar Pradesh\", \"orientation\": \"h\", \"showlegend\": true, \"textposition\": \"auto\", \"type\": \"bar\", \"x\": [85729.0], \"xaxis\": \"x\", \"y\": [\"Uttar Pradesh\"], \"yaxis\": \"y\"}, {\"alignmentgroup\": \"True\", \"hovertemplate\": \"State=%{y}<br>Total Tested=%{x}<extra></extra>\", \"legendgroup\": \"Karnataka\", \"marker\": {\"color\": \"#19d3f3\"}, \"name\": \"Karnataka\", \"offsetgroup\": \"Karnataka\", \"orientation\": \"h\", \"showlegend\": true, \"textposition\": \"auto\", \"type\": \"bar\", \"x\": [69730.0], \"xaxis\": \"x\", \"y\": [\"Karnataka\"], \"yaxis\": \"y\"}, {\"alignmentgroup\": \"True\", \"hovertemplate\": \"State=%{y}<br>Total Tested=%{x}<extra></extra>\", \"legendgroup\": \"Gujarat\", \"marker\": {\"color\": \"#FF6692\"}, \"name\": \"Gujarat\", \"offsetgroup\": \"Gujarat\", \"orientation\": \"h\", \"showlegend\": true, \"textposition\": \"auto\", \"type\": \"bar\", \"x\": [68774.0], \"xaxis\": \"x\", \"y\": [\"Gujarat\"], \"yaxis\": \"y\"}, {\"alignmentgroup\": \"True\", \"hovertemplate\": \"State=%{y}<br>Total Tested=%{x}<extra></extra>\", \"legendgroup\": \"Delhi\", \"marker\": {\"color\": \"#B6E880\"}, \"name\": \"Delhi\", \"offsetgroup\": \"Delhi\", \"orientation\": \"h\", \"showlegend\": true, \"textposition\": \"auto\", \"type\": \"bar\", \"x\": [47225.0], \"xaxis\": \"x\", \"y\": [\"Delhi\"], \"yaxis\": \"y\"}, {\"alignmentgroup\": \"True\", \"hovertemplate\": \"State=%{y}<br>Total Tested=%{x}<extra></extra>\", \"legendgroup\": \"Madhya Pradesh\", \"marker\": {\"color\": \"#FF97FF\"}, \"name\": \"Madhya Pradesh\", \"offsetgroup\": \"Madhya Pradesh\", \"orientation\": \"h\", \"showlegend\": true, \"textposition\": \"auto\", \"type\": \"bar\", \"x\": [46578.0], \"xaxis\": \"x\", \"y\": [\"Madhya Pradesh\"], \"yaxis\": \"y\"}, {\"alignmentgroup\": \"True\", \"hovertemplate\": \"State=%{y}<br>Total Tested=%{x}<extra></extra>\", \"legendgroup\": \"Odisha\", \"marker\": {\"color\": \"#FECB52\"}, \"name\": \"Odisha\", \"offsetgroup\": \"Odisha\", \"orientation\": \"h\", \"showlegend\": true, \"textposition\": \"auto\", \"type\": \"bar\", \"x\": [36593.0], \"xaxis\": \"x\", \"y\": [\"Odisha\"], \"yaxis\": \"y\"}, {\"alignmentgroup\": \"True\", \"hovertemplate\": \"State=%{y}<br>Total Tested=%{x}<extra></extra>\", \"legendgroup\": \"Haryana\", \"marker\": {\"color\": \"#636efa\"}, \"name\": \"Haryana\", \"offsetgroup\": \"Haryana\", \"orientation\": \"h\", \"showlegend\": true, \"textposition\": \"auto\", \"type\": \"bar\", \"x\": [31200.0], \"xaxis\": \"x\", \"y\": [\"Haryana\"], \"yaxis\": \"y\"}, {\"alignmentgroup\": \"True\", \"hovertemplate\": \"State=%{y}<br>Total Tested=%{x}<extra></extra>\", \"legendgroup\": \"Kerala\", \"marker\": {\"color\": \"#EF553B\"}, \"name\": \"Kerala\", \"offsetgroup\": \"Kerala\", \"orientation\": \"h\", \"showlegend\": true, \"textposition\": \"auto\", \"type\": \"bar\", \"x\": [31183.0], \"xaxis\": \"x\", \"y\": [\"Kerala\"], \"yaxis\": \"y\"}, {\"alignmentgroup\": \"True\", \"hovertemplate\": \"State=%{y}<br>Total Tested=%{x}<extra></extra>\", \"legendgroup\": \"Bihar\", \"marker\": {\"color\": \"#00cc96\"}, \"name\": \"Bihar\", \"offsetgroup\": \"Bihar\", \"orientation\": \"h\", \"showlegend\": true, \"textposition\": \"auto\", \"type\": \"bar\", \"x\": [26315.0], \"xaxis\": \"x\", \"y\": [\"Bihar\"], \"yaxis\": \"y\"}, {\"alignmentgroup\": \"True\", \"hovertemplate\": \"State=%{y}<br>Total Tested=%{x}<extra></extra>\", \"legendgroup\": \"Punjab\", \"marker\": {\"color\": \"#ab63fa\"}, \"name\": \"Punjab\", \"offsetgroup\": \"Punjab\", \"orientation\": \"h\", \"showlegend\": true, \"textposition\": \"auto\", \"type\": \"bar\", \"x\": [24868.0], \"xaxis\": \"x\", \"y\": [\"Punjab\"], \"yaxis\": \"y\"}, {\"alignmentgroup\": \"True\", \"hovertemplate\": \"State=%{y}<br>Total Tested=%{x}<extra></extra>\", \"legendgroup\": \"Jammu and Kashmir\", \"marker\": {\"color\": \"#FFA15A\"}, \"name\": \"Jammu and Kashmir\", \"offsetgroup\": \"Jammu and Kashmir\", \"orientation\": \"h\", \"showlegend\": true, \"textposition\": \"auto\", \"type\": \"bar\", \"x\": [23406.0], \"xaxis\": \"x\", \"y\": [\"Jammu and Kashmir\"], \"yaxis\": \"y\"}, {\"alignmentgroup\": \"True\", \"hovertemplate\": \"State=%{y}<br>Total Tested=%{x}<extra></extra>\", \"legendgroup\": \"Telangana\", \"marker\": {\"color\": \"#19d3f3\"}, \"name\": \"Telangana\", \"offsetgroup\": \"Telangana\", \"orientation\": \"h\", \"showlegend\": true, \"textposition\": \"auto\", \"type\": \"bar\", \"x\": [19278.0], \"xaxis\": \"x\", \"y\": [\"Telangana\"], \"yaxis\": \"y\"}, {\"alignmentgroup\": \"True\", \"hovertemplate\": \"State=%{y}<br>Total Tested=%{x}<extra></extra>\", \"legendgroup\": \"Chhattisgarh\", \"marker\": {\"color\": \"#FF6692\"}, \"name\": \"Chhattisgarh\", \"offsetgroup\": \"Chhattisgarh\", \"orientation\": \"h\", \"showlegend\": true, \"textposition\": \"auto\", \"type\": \"bar\", \"x\": [18039.0], \"xaxis\": \"x\", \"y\": [\"Chhattisgarh\"], \"yaxis\": \"y\"}, {\"alignmentgroup\": \"True\", \"hovertemplate\": \"State=%{y}<br>Total Tested=%{x}<extra></extra>\", \"legendgroup\": \"West Bengal\", \"marker\": {\"color\": \"#B6E880\"}, \"name\": \"West Bengal\", \"offsetgroup\": \"West Bengal\", \"orientation\": \"h\", \"showlegend\": true, \"textposition\": \"auto\", \"type\": \"bar\", \"x\": [16525.0], \"xaxis\": \"x\", \"y\": [\"West Bengal\"], \"yaxis\": \"y\"}, {\"alignmentgroup\": \"True\", \"hovertemplate\": \"State=%{y}<br>Total Tested=%{x}<extra></extra>\", \"legendgroup\": \"Jharkhand\", \"marker\": {\"color\": \"#FF97FF\"}, \"name\": \"Jharkhand\", \"offsetgroup\": \"Jharkhand\", \"orientation\": \"h\", \"showlegend\": true, \"textposition\": \"auto\", \"type\": \"bar\", \"x\": [11771.0], \"xaxis\": \"x\", \"y\": [\"Jharkhand\"], \"yaxis\": \"y\"}, {\"alignmentgroup\": \"True\", \"hovertemplate\": \"State=%{y}<br>Total Tested=%{x}<extra></extra>\", \"legendgroup\": \"Assam\", \"marker\": {\"color\": \"#FECB52\"}, \"name\": \"Assam\", \"offsetgroup\": \"Assam\", \"orientation\": \"h\", \"showlegend\": true, \"textposition\": \"auto\", \"type\": \"bar\", \"x\": [9520.0], \"xaxis\": \"x\", \"y\": [\"Assam\"], \"yaxis\": \"y\"}, {\"alignmentgroup\": \"True\", \"hovertemplate\": \"State=%{y}<br>Total Tested=%{x}<extra></extra>\", \"legendgroup\": \"Uttarakhand\", \"marker\": {\"color\": \"#636efa\"}, \"name\": \"Uttarakhand\", \"offsetgroup\": \"Uttarakhand\", \"orientation\": \"h\", \"showlegend\": true, \"textposition\": \"auto\", \"type\": \"bar\", \"x\": [7042.0], \"xaxis\": \"x\", \"y\": [\"Uttarakhand\"], \"yaxis\": \"y\"}, {\"alignmentgroup\": \"True\", \"hovertemplate\": \"State=%{y}<br>Total Tested=%{x}<extra></extra>\", \"legendgroup\": \"Himachal Pradesh\", \"marker\": {\"color\": \"#EF553B\"}, \"name\": \"Himachal Pradesh\", \"offsetgroup\": \"Himachal Pradesh\", \"orientation\": \"h\", \"showlegend\": true, \"textposition\": \"auto\", \"type\": \"bar\", \"x\": [6842.0], \"xaxis\": \"x\", \"y\": [\"Himachal Pradesh\"], \"yaxis\": \"y\"}, {\"alignmentgroup\": \"True\", \"hovertemplate\": \"State=%{y}<br>Total Tested=%{x}<extra></extra>\", \"legendgroup\": \"Andaman and Nicobar Islands\", \"marker\": {\"color\": \"#00cc96\"}, \"name\": \"Andaman and Nicobar Islands\", \"offsetgroup\": \"Andaman and Nicobar Islands\", \"orientation\": \"h\", \"showlegend\": true, \"textposition\": \"auto\", \"type\": \"bar\", \"x\": [3754.0], \"xaxis\": \"x\", \"y\": [\"Andaman and Nicobar Islands\"], \"yaxis\": \"y\"}, {\"alignmentgroup\": \"True\", \"hovertemplate\": \"State=%{y}<br>Total Tested=%{x}<extra></extra>\", \"legendgroup\": \"Tripura\", \"marker\": {\"color\": \"#ab63fa\"}, \"name\": \"Tripura\", \"offsetgroup\": \"Tripura\", \"orientation\": \"h\", \"showlegend\": true, \"textposition\": \"auto\", \"type\": \"bar\", \"x\": [3215.0], \"xaxis\": \"x\", \"y\": [\"Tripura\"], \"yaxis\": \"y\"}, {\"alignmentgroup\": \"True\", \"hovertemplate\": \"State=%{y}<br>Total Tested=%{x}<extra></extra>\", \"legendgroup\": \"Puducherry\", \"marker\": {\"color\": \"#FFA15A\"}, \"name\": \"Puducherry\", \"offsetgroup\": \"Puducherry\", \"orientation\": \"h\", \"showlegend\": true, \"textposition\": \"auto\", \"type\": \"bar\", \"x\": [2698.0], \"xaxis\": \"x\", \"y\": [\"Puducherry\"], \"yaxis\": \"y\"}, {\"alignmentgroup\": \"True\", \"hovertemplate\": \"State=%{y}<br>Total Tested=%{x}<extra></extra>\", \"legendgroup\": \"Ladakh\", \"marker\": {\"color\": \"#19d3f3\"}, \"name\": \"Ladakh\", \"offsetgroup\": \"Ladakh\", \"orientation\": \"h\", \"showlegend\": true, \"textposition\": \"auto\", \"type\": \"bar\", \"x\": [2434.0], \"xaxis\": \"x\", \"y\": [\"Ladakh\"], \"yaxis\": \"y\"}, {\"alignmentgroup\": \"True\", \"hovertemplate\": \"State=%{y}<br>Total Tested=%{x}<extra></extra>\", \"legendgroup\": \"Goa\", \"marker\": {\"color\": \"#FF6692\"}, \"name\": \"Goa\", \"offsetgroup\": \"Goa\", \"orientation\": \"h\", \"showlegend\": true, \"textposition\": \"auto\", \"type\": \"bar\", \"x\": [2181.0], \"xaxis\": \"x\", \"y\": [\"Goa\"], \"yaxis\": \"y\"}, {\"alignmentgroup\": \"True\", \"hovertemplate\": \"State=%{y}<br>Total Tested=%{x}<extra></extra>\", \"legendgroup\": \"Meghalaya\", \"marker\": {\"color\": \"#B6E880\"}, \"name\": \"Meghalaya\", \"offsetgroup\": \"Meghalaya\", \"orientation\": \"h\", \"showlegend\": true, \"textposition\": \"auto\", \"type\": \"bar\", \"x\": [1707.0], \"xaxis\": \"x\", \"y\": [\"Meghalaya\"], \"yaxis\": \"y\"}, {\"alignmentgroup\": \"True\", \"hovertemplate\": \"State=%{y}<br>Total Tested=%{x}<extra></extra>\", \"legendgroup\": \"Chandigarh\", \"marker\": {\"color\": \"#FF97FF\"}, \"name\": \"Chandigarh\", \"offsetgroup\": \"Chandigarh\", \"orientation\": \"h\", \"showlegend\": true, \"textposition\": \"auto\", \"type\": \"bar\", \"x\": [1462.0], \"xaxis\": \"x\", \"y\": [\"Chandigarh\"], \"yaxis\": \"y\"}, {\"alignmentgroup\": \"True\", \"hovertemplate\": \"State=%{y}<br>Total Tested=%{x}<extra></extra>\", \"legendgroup\": \"Arunachal Pradesh\", \"marker\": {\"color\": \"#FECB52\"}, \"name\": \"Arunachal Pradesh\", \"offsetgroup\": \"Arunachal Pradesh\", \"orientation\": \"h\", \"showlegend\": true, \"textposition\": \"auto\", \"type\": \"bar\", \"x\": [724.0], \"xaxis\": \"x\", \"y\": [\"Arunachal Pradesh\"], \"yaxis\": \"y\"}, {\"alignmentgroup\": \"True\", \"hovertemplate\": \"State=%{y}<br>Total Tested=%{x}<extra></extra>\", \"legendgroup\": \"Nagaland\", \"marker\": {\"color\": \"#636efa\"}, \"name\": \"Nagaland\", \"offsetgroup\": \"Nagaland\", \"orientation\": \"h\", \"showlegend\": true, \"textposition\": \"auto\", \"type\": \"bar\", \"x\": [674.0], \"xaxis\": \"x\", \"y\": [\"Nagaland\"], \"yaxis\": \"y\"}, {\"alignmentgroup\": \"True\", \"hovertemplate\": \"State=%{y}<br>Total Tested=%{x}<extra></extra>\", \"legendgroup\": \"Mizoram\", \"marker\": {\"color\": \"#EF553B\"}, \"name\": \"Mizoram\", \"offsetgroup\": \"Mizoram\", \"orientation\": \"h\", \"showlegend\": true, \"textposition\": \"auto\", \"type\": \"bar\", \"x\": [180.0], \"xaxis\": \"x\", \"y\": [\"Mizoram\"], \"yaxis\": \"y\"}],\n",
       "                        {\"barmode\": \"relative\", \"height\": 800, \"legend\": {\"title\": {\"text\": \"State\"}, \"tracegroupgap\": 0}, \"template\": {\"data\": {\"bar\": [{\"error_x\": {\"color\": \"#2a3f5f\"}, \"error_y\": {\"color\": \"#2a3f5f\"}, \"marker\": {\"line\": {\"color\": \"#E5ECF6\", \"width\": 0.5}}, \"type\": \"bar\"}], \"barpolar\": [{\"marker\": {\"line\": {\"color\": \"#E5ECF6\", \"width\": 0.5}}, \"type\": \"barpolar\"}], \"carpet\": [{\"aaxis\": {\"endlinecolor\": \"#2a3f5f\", \"gridcolor\": \"white\", \"linecolor\": \"white\", \"minorgridcolor\": \"white\", \"startlinecolor\": \"#2a3f5f\"}, \"baxis\": {\"endlinecolor\": \"#2a3f5f\", \"gridcolor\": \"white\", \"linecolor\": \"white\", \"minorgridcolor\": \"white\", \"startlinecolor\": \"#2a3f5f\"}, \"type\": \"carpet\"}], \"choropleth\": [{\"colorbar\": {\"outlinewidth\": 0, \"ticks\": \"\"}, \"type\": \"choropleth\"}], \"contour\": [{\"colorbar\": {\"outlinewidth\": 0, \"ticks\": \"\"}, \"colorscale\": [[0.0, \"#0d0887\"], [0.1111111111111111, \"#46039f\"], [0.2222222222222222, \"#7201a8\"], [0.3333333333333333, \"#9c179e\"], [0.4444444444444444, \"#bd3786\"], [0.5555555555555556, \"#d8576b\"], [0.6666666666666666, \"#ed7953\"], [0.7777777777777778, \"#fb9f3a\"], [0.8888888888888888, \"#fdca26\"], [1.0, \"#f0f921\"]], \"type\": \"contour\"}], \"contourcarpet\": [{\"colorbar\": {\"outlinewidth\": 0, \"ticks\": \"\"}, \"type\": \"contourcarpet\"}], \"heatmap\": [{\"colorbar\": {\"outlinewidth\": 0, \"ticks\": \"\"}, \"colorscale\": [[0.0, \"#0d0887\"], [0.1111111111111111, \"#46039f\"], [0.2222222222222222, \"#7201a8\"], [0.3333333333333333, \"#9c179e\"], [0.4444444444444444, \"#bd3786\"], [0.5555555555555556, \"#d8576b\"], [0.6666666666666666, \"#ed7953\"], [0.7777777777777778, \"#fb9f3a\"], [0.8888888888888888, \"#fdca26\"], [1.0, \"#f0f921\"]], \"type\": \"heatmap\"}], \"heatmapgl\": [{\"colorbar\": {\"outlinewidth\": 0, \"ticks\": \"\"}, \"colorscale\": [[0.0, \"#0d0887\"], [0.1111111111111111, \"#46039f\"], [0.2222222222222222, \"#7201a8\"], [0.3333333333333333, \"#9c179e\"], [0.4444444444444444, \"#bd3786\"], [0.5555555555555556, \"#d8576b\"], [0.6666666666666666, \"#ed7953\"], [0.7777777777777778, \"#fb9f3a\"], [0.8888888888888888, \"#fdca26\"], [1.0, \"#f0f921\"]], \"type\": \"heatmapgl\"}], \"histogram\": [{\"marker\": {\"colorbar\": {\"outlinewidth\": 0, \"ticks\": \"\"}}, \"type\": \"histogram\"}], \"histogram2d\": [{\"colorbar\": {\"outlinewidth\": 0, \"ticks\": \"\"}, \"colorscale\": [[0.0, \"#0d0887\"], [0.1111111111111111, \"#46039f\"], [0.2222222222222222, \"#7201a8\"], [0.3333333333333333, \"#9c179e\"], [0.4444444444444444, \"#bd3786\"], [0.5555555555555556, \"#d8576b\"], [0.6666666666666666, \"#ed7953\"], [0.7777777777777778, \"#fb9f3a\"], [0.8888888888888888, \"#fdca26\"], [1.0, \"#f0f921\"]], \"type\": \"histogram2d\"}], \"histogram2dcontour\": [{\"colorbar\": {\"outlinewidth\": 0, \"ticks\": \"\"}, \"colorscale\": [[0.0, \"#0d0887\"], [0.1111111111111111, \"#46039f\"], [0.2222222222222222, \"#7201a8\"], [0.3333333333333333, \"#9c179e\"], [0.4444444444444444, \"#bd3786\"], [0.5555555555555556, \"#d8576b\"], [0.6666666666666666, \"#ed7953\"], [0.7777777777777778, \"#fb9f3a\"], [0.8888888888888888, \"#fdca26\"], [1.0, \"#f0f921\"]], \"type\": \"histogram2dcontour\"}], \"mesh3d\": [{\"colorbar\": {\"outlinewidth\": 0, \"ticks\": \"\"}, \"type\": \"mesh3d\"}], \"parcoords\": [{\"line\": {\"colorbar\": {\"outlinewidth\": 0, \"ticks\": \"\"}}, \"type\": \"parcoords\"}], \"pie\": [{\"automargin\": true, \"type\": \"pie\"}], \"scatter\": [{\"marker\": {\"colorbar\": {\"outlinewidth\": 0, \"ticks\": \"\"}}, \"type\": \"scatter\"}], \"scatter3d\": [{\"line\": {\"colorbar\": {\"outlinewidth\": 0, \"ticks\": \"\"}}, \"marker\": {\"colorbar\": {\"outlinewidth\": 0, \"ticks\": \"\"}}, \"type\": \"scatter3d\"}], \"scattercarpet\": [{\"marker\": {\"colorbar\": {\"outlinewidth\": 0, \"ticks\": \"\"}}, \"type\": \"scattercarpet\"}], \"scattergeo\": [{\"marker\": {\"colorbar\": {\"outlinewidth\": 0, \"ticks\": \"\"}}, \"type\": \"scattergeo\"}], \"scattergl\": [{\"marker\": {\"colorbar\": {\"outlinewidth\": 0, \"ticks\": \"\"}}, \"type\": \"scattergl\"}], \"scattermapbox\": [{\"marker\": {\"colorbar\": {\"outlinewidth\": 0, \"ticks\": \"\"}}, \"type\": \"scattermapbox\"}], \"scatterpolar\": [{\"marker\": {\"colorbar\": {\"outlinewidth\": 0, \"ticks\": \"\"}}, \"type\": \"scatterpolar\"}], \"scatterpolargl\": [{\"marker\": {\"colorbar\": {\"outlinewidth\": 0, \"ticks\": \"\"}}, \"type\": \"scatterpolargl\"}], \"scatterternary\": [{\"marker\": {\"colorbar\": {\"outlinewidth\": 0, \"ticks\": \"\"}}, \"type\": \"scatterternary\"}], \"surface\": [{\"colorbar\": {\"outlinewidth\": 0, \"ticks\": \"\"}, \"colorscale\": [[0.0, \"#0d0887\"], [0.1111111111111111, \"#46039f\"], [0.2222222222222222, \"#7201a8\"], [0.3333333333333333, \"#9c179e\"], [0.4444444444444444, \"#bd3786\"], [0.5555555555555556, \"#d8576b\"], [0.6666666666666666, \"#ed7953\"], [0.7777777777777778, \"#fb9f3a\"], [0.8888888888888888, \"#fdca26\"], [1.0, \"#f0f921\"]], \"type\": \"surface\"}], \"table\": [{\"cells\": {\"fill\": {\"color\": \"#EBF0F8\"}, \"line\": {\"color\": \"white\"}}, \"header\": {\"fill\": {\"color\": \"#C8D4E3\"}, \"line\": {\"color\": \"white\"}}, \"type\": \"table\"}]}, \"layout\": {\"annotationdefaults\": {\"arrowcolor\": \"#2a3f5f\", \"arrowhead\": 0, \"arrowwidth\": 1}, \"coloraxis\": {\"colorbar\": {\"outlinewidth\": 0, \"ticks\": \"\"}}, \"colorscale\": {\"diverging\": [[0, \"#8e0152\"], [0.1, \"#c51b7d\"], [0.2, \"#de77ae\"], [0.3, \"#f1b6da\"], [0.4, \"#fde0ef\"], [0.5, \"#f7f7f7\"], [0.6, \"#e6f5d0\"], [0.7, \"#b8e186\"], [0.8, \"#7fbc41\"], [0.9, \"#4d9221\"], [1, \"#276419\"]], \"sequential\": [[0.0, \"#0d0887\"], [0.1111111111111111, \"#46039f\"], [0.2222222222222222, \"#7201a8\"], [0.3333333333333333, \"#9c179e\"], [0.4444444444444444, \"#bd3786\"], [0.5555555555555556, \"#d8576b\"], [0.6666666666666666, \"#ed7953\"], [0.7777777777777778, \"#fb9f3a\"], [0.8888888888888888, \"#fdca26\"], [1.0, \"#f0f921\"]], \"sequentialminus\": [[0.0, \"#0d0887\"], [0.1111111111111111, \"#46039f\"], [0.2222222222222222, \"#7201a8\"], [0.3333333333333333, \"#9c179e\"], [0.4444444444444444, \"#bd3786\"], [0.5555555555555556, \"#d8576b\"], [0.6666666666666666, \"#ed7953\"], [0.7777777777777778, \"#fb9f3a\"], [0.8888888888888888, \"#fdca26\"], [1.0, \"#f0f921\"]]}, \"colorway\": [\"#636efa\", \"#EF553B\", \"#00cc96\", \"#ab63fa\", \"#FFA15A\", \"#19d3f3\", \"#FF6692\", \"#B6E880\", \"#FF97FF\", \"#FECB52\"], \"font\": {\"color\": \"#2a3f5f\"}, \"geo\": {\"bgcolor\": \"white\", \"lakecolor\": \"white\", \"landcolor\": \"#E5ECF6\", \"showlakes\": true, \"showland\": true, \"subunitcolor\": \"white\"}, \"hoverlabel\": {\"align\": \"left\"}, \"hovermode\": \"closest\", \"mapbox\": {\"style\": \"light\"}, \"paper_bgcolor\": \"white\", \"plot_bgcolor\": \"#E5ECF6\", \"polar\": {\"angularaxis\": {\"gridcolor\": \"white\", \"linecolor\": \"white\", \"ticks\": \"\"}, \"bgcolor\": \"#E5ECF6\", \"radialaxis\": {\"gridcolor\": \"white\", \"linecolor\": \"white\", \"ticks\": \"\"}}, \"scene\": {\"xaxis\": {\"backgroundcolor\": \"#E5ECF6\", \"gridcolor\": \"white\", \"gridwidth\": 2, \"linecolor\": \"white\", \"showbackground\": true, \"ticks\": \"\", \"zerolinecolor\": \"white\"}, \"yaxis\": {\"backgroundcolor\": \"#E5ECF6\", \"gridcolor\": \"white\", \"gridwidth\": 2, \"linecolor\": \"white\", \"showbackground\": true, \"ticks\": \"\", \"zerolinecolor\": \"white\"}, \"zaxis\": {\"backgroundcolor\": \"#E5ECF6\", \"gridcolor\": \"white\", \"gridwidth\": 2, \"linecolor\": \"white\", \"showbackground\": true, \"ticks\": \"\", \"zerolinecolor\": \"white\"}}, \"shapedefaults\": {\"line\": {\"color\": \"#2a3f5f\"}}, \"ternary\": {\"aaxis\": {\"gridcolor\": \"white\", \"linecolor\": \"white\", \"ticks\": \"\"}, \"baxis\": {\"gridcolor\": \"white\", \"linecolor\": \"white\", \"ticks\": \"\"}, \"bgcolor\": \"#E5ECF6\", \"caxis\": {\"gridcolor\": \"white\", \"linecolor\": \"white\", \"ticks\": \"\"}}, \"title\": {\"x\": 0.05}, \"xaxis\": {\"automargin\": true, \"gridcolor\": \"white\", \"linecolor\": \"white\", \"ticks\": \"\", \"title\": {\"standoff\": 15}, \"zerolinecolor\": \"white\", \"zerolinewidth\": 2}, \"yaxis\": {\"automargin\": true, \"gridcolor\": \"white\", \"linecolor\": \"white\", \"ticks\": \"\", \"title\": {\"standoff\": 15}, \"zerolinecolor\": \"white\", \"zerolinewidth\": 2}}}, \"title\": {\"text\": \"Statewise Testing\"}, \"xaxis\": {\"anchor\": \"y\", \"domain\": [0.0, 1.0], \"title\": {\"text\": \"Total Tested\"}}, \"yaxis\": {\"anchor\": \"x\", \"categoryarray\": [\"Mizoram\", \"Nagaland\", \"Arunachal Pradesh\", \"Chandigarh\", \"Meghalaya\", \"Goa\", \"Ladakh\", \"Puducherry\", \"Tripura\", \"Andaman and Nicobar Islands\", \"Himachal Pradesh\", \"Uttarakhand\", \"Assam\", \"Jharkhand\", \"West Bengal\", \"Chhattisgarh\", \"Telangana\", \"Jammu and Kashmir\", \"Punjab\", \"Bihar\", \"Kerala\", \"Haryana\", \"Odisha\", \"Madhya Pradesh\", \"Delhi\", \"Gujarat\", \"Karnataka\", \"Uttar Pradesh\", \"Andhra Pradesh\", \"Rajasthan\", \"Tamil Nadu\", \"Maharashtra\"], \"categoryorder\": \"array\", \"domain\": [0.0, 1.0], \"title\": {\"text\": \"State\"}}},\n",
       "                        {\"responsive\": true}\n",
       "                    ).then(function(){\n",
       "                            \n",
       "var gd = document.getElementById('d7c1767c-0c9a-452b-9c98-b77abe75e9d4');\n",
       "var x = new MutationObserver(function (mutations, observer) {{\n",
       "        var display = window.getComputedStyle(gd).display;\n",
       "        if (!display || display === 'none') {{\n",
       "            console.log([gd, 'removed!']);\n",
       "            Plotly.purge(gd);\n",
       "            observer.disconnect();\n",
       "        }}\n",
       "}});\n",
       "\n",
       "// Listen for the removal of the full notebook cells\n",
       "var notebookContainer = gd.closest('#notebook-container');\n",
       "if (notebookContainer) {{\n",
       "    x.observe(notebookContainer, {childList: true});\n",
       "}}\n",
       "\n",
       "// Listen for the clearing of the current output cell\n",
       "var outputEl = gd.closest('.output');\n",
       "if (outputEl) {{\n",
       "    x.observe(outputEl, {childList: true});\n",
       "}}\n",
       "\n",
       "                        })\n",
       "                };\n",
       "                });\n",
       "            </script>\n",
       "        </div>"
      ]
     },
     "metadata": {},
     "output_type": "display_data"
    }
   ],
   "source": [
    "testing=state_testing.groupby('State')['Total Tested'].max().sort_values(ascending=False).reset_index()\n",
    "fig = px.bar(testing, \n",
    "             x=\"Total Tested\",\n",
    "             y=\"State\", \n",
    "             orientation='h',\n",
    "             height=800,\n",
    "             title='Statewise Testing',\n",
    "            color='State')\n",
    "fig.show()"
   ]
  },
  {
   "cell_type": "code",
   "execution_count": 43,
   "metadata": {},
   "outputs": [
    {
     "data": {
      "text/html": [
       "<style  type=\"text/css\" >\n",
       "    #T_a32da24e_9463_11ea_af13_663baf2e524arow0_col0 {\n",
       "            background-color:  #08306b;\n",
       "            color:  #f1f1f1;\n",
       "        }    #T_a32da24e_9463_11ea_af13_663baf2e524arow0_col1 {\n",
       "            background-color:  #08306b;\n",
       "            color:  #f1f1f1;\n",
       "        }    #T_a32da24e_9463_11ea_af13_663baf2e524arow0_col2 {\n",
       "            background-color:  #08306b;\n",
       "            color:  #f1f1f1;\n",
       "        }    #T_a32da24e_9463_11ea_af13_663baf2e524arow0_col3 {\n",
       "            background-color:  #08306b;\n",
       "            color:  #f1f1f1;\n",
       "        }    #T_a32da24e_9463_11ea_af13_663baf2e524arow0_col4 {\n",
       "            background-color:  #084082;\n",
       "            color:  #f1f1f1;\n",
       "        }    #T_a32da24e_9463_11ea_af13_663baf2e524arow1_col0 {\n",
       "            background-color:  #083877;\n",
       "            color:  #f1f1f1;\n",
       "        }    #T_a32da24e_9463_11ea_af13_663baf2e524arow1_col1 {\n",
       "            background-color:  #c8dcf0;\n",
       "            color:  #000000;\n",
       "        }    #T_a32da24e_9463_11ea_af13_663baf2e524arow1_col2 {\n",
       "            background-color:  #084488;\n",
       "            color:  #f1f1f1;\n",
       "        }    #T_a32da24e_9463_11ea_af13_663baf2e524arow1_col3 {\n",
       "            background-color:  #c6dbef;\n",
       "            color:  #000000;\n",
       "        }    #T_a32da24e_9463_11ea_af13_663baf2e524arow1_col4 {\n",
       "            background-color:  #083573;\n",
       "            color:  #f1f1f1;\n",
       "        }    #T_a32da24e_9463_11ea_af13_663baf2e524arow2_col0 {\n",
       "            background-color:  #2272b6;\n",
       "            color:  #f1f1f1;\n",
       "        }    #T_a32da24e_9463_11ea_af13_663baf2e524arow2_col1 {\n",
       "            background-color:  #c9ddf0;\n",
       "            color:  #000000;\n",
       "        }    #T_a32da24e_9463_11ea_af13_663baf2e524arow2_col2 {\n",
       "            background-color:  #2070b4;\n",
       "            color:  #f1f1f1;\n",
       "        }    #T_a32da24e_9463_11ea_af13_663baf2e524arow2_col3 {\n",
       "            background-color:  #c6dbef;\n",
       "            color:  #000000;\n",
       "        }    #T_a32da24e_9463_11ea_af13_663baf2e524arow2_col4 {\n",
       "            background-color:  #084387;\n",
       "            color:  #f1f1f1;\n",
       "        }    #T_a32da24e_9463_11ea_af13_663baf2e524arow3_col0 {\n",
       "            background-color:  #1f6eb3;\n",
       "            color:  #f1f1f1;\n",
       "        }    #T_a32da24e_9463_11ea_af13_663baf2e524arow3_col1 {\n",
       "            background-color:  #ddeaf7;\n",
       "            color:  #000000;\n",
       "        }    #T_a32da24e_9463_11ea_af13_663baf2e524arow3_col2 {\n",
       "            background-color:  #2a7ab9;\n",
       "            color:  #000000;\n",
       "        }    #T_a32da24e_9463_11ea_af13_663baf2e524arow3_col3 {\n",
       "            background-color:  #deebf7;\n",
       "            color:  #000000;\n",
       "        }    #T_a32da24e_9463_11ea_af13_663baf2e524arow3_col4 {\n",
       "            background-color:  #08306b;\n",
       "            color:  #f1f1f1;\n",
       "        }    #T_a32da24e_9463_11ea_af13_663baf2e524arow4_col0 {\n",
       "            background-color:  #4f9bcb;\n",
       "            color:  #000000;\n",
       "        }    #T_a32da24e_9463_11ea_af13_663baf2e524arow4_col1 {\n",
       "            background-color:  #cddff1;\n",
       "            color:  #000000;\n",
       "        }    #T_a32da24e_9463_11ea_af13_663baf2e524arow4_col2 {\n",
       "            background-color:  #549fcd;\n",
       "            color:  #000000;\n",
       "        }    #T_a32da24e_9463_11ea_af13_663baf2e524arow4_col3 {\n",
       "            background-color:  #9dcae1;\n",
       "            color:  #000000;\n",
       "        }    #T_a32da24e_9463_11ea_af13_663baf2e524arow4_col4 {\n",
       "            background-color:  #083776;\n",
       "            color:  #f1f1f1;\n",
       "        }    #T_a32da24e_9463_11ea_af13_663baf2e524arow5_col0 {\n",
       "            background-color:  #75b4d8;\n",
       "            color:  #000000;\n",
       "        }    #T_a32da24e_9463_11ea_af13_663baf2e524arow5_col1 {\n",
       "            background-color:  #edf4fc;\n",
       "            color:  #000000;\n",
       "        }    #T_a32da24e_9463_11ea_af13_663baf2e524arow5_col2 {\n",
       "            background-color:  #7cb7da;\n",
       "            color:  #000000;\n",
       "        }    #T_a32da24e_9463_11ea_af13_663baf2e524arow5_col3 {\n",
       "            background-color:  #deebf7;\n",
       "            color:  #000000;\n",
       "        }    #T_a32da24e_9463_11ea_af13_663baf2e524arow5_col4 {\n",
       "            background-color:  #083a7a;\n",
       "            color:  #f1f1f1;\n",
       "        }    #T_a32da24e_9463_11ea_af13_663baf2e524arow6_col0 {\n",
       "            background-color:  #7db8da;\n",
       "            color:  #000000;\n",
       "        }    #T_a32da24e_9463_11ea_af13_663baf2e524arow6_col1 {\n",
       "            background-color:  #8fc2de;\n",
       "            color:  #000000;\n",
       "        }    #T_a32da24e_9463_11ea_af13_663baf2e524arow6_col2 {\n",
       "            background-color:  #7db8da;\n",
       "            color:  #000000;\n",
       "        }    #T_a32da24e_9463_11ea_af13_663baf2e524arow6_col3 {\n",
       "            background-color:  #08509b;\n",
       "            color:  #f1f1f1;\n",
       "        }    #T_a32da24e_9463_11ea_af13_663baf2e524arow6_col4 {\n",
       "            background-color:  #084082;\n",
       "            color:  #f1f1f1;\n",
       "        }    #T_a32da24e_9463_11ea_af13_663baf2e524arow7_col0 {\n",
       "            background-color:  #bcd7eb;\n",
       "            color:  #000000;\n",
       "        }    #T_a32da24e_9463_11ea_af13_663baf2e524arow7_col1 {\n",
       "            background-color:  #b7d4ea;\n",
       "            color:  #000000;\n",
       "        }    #T_a32da24e_9463_11ea_af13_663baf2e524arow7_col2 {\n",
       "            background-color:  #b3d3e8;\n",
       "            color:  #000000;\n",
       "        }    #T_a32da24e_9463_11ea_af13_663baf2e524arow7_col3 {\n",
       "            background-color:  #08509b;\n",
       "            color:  #f1f1f1;\n",
       "        }    #T_a32da24e_9463_11ea_af13_663baf2e524arow7_col4 {\n",
       "            background-color:  #0b559f;\n",
       "            color:  #f1f1f1;\n",
       "        }    #T_a32da24e_9463_11ea_af13_663baf2e524arow8_col0 {\n",
       "            background-color:  #b8d5ea;\n",
       "            color:  #000000;\n",
       "        }    #T_a32da24e_9463_11ea_af13_663baf2e524arow8_col1 {\n",
       "            background-color:  #c7dcef;\n",
       "            color:  #000000;\n",
       "        }    #T_a32da24e_9463_11ea_af13_663baf2e524arow8_col2 {\n",
       "            background-color:  #b4d3e9;\n",
       "            color:  #000000;\n",
       "        }    #T_a32da24e_9463_11ea_af13_663baf2e524arow8_col3 {\n",
       "            background-color:  #2070b4;\n",
       "            color:  #f1f1f1;\n",
       "        }    #T_a32da24e_9463_11ea_af13_663baf2e524arow8_col4 {\n",
       "            background-color:  #084a91;\n",
       "            color:  #f1f1f1;\n",
       "        }    #T_a32da24e_9463_11ea_af13_663baf2e524arow9_col0 {\n",
       "            background-color:  #eaf2fb;\n",
       "            color:  #000000;\n",
       "        }    #T_a32da24e_9463_11ea_af13_663baf2e524arow9_col1 {\n",
       "            background-color:  #f5f9fe;\n",
       "            color:  #000000;\n",
       "        }    #T_a32da24e_9463_11ea_af13_663baf2e524arow9_col2 {\n",
       "            background-color:  #c8dcf0;\n",
       "            color:  #000000;\n",
       "        }    #T_a32da24e_9463_11ea_af13_663baf2e524arow9_col3 {\n",
       "            background-color:  #f7fbff;\n",
       "            color:  #000000;\n",
       "        }    #T_a32da24e_9463_11ea_af13_663baf2e524arow9_col4 {\n",
       "            background-color:  #c2d9ee;\n",
       "            color:  #000000;\n",
       "        }    #T_a32da24e_9463_11ea_af13_663baf2e524arow10_col0 {\n",
       "            background-color:  #cfe1f2;\n",
       "            color:  #000000;\n",
       "        }    #T_a32da24e_9463_11ea_af13_663baf2e524arow10_col1 {\n",
       "            background-color:  #f1f7fd;\n",
       "            color:  #000000;\n",
       "        }    #T_a32da24e_9463_11ea_af13_663baf2e524arow10_col2 {\n",
       "            background-color:  #cfe1f2;\n",
       "            color:  #000000;\n",
       "        }    #T_a32da24e_9463_11ea_af13_663baf2e524arow10_col3 {\n",
       "            background-color:  #deebf7;\n",
       "            color:  #000000;\n",
       "        }    #T_a32da24e_9463_11ea_af13_663baf2e524arow10_col4 {\n",
       "            background-color:  #084082;\n",
       "            color:  #f1f1f1;\n",
       "        }    #T_a32da24e_9463_11ea_af13_663baf2e524arow11_col0 {\n",
       "            background-color:  #cddff1;\n",
       "            color:  #000000;\n",
       "        }    #T_a32da24e_9463_11ea_af13_663baf2e524arow11_col1 {\n",
       "            background-color:  #eef5fc;\n",
       "            color:  #000000;\n",
       "        }    #T_a32da24e_9463_11ea_af13_663baf2e524arow11_col2 {\n",
       "            background-color:  #cfe1f2;\n",
       "            color:  #000000;\n",
       "        }    #T_a32da24e_9463_11ea_af13_663baf2e524arow11_col3 {\n",
       "            background-color:  #c6dbef;\n",
       "            color:  #000000;\n",
       "        }    #T_a32da24e_9463_11ea_af13_663baf2e524arow11_col4 {\n",
       "            background-color:  #083573;\n",
       "            color:  #f1f1f1;\n",
       "        }    #T_a32da24e_9463_11ea_af13_663baf2e524arow12_col0 {\n",
       "            background-color:  #f4f9fe;\n",
       "            color:  #000000;\n",
       "        }    #T_a32da24e_9463_11ea_af13_663baf2e524arow12_col1 {\n",
       "            background-color:  #eff6fc;\n",
       "            color:  #000000;\n",
       "        }    #T_a32da24e_9463_11ea_af13_663baf2e524arow12_col2 {\n",
       "            background-color:  #d5e5f4;\n",
       "            color:  #000000;\n",
       "        }    #T_a32da24e_9463_11ea_af13_663baf2e524arow12_col3 {\n",
       "            background-color:  #c6dbef;\n",
       "            color:  #000000;\n",
       "        }    #T_a32da24e_9463_11ea_af13_663baf2e524arow12_col4 {\n",
       "            background-color:  #e5eff9;\n",
       "            color:  #000000;\n",
       "        }    #T_a32da24e_9463_11ea_af13_663baf2e524arow13_col0 {\n",
       "            background-color:  #dce9f6;\n",
       "            color:  #000000;\n",
       "        }    #T_a32da24e_9463_11ea_af13_663baf2e524arow13_col1 {\n",
       "            background-color:  #eaf2fb;\n",
       "            color:  #000000;\n",
       "        }    #T_a32da24e_9463_11ea_af13_663baf2e524arow13_col2 {\n",
       "            background-color:  #d7e6f5;\n",
       "            color:  #000000;\n",
       "        }    #T_a32da24e_9463_11ea_af13_663baf2e524arow13_col3 {\n",
       "            background-color:  #9dcae1;\n",
       "            color:  #000000;\n",
       "        }    #T_a32da24e_9463_11ea_af13_663baf2e524arow13_col4 {\n",
       "            background-color:  #1967ad;\n",
       "            color:  #f1f1f1;\n",
       "        }    #T_a32da24e_9463_11ea_af13_663baf2e524arow14_col0 {\n",
       "            background-color:  #d7e6f5;\n",
       "            color:  #000000;\n",
       "        }    #T_a32da24e_9463_11ea_af13_663baf2e524arow14_col1 {\n",
       "            background-color:  #ecf4fb;\n",
       "            color:  #000000;\n",
       "        }    #T_a32da24e_9463_11ea_af13_663baf2e524arow14_col2 {\n",
       "            background-color:  #d9e7f5;\n",
       "            color:  #000000;\n",
       "        }    #T_a32da24e_9463_11ea_af13_663baf2e524arow14_col3 {\n",
       "            background-color:  #9dcae1;\n",
       "            color:  #000000;\n",
       "        }    #T_a32da24e_9463_11ea_af13_663baf2e524arow14_col4 {\n",
       "            background-color:  #083573;\n",
       "            color:  #f1f1f1;\n",
       "        }    #T_a32da24e_9463_11ea_af13_663baf2e524arow15_col0 {\n",
       "            background-color:  #e3eef9;\n",
       "            color:  #000000;\n",
       "        }    #T_a32da24e_9463_11ea_af13_663baf2e524arow15_col1 {\n",
       "            background-color:  #e6f0f9;\n",
       "            color:  #000000;\n",
       "        }    #T_a32da24e_9463_11ea_af13_663baf2e524arow15_col2 {\n",
       "            background-color:  #deebf7;\n",
       "            color:  #000000;\n",
       "        }    #T_a32da24e_9463_11ea_af13_663baf2e524arow15_col3 {\n",
       "            background-color:  #4191c6;\n",
       "            color:  #000000;\n",
       "        }    #T_a32da24e_9463_11ea_af13_663baf2e524arow15_col4 {\n",
       "            background-color:  #2474b7;\n",
       "            color:  #f1f1f1;\n",
       "        }    #T_a32da24e_9463_11ea_af13_663baf2e524arow16_col0 {\n",
       "            background-color:  #dfebf7;\n",
       "            color:  #000000;\n",
       "        }    #T_a32da24e_9463_11ea_af13_663baf2e524arow16_col1 {\n",
       "            background-color:  #f7fbff;\n",
       "            color:  #000000;\n",
       "        }    #T_a32da24e_9463_11ea_af13_663baf2e524arow16_col2 {\n",
       "            background-color:  #dfecf7;\n",
       "            color:  #000000;\n",
       "        }    #T_a32da24e_9463_11ea_af13_663baf2e524arow16_col3 {\n",
       "            background-color:  #f7fbff;\n",
       "            color:  #000000;\n",
       "        }    #T_a32da24e_9463_11ea_af13_663baf2e524arow16_col4 {\n",
       "            background-color:  #083a7a;\n",
       "            color:  #f1f1f1;\n",
       "        }    #T_a32da24e_9463_11ea_af13_663baf2e524arow17_col0 {\n",
       "            background-color:  #f6faff;\n",
       "            color:  #000000;\n",
       "        }    #T_a32da24e_9463_11ea_af13_663baf2e524arow17_col1 {\n",
       "            background-color:  #eaf3fb;\n",
       "            color:  #000000;\n",
       "        }    #T_a32da24e_9463_11ea_af13_663baf2e524arow17_col2 {\n",
       "            background-color:  #e2edf8;\n",
       "            color:  #000000;\n",
       "        }    #T_a32da24e_9463_11ea_af13_663baf2e524arow17_col3 {\n",
       "            background-color:  #4191c6;\n",
       "            color:  #000000;\n",
       "        }    #T_a32da24e_9463_11ea_af13_663baf2e524arow17_col4 {\n",
       "            background-color:  #f2f7fd;\n",
       "            color:  #000000;\n",
       "        }    #T_a32da24e_9463_11ea_af13_663baf2e524arow18_col0 {\n",
       "            background-color:  #e7f0fa;\n",
       "            color:  #000000;\n",
       "        }    #T_a32da24e_9463_11ea_af13_663baf2e524arow18_col1 {\n",
       "            background-color:  #f5fafe;\n",
       "            color:  #000000;\n",
       "        }    #T_a32da24e_9463_11ea_af13_663baf2e524arow18_col2 {\n",
       "            background-color:  #e8f1fa;\n",
       "            color:  #000000;\n",
       "        }    #T_a32da24e_9463_11ea_af13_663baf2e524arow18_col3 {\n",
       "            background-color:  #deebf7;\n",
       "            color:  #000000;\n",
       "        }    #T_a32da24e_9463_11ea_af13_663baf2e524arow18_col4 {\n",
       "            background-color:  #08306b;\n",
       "            color:  #f1f1f1;\n",
       "        }    #T_a32da24e_9463_11ea_af13_663baf2e524arow19_col0 {\n",
       "            background-color:  #ebf3fb;\n",
       "            color:  #000000;\n",
       "        }    #T_a32da24e_9463_11ea_af13_663baf2e524arow19_col1 {\n",
       "            background-color:  #f7fbff;\n",
       "            color:  #000000;\n",
       "        }    #T_a32da24e_9463_11ea_af13_663baf2e524arow19_col2 {\n",
       "            background-color:  #ebf3fb;\n",
       "            color:  #000000;\n",
       "        }    #T_a32da24e_9463_11ea_af13_663baf2e524arow19_col3 {\n",
       "            background-color:  #f7fbff;\n",
       "            color:  #000000;\n",
       "        }    #T_a32da24e_9463_11ea_af13_663baf2e524arow19_col4 {\n",
       "            background-color:  #084387;\n",
       "            color:  #f1f1f1;\n",
       "        }    #T_a32da24e_9463_11ea_af13_663baf2e524arow20_col0 {\n",
       "            background-color:  #eef5fc;\n",
       "            color:  #000000;\n",
       "        }    #T_a32da24e_9463_11ea_af13_663baf2e524arow20_col1 {\n",
       "            background-color:  #f6faff;\n",
       "            color:  #000000;\n",
       "        }    #T_a32da24e_9463_11ea_af13_663baf2e524arow20_col2 {\n",
       "            background-color:  #eef5fc;\n",
       "            color:  #000000;\n",
       "        }    #T_a32da24e_9463_11ea_af13_663baf2e524arow20_col3 {\n",
       "            background-color:  #deebf7;\n",
       "            color:  #000000;\n",
       "        }    #T_a32da24e_9463_11ea_af13_663baf2e524arow20_col4 {\n",
       "            background-color:  #084082;\n",
       "            color:  #f1f1f1;\n",
       "        }    #T_a32da24e_9463_11ea_af13_663baf2e524arow21_col0 {\n",
       "            background-color:  #eef5fc;\n",
       "            color:  #000000;\n",
       "        }    #T_a32da24e_9463_11ea_af13_663baf2e524arow21_col1 {\n",
       "            background-color:  #f7fbff;\n",
       "            color:  #000000;\n",
       "        }    #T_a32da24e_9463_11ea_af13_663baf2e524arow21_col2 {\n",
       "            background-color:  #eef5fc;\n",
       "            color:  #000000;\n",
       "        }    #T_a32da24e_9463_11ea_af13_663baf2e524arow21_col3 {\n",
       "            background-color:  #deebf7;\n",
       "            color:  #000000;\n",
       "        }    #T_a32da24e_9463_11ea_af13_663baf2e524arow21_col4 {\n",
       "            background-color:  #083776;\n",
       "            color:  #f1f1f1;\n",
       "        }    #T_a32da24e_9463_11ea_af13_663baf2e524arow22_col0 {\n",
       "            background-color:  #f5fafe;\n",
       "            color:  #000000;\n",
       "        }    #T_a32da24e_9463_11ea_af13_663baf2e524arow22_col1 {\n",
       "            background-color:  #f7fbff;\n",
       "            color:  #000000;\n",
       "        }    #T_a32da24e_9463_11ea_af13_663baf2e524arow22_col2 {\n",
       "            background-color:  #f2f8fd;\n",
       "            color:  #000000;\n",
       "        }    #T_a32da24e_9463_11ea_af13_663baf2e524arow22_col3 {\n",
       "            background-color:  #deebf7;\n",
       "            color:  #000000;\n",
       "        }    #T_a32da24e_9463_11ea_af13_663baf2e524arow22_col4 {\n",
       "            background-color:  #afd1e7;\n",
       "            color:  #000000;\n",
       "        }    #T_a32da24e_9463_11ea_af13_663baf2e524arow23_col0 {\n",
       "            background-color:  #f3f8fe;\n",
       "            color:  #000000;\n",
       "        }    #T_a32da24e_9463_11ea_af13_663baf2e524arow23_col1 {\n",
       "            background-color:  #f7fbff;\n",
       "            color:  #000000;\n",
       "        }    #T_a32da24e_9463_11ea_af13_663baf2e524arow23_col2 {\n",
       "            background-color:  #f3f8fe;\n",
       "            color:  #000000;\n",
       "        }    #T_a32da24e_9463_11ea_af13_663baf2e524arow23_col3 {\n",
       "            background-color:  #f7fbff;\n",
       "            color:  #000000;\n",
       "        }    #T_a32da24e_9463_11ea_af13_663baf2e524arow23_col4 {\n",
       "            background-color:  #083573;\n",
       "            color:  #f1f1f1;\n",
       "        }    #T_a32da24e_9463_11ea_af13_663baf2e524arow24_col0 {\n",
       "            background-color:  #f4f9fe;\n",
       "            color:  #000000;\n",
       "        }    #T_a32da24e_9463_11ea_af13_663baf2e524arow24_col1 {\n",
       "            background-color:  #f7fbff;\n",
       "            color:  #000000;\n",
       "        }    #T_a32da24e_9463_11ea_af13_663baf2e524arow24_col2 {\n",
       "            background-color:  #f4f9fe;\n",
       "            color:  #000000;\n",
       "        }    #T_a32da24e_9463_11ea_af13_663baf2e524arow24_col3 {\n",
       "            background-color:  #f7fbff;\n",
       "            color:  #000000;\n",
       "        }    #T_a32da24e_9463_11ea_af13_663baf2e524arow24_col4 {\n",
       "            background-color:  #083776;\n",
       "            color:  #f1f1f1;\n",
       "        }    #T_a32da24e_9463_11ea_af13_663baf2e524arow25_col0 {\n",
       "            background-color:  #f5fafe;\n",
       "            color:  #000000;\n",
       "        }    #T_a32da24e_9463_11ea_af13_663baf2e524arow25_col1 {\n",
       "            background-color:  #f7fbff;\n",
       "            color:  #000000;\n",
       "        }    #T_a32da24e_9463_11ea_af13_663baf2e524arow25_col2 {\n",
       "            background-color:  #f5f9fe;\n",
       "            color:  #000000;\n",
       "        }    #T_a32da24e_9463_11ea_af13_663baf2e524arow25_col3 {\n",
       "            background-color:  #deebf7;\n",
       "            color:  #000000;\n",
       "        }    #T_a32da24e_9463_11ea_af13_663baf2e524arow25_col4 {\n",
       "            background-color:  #3787c0;\n",
       "            color:  #000000;\n",
       "        }    #T_a32da24e_9463_11ea_af13_663baf2e524arow26_col0 {\n",
       "            background-color:  #f7fbff;\n",
       "            color:  #000000;\n",
       "        }    #T_a32da24e_9463_11ea_af13_663baf2e524arow26_col1 {\n",
       "            background-color:  #f7fbff;\n",
       "            color:  #000000;\n",
       "        }    #T_a32da24e_9463_11ea_af13_663baf2e524arow26_col2 {\n",
       "            background-color:  #f5f9fe;\n",
       "            color:  #000000;\n",
       "        }    #T_a32da24e_9463_11ea_af13_663baf2e524arow26_col3 {\n",
       "            background-color:  #f7fbff;\n",
       "            color:  #000000;\n",
       "        }    #T_a32da24e_9463_11ea_af13_663baf2e524arow26_col4 {\n",
       "            background-color:  #e5eff9;\n",
       "            color:  #000000;\n",
       "        }    #T_a32da24e_9463_11ea_af13_663baf2e524arow27_col0 {\n",
       "            background-color:  #f5f9fe;\n",
       "            color:  #000000;\n",
       "        }    #T_a32da24e_9463_11ea_af13_663baf2e524arow27_col1 {\n",
       "            background-color:  #f7fbff;\n",
       "            color:  #000000;\n",
       "        }    #T_a32da24e_9463_11ea_af13_663baf2e524arow27_col2 {\n",
       "            background-color:  #f5fafe;\n",
       "            color:  #000000;\n",
       "        }    #T_a32da24e_9463_11ea_af13_663baf2e524arow27_col3 {\n",
       "            background-color:  #deebf7;\n",
       "            color:  #000000;\n",
       "        }    #T_a32da24e_9463_11ea_af13_663baf2e524arow27_col4 {\n",
       "            background-color:  #083573;\n",
       "            color:  #f1f1f1;\n",
       "        }    #T_a32da24e_9463_11ea_af13_663baf2e524arow28_col0 {\n",
       "            background-color:  #f5fafe;\n",
       "            color:  #000000;\n",
       "        }    #T_a32da24e_9463_11ea_af13_663baf2e524arow28_col1 {\n",
       "            background-color:  #f5fafe;\n",
       "            color:  #000000;\n",
       "        }    #T_a32da24e_9463_11ea_af13_663baf2e524arow28_col2 {\n",
       "            background-color:  #f5fafe;\n",
       "            color:  #000000;\n",
       "        }    #T_a32da24e_9463_11ea_af13_663baf2e524arow28_col3 {\n",
       "            background-color:  #2070b4;\n",
       "            color:  #f1f1f1;\n",
       "        }    #T_a32da24e_9463_11ea_af13_663baf2e524arow28_col4 {\n",
       "            background-color:  #084387;\n",
       "            color:  #f1f1f1;\n",
       "        }    #T_a32da24e_9463_11ea_af13_663baf2e524arow29_col0 {\n",
       "            background-color:  #f6faff;\n",
       "            color:  #000000;\n",
       "        }    #T_a32da24e_9463_11ea_af13_663baf2e524arow29_col1 {\n",
       "            background-color:  #f7fbff;\n",
       "            color:  #000000;\n",
       "        }    #T_a32da24e_9463_11ea_af13_663baf2e524arow29_col2 {\n",
       "            background-color:  #f7fbff;\n",
       "            color:  #000000;\n",
       "        }    #T_a32da24e_9463_11ea_af13_663baf2e524arow29_col3 {\n",
       "            background-color:  #f7fbff;\n",
       "            color:  #000000;\n",
       "        }    #T_a32da24e_9463_11ea_af13_663baf2e524arow29_col4 {\n",
       "            background-color:  #083776;\n",
       "            color:  #f1f1f1;\n",
       "        }    #T_a32da24e_9463_11ea_af13_663baf2e524arow30_col0 {\n",
       "            background-color:  #f6faff;\n",
       "            color:  #000000;\n",
       "        }    #T_a32da24e_9463_11ea_af13_663baf2e524arow30_col1 {\n",
       "            background-color:  #f7fbff;\n",
       "            color:  #000000;\n",
       "        }    #T_a32da24e_9463_11ea_af13_663baf2e524arow30_col2 {\n",
       "            background-color:  #f7fbff;\n",
       "            color:  #000000;\n",
       "        }    #T_a32da24e_9463_11ea_af13_663baf2e524arow30_col3 {\n",
       "            background-color:  #f7fbff;\n",
       "            color:  #000000;\n",
       "        }    #T_a32da24e_9463_11ea_af13_663baf2e524arow30_col4 {\n",
       "            background-color:  #08326e;\n",
       "            color:  #f1f1f1;\n",
       "        }    #T_a32da24e_9463_11ea_af13_663baf2e524arow31_col0 {\n",
       "            background-color:  #f7fbff;\n",
       "            color:  #000000;\n",
       "        }    #T_a32da24e_9463_11ea_af13_663baf2e524arow31_col1 {\n",
       "            background-color:  #f7fbff;\n",
       "            color:  #000000;\n",
       "        }    #T_a32da24e_9463_11ea_af13_663baf2e524arow31_col2 {\n",
       "            background-color:  #f7fbff;\n",
       "            color:  #000000;\n",
       "        }    #T_a32da24e_9463_11ea_af13_663baf2e524arow31_col3 {\n",
       "            background-color:  #deebf7;\n",
       "            color:  #000000;\n",
       "        }    #T_a32da24e_9463_11ea_af13_663baf2e524arow31_col4 {\n",
       "            background-color:  #f7fbff;\n",
       "            color:  #000000;\n",
       "        }</style><table id=\"T_a32da24e_9463_11ea_af13_663baf2e524a\" ><thead>    <tr>        <th class=\"blank level0\" ></th>        <th class=\"col_heading level0 col0\" >Negative</th>        <th class=\"col_heading level0 col1\" >Positive</th>        <th class=\"col_heading level0 col2\" >Total Tested</th>        <th class=\"col_heading level0 col3\" >Positive Test Rate</th>        <th class=\"col_heading level0 col4\" >Negative Test Rate</th>    </tr>    <tr>        <th class=\"index_name level0\" >State</th>        <th class=\"blank\" ></th>        <th class=\"blank\" ></th>        <th class=\"blank\" ></th>        <th class=\"blank\" ></th>        <th class=\"blank\" ></th>    </tr></thead><tbody>\n",
       "                <tr>\n",
       "                        <th id=\"T_a32da24e_9463_11ea_af13_663baf2e524alevel0_row0\" class=\"row_heading level0 row0\" >Maharashtra</th>\n",
       "                        <td id=\"T_a32da24e_9463_11ea_af13_663baf2e524arow0_col0\" class=\"data row0 col0\" >140587.000000</td>\n",
       "                        <td id=\"T_a32da24e_9463_11ea_af13_663baf2e524arow0_col1\" class=\"data row0 col1\" >11506.000000</td>\n",
       "                        <td id=\"T_a32da24e_9463_11ea_af13_663baf2e524arow0_col2\" class=\"data row0 col2\" >151085.000000</td>\n",
       "                        <td id=\"T_a32da24e_9463_11ea_af13_663baf2e524arow0_col3\" class=\"data row0 col3\" >0.080000</td>\n",
       "                        <td id=\"T_a32da24e_9463_11ea_af13_663baf2e524arow0_col4\" class=\"data row0 col4\" >0.930000</td>\n",
       "            </tr>\n",
       "            <tr>\n",
       "                        <th id=\"T_a32da24e_9463_11ea_af13_663baf2e524alevel0_row1\" class=\"row_heading level0 row1\" >Tamil Nadu</th>\n",
       "                        <td id=\"T_a32da24e_9463_11ea_af13_663baf2e524arow1_col0\" class=\"data row1 col0\" >135698.000000</td>\n",
       "                        <td id=\"T_a32da24e_9463_11ea_af13_663baf2e524arow1_col1\" class=\"data row1 col1\" >2757.000000</td>\n",
       "                        <td id=\"T_a32da24e_9463_11ea_af13_663baf2e524arow1_col2\" class=\"data row1 col2\" >139490.000000</td>\n",
       "                        <td id=\"T_a32da24e_9463_11ea_af13_663baf2e524arow1_col3\" class=\"data row1 col3\" >0.020000</td>\n",
       "                        <td id=\"T_a32da24e_9463_11ea_af13_663baf2e524arow1_col4\" class=\"data row1 col4\" >0.970000</td>\n",
       "            </tr>\n",
       "            <tr>\n",
       "                        <th id=\"T_a32da24e_9463_11ea_af13_663baf2e524alevel0_row2\" class=\"row_heading level0 row2\" >Rajasthan</th>\n",
       "                        <td id=\"T_a32da24e_9463_11ea_af13_663baf2e524arow2_col0\" class=\"data row2 col0\" >104705.000000</td>\n",
       "                        <td id=\"T_a32da24e_9463_11ea_af13_663baf2e524arow2_col1\" class=\"data row2 col1\" >2720.000000</td>\n",
       "                        <td id=\"T_a32da24e_9463_11ea_af13_663baf2e524arow2_col2\" class=\"data row2 col2\" >113934.000000</td>\n",
       "                        <td id=\"T_a32da24e_9463_11ea_af13_663baf2e524arow2_col3\" class=\"data row2 col3\" >0.020000</td>\n",
       "                        <td id=\"T_a32da24e_9463_11ea_af13_663baf2e524arow2_col4\" class=\"data row2 col4\" >0.920000</td>\n",
       "            </tr>\n",
       "            <tr>\n",
       "                        <th id=\"T_a32da24e_9463_11ea_af13_663baf2e524alevel0_row3\" class=\"row_heading level0 row3\" >Andhra Pradesh</th>\n",
       "                        <td id=\"T_a32da24e_9463_11ea_af13_663baf2e524arow3_col0\" class=\"data row3 col0\" >106878.000000</td>\n",
       "                        <td id=\"T_a32da24e_9463_11ea_af13_663baf2e524arow3_col1\" class=\"data row3 col1\" >1525.000000</td>\n",
       "                        <td id=\"T_a32da24e_9463_11ea_af13_663baf2e524arow3_col2\" class=\"data row3 col2\" >108403.000000</td>\n",
       "                        <td id=\"T_a32da24e_9463_11ea_af13_663baf2e524arow3_col3\" class=\"data row3 col3\" >0.010000</td>\n",
       "                        <td id=\"T_a32da24e_9463_11ea_af13_663baf2e524arow3_col4\" class=\"data row3 col4\" >0.990000</td>\n",
       "            </tr>\n",
       "            <tr>\n",
       "                        <th id=\"T_a32da24e_9463_11ea_af13_663baf2e524alevel0_row4\" class=\"row_heading level0 row4\" >Uttar Pradesh</th>\n",
       "                        <td id=\"T_a32da24e_9463_11ea_af13_663baf2e524arow4_col0\" class=\"data row4 col0\" >82356.000000</td>\n",
       "                        <td id=\"T_a32da24e_9463_11ea_af13_663baf2e524arow4_col1\" class=\"data row4 col1\" >2487.000000</td>\n",
       "                        <td id=\"T_a32da24e_9463_11ea_af13_663baf2e524arow4_col2\" class=\"data row4 col2\" >85729.000000</td>\n",
       "                        <td id=\"T_a32da24e_9463_11ea_af13_663baf2e524arow4_col3\" class=\"data row4 col3\" >0.030000</td>\n",
       "                        <td id=\"T_a32da24e_9463_11ea_af13_663baf2e524arow4_col4\" class=\"data row4 col4\" >0.960000</td>\n",
       "            </tr>\n",
       "            <tr>\n",
       "                        <th id=\"T_a32da24e_9463_11ea_af13_663baf2e524alevel0_row5\" class=\"row_heading level0 row5\" >Karnataka</th>\n",
       "                        <td id=\"T_a32da24e_9463_11ea_af13_663baf2e524arow5_col0\" class=\"data row5 col0\" >66475.000000</td>\n",
       "                        <td id=\"T_a32da24e_9463_11ea_af13_663baf2e524arow5_col1\" class=\"data row5 col1\" >601.000000</td>\n",
       "                        <td id=\"T_a32da24e_9463_11ea_af13_663baf2e524arow5_col2\" class=\"data row5 col2\" >69730.000000</td>\n",
       "                        <td id=\"T_a32da24e_9463_11ea_af13_663baf2e524arow5_col3\" class=\"data row5 col3\" >0.010000</td>\n",
       "                        <td id=\"T_a32da24e_9463_11ea_af13_663baf2e524arow5_col4\" class=\"data row5 col4\" >0.950000</td>\n",
       "            </tr>\n",
       "            <tr>\n",
       "                        <th id=\"T_a32da24e_9463_11ea_af13_663baf2e524alevel0_row6\" class=\"row_heading level0 row6\" >Gujarat</th>\n",
       "                        <td id=\"T_a32da24e_9463_11ea_af13_663baf2e524arow6_col0\" class=\"data row6 col0\" >64053.000000</td>\n",
       "                        <td id=\"T_a32da24e_9463_11ea_af13_663baf2e524arow6_col1\" class=\"data row6 col1\" >4721.000000</td>\n",
       "                        <td id=\"T_a32da24e_9463_11ea_af13_663baf2e524arow6_col2\" class=\"data row6 col2\" >68774.000000</td>\n",
       "                        <td id=\"T_a32da24e_9463_11ea_af13_663baf2e524arow6_col3\" class=\"data row6 col3\" >0.070000</td>\n",
       "                        <td id=\"T_a32da24e_9463_11ea_af13_663baf2e524arow6_col4\" class=\"data row6 col4\" >0.930000</td>\n",
       "            </tr>\n",
       "            <tr>\n",
       "                        <th id=\"T_a32da24e_9463_11ea_af13_663baf2e524alevel0_row7\" class=\"row_heading level0 row7\" >Delhi</th>\n",
       "                        <td id=\"T_a32da24e_9463_11ea_af13_663baf2e524arow7_col0\" class=\"data row7 col0\" >39920.000000</td>\n",
       "                        <td id=\"T_a32da24e_9463_11ea_af13_663baf2e524arow7_col1\" class=\"data row7 col1\" >3439.000000</td>\n",
       "                        <td id=\"T_a32da24e_9463_11ea_af13_663baf2e524arow7_col2\" class=\"data row7 col2\" >47225.000000</td>\n",
       "                        <td id=\"T_a32da24e_9463_11ea_af13_663baf2e524arow7_col3\" class=\"data row7 col3\" >0.070000</td>\n",
       "                        <td id=\"T_a32da24e_9463_11ea_af13_663baf2e524arow7_col4\" class=\"data row7 col4\" >0.850000</td>\n",
       "            </tr>\n",
       "            <tr>\n",
       "                        <th id=\"T_a32da24e_9463_11ea_af13_663baf2e524alevel0_row8\" class=\"row_heading level0 row8\" >Madhya Pradesh</th>\n",
       "                        <td id=\"T_a32da24e_9463_11ea_af13_663baf2e524arow8_col0\" class=\"data row8 col0\" >41460.000000</td>\n",
       "                        <td id=\"T_a32da24e_9463_11ea_af13_663baf2e524arow8_col1\" class=\"data row8 col1\" >2788.000000</td>\n",
       "                        <td id=\"T_a32da24e_9463_11ea_af13_663baf2e524arow8_col2\" class=\"data row8 col2\" >46578.000000</td>\n",
       "                        <td id=\"T_a32da24e_9463_11ea_af13_663baf2e524arow8_col3\" class=\"data row8 col3\" >0.060000</td>\n",
       "                        <td id=\"T_a32da24e_9463_11ea_af13_663baf2e524arow8_col4\" class=\"data row8 col4\" >0.890000</td>\n",
       "            </tr>\n",
       "            <tr>\n",
       "                        <th id=\"T_a32da24e_9463_11ea_af13_663baf2e524alevel0_row9\" class=\"row_heading level0 row9\" >Odisha</th>\n",
       "                        <td id=\"T_a32da24e_9463_11ea_af13_663baf2e524arow9_col0\" class=\"data row9 col0\" >9629.000000</td>\n",
       "                        <td id=\"T_a32da24e_9463_11ea_af13_663baf2e524arow9_col1\" class=\"data row9 col1\" >157.000000</td>\n",
       "                        <td id=\"T_a32da24e_9463_11ea_af13_663baf2e524arow9_col2\" class=\"data row9 col2\" >36593.000000</td>\n",
       "                        <td id=\"T_a32da24e_9463_11ea_af13_663baf2e524arow9_col3\" class=\"data row9 col3\" >0.000000</td>\n",
       "                        <td id=\"T_a32da24e_9463_11ea_af13_663baf2e524arow9_col4\" class=\"data row9 col4\" >0.260000</td>\n",
       "            </tr>\n",
       "            <tr>\n",
       "                        <th id=\"T_a32da24e_9463_11ea_af13_663baf2e524alevel0_row10\" class=\"row_heading level0 row10\" >Haryana</th>\n",
       "                        <td id=\"T_a32da24e_9463_11ea_af13_663baf2e524arow10_col0\" class=\"data row10 col0\" >28867.000000</td>\n",
       "                        <td id=\"T_a32da24e_9463_11ea_af13_663baf2e524arow10_col1\" class=\"data row10 col1\" >369.000000</td>\n",
       "                        <td id=\"T_a32da24e_9463_11ea_af13_663baf2e524arow10_col2\" class=\"data row10 col2\" >31200.000000</td>\n",
       "                        <td id=\"T_a32da24e_9463_11ea_af13_663baf2e524arow10_col3\" class=\"data row10 col3\" >0.010000</td>\n",
       "                        <td id=\"T_a32da24e_9463_11ea_af13_663baf2e524arow10_col4\" class=\"data row10 col4\" >0.930000</td>\n",
       "            </tr>\n",
       "            <tr>\n",
       "                        <th id=\"T_a32da24e_9463_11ea_af13_663baf2e524alevel0_row11\" class=\"row_heading level0 row11\" >Kerala</th>\n",
       "                        <td id=\"T_a32da24e_9463_11ea_af13_663baf2e524arow11_col0\" class=\"data row11 col0\" >30358.000000</td>\n",
       "                        <td id=\"T_a32da24e_9463_11ea_af13_663baf2e524arow11_col1\" class=\"data row11 col1\" >499.000000</td>\n",
       "                        <td id=\"T_a32da24e_9463_11ea_af13_663baf2e524arow11_col2\" class=\"data row11 col2\" >31183.000000</td>\n",
       "                        <td id=\"T_a32da24e_9463_11ea_af13_663baf2e524arow11_col3\" class=\"data row11 col3\" >0.020000</td>\n",
       "                        <td id=\"T_a32da24e_9463_11ea_af13_663baf2e524arow11_col4\" class=\"data row11 col4\" >0.970000</td>\n",
       "            </tr>\n",
       "            <tr>\n",
       "                        <th id=\"T_a32da24e_9463_11ea_af13_663baf2e524alevel0_row12\" class=\"row_heading level0 row12\" >Bihar</th>\n",
       "                        <td id=\"T_a32da24e_9463_11ea_af13_663baf2e524arow12_col0\" class=\"data row12 col0\" >2299.000000</td>\n",
       "                        <td id=\"T_a32da24e_9463_11ea_af13_663baf2e524arow12_col1\" class=\"data row12 col1\" >466.000000</td>\n",
       "                        <td id=\"T_a32da24e_9463_11ea_af13_663baf2e524arow12_col2\" class=\"data row12 col2\" >26315.000000</td>\n",
       "                        <td id=\"T_a32da24e_9463_11ea_af13_663baf2e524arow12_col3\" class=\"data row12 col3\" >0.020000</td>\n",
       "                        <td id=\"T_a32da24e_9463_11ea_af13_663baf2e524arow12_col4\" class=\"data row12 col4\" >0.090000</td>\n",
       "            </tr>\n",
       "            <tr>\n",
       "                        <th id=\"T_a32da24e_9463_11ea_af13_663baf2e524alevel0_row13\" class=\"row_heading level0 row13\" >Punjab</th>\n",
       "                        <td id=\"T_a32da24e_9463_11ea_af13_663baf2e524arow13_col0\" class=\"data row13 col0\" >19316.000000</td>\n",
       "                        <td id=\"T_a32da24e_9463_11ea_af13_663baf2e524arow13_col1\" class=\"data row13 col1\" >772.000000</td>\n",
       "                        <td id=\"T_a32da24e_9463_11ea_af13_663baf2e524arow13_col2\" class=\"data row13 col2\" >24868.000000</td>\n",
       "                        <td id=\"T_a32da24e_9463_11ea_af13_663baf2e524arow13_col3\" class=\"data row13 col3\" >0.030000</td>\n",
       "                        <td id=\"T_a32da24e_9463_11ea_af13_663baf2e524arow13_col4\" class=\"data row13 col4\" >0.780000</td>\n",
       "            </tr>\n",
       "            <tr>\n",
       "                        <th id=\"T_a32da24e_9463_11ea_af13_663baf2e524alevel0_row14\" class=\"row_heading level0 row14\" >Jammu and Kashmir</th>\n",
       "                        <td id=\"T_a32da24e_9463_11ea_af13_663baf2e524arow14_col0\" class=\"data row14 col0\" >22794.000000</td>\n",
       "                        <td id=\"T_a32da24e_9463_11ea_af13_663baf2e524arow14_col1\" class=\"data row14 col1\" >666.000000</td>\n",
       "                        <td id=\"T_a32da24e_9463_11ea_af13_663baf2e524arow14_col2\" class=\"data row14 col2\" >23406.000000</td>\n",
       "                        <td id=\"T_a32da24e_9463_11ea_af13_663baf2e524arow14_col3\" class=\"data row14 col3\" >0.030000</td>\n",
       "                        <td id=\"T_a32da24e_9463_11ea_af13_663baf2e524arow14_col4\" class=\"data row14 col4\" >0.970000</td>\n",
       "            </tr>\n",
       "            <tr>\n",
       "                        <th id=\"T_a32da24e_9463_11ea_af13_663baf2e524alevel0_row15\" class=\"row_heading level0 row15\" >Telangana</th>\n",
       "                        <td id=\"T_a32da24e_9463_11ea_af13_663baf2e524arow15_col0\" class=\"data row15 col0\" >14104.000000</td>\n",
       "                        <td id=\"T_a32da24e_9463_11ea_af13_663baf2e524arow15_col1\" class=\"data row15 col1\" >1016.000000</td>\n",
       "                        <td id=\"T_a32da24e_9463_11ea_af13_663baf2e524arow15_col2\" class=\"data row15 col2\" >19278.000000</td>\n",
       "                        <td id=\"T_a32da24e_9463_11ea_af13_663baf2e524arow15_col3\" class=\"data row15 col3\" >0.050000</td>\n",
       "                        <td id=\"T_a32da24e_9463_11ea_af13_663baf2e524arow15_col4\" class=\"data row15 col4\" >0.730000</td>\n",
       "            </tr>\n",
       "            <tr>\n",
       "                        <th id=\"T_a32da24e_9463_11ea_af13_663baf2e524alevel0_row16\" class=\"row_heading level0 row16\" >Chhattisgarh</th>\n",
       "                        <td id=\"T_a32da24e_9463_11ea_af13_663baf2e524arow16_col0\" class=\"data row16 col0\" >17199.000000</td>\n",
       "                        <td id=\"T_a32da24e_9463_11ea_af13_663baf2e524arow16_col1\" class=\"data row16 col1\" >43.000000</td>\n",
       "                        <td id=\"T_a32da24e_9463_11ea_af13_663baf2e524arow16_col2\" class=\"data row16 col2\" >18039.000000</td>\n",
       "                        <td id=\"T_a32da24e_9463_11ea_af13_663baf2e524arow16_col3\" class=\"data row16 col3\" >0.000000</td>\n",
       "                        <td id=\"T_a32da24e_9463_11ea_af13_663baf2e524arow16_col4\" class=\"data row16 col4\" >0.950000</td>\n",
       "            </tr>\n",
       "            <tr>\n",
       "                        <th id=\"T_a32da24e_9463_11ea_af13_663baf2e524alevel0_row17\" class=\"row_heading level0 row17\" >West Bengal</th>\n",
       "                        <td id=\"T_a32da24e_9463_11ea_af13_663baf2e524arow17_col0\" class=\"data row17 col0\" >568.000000</td>\n",
       "                        <td id=\"T_a32da24e_9463_11ea_af13_663baf2e524arow17_col1\" class=\"data row17 col1\" >758.000000</td>\n",
       "                        <td id=\"T_a32da24e_9463_11ea_af13_663baf2e524arow17_col2\" class=\"data row17 col2\" >16525.000000</td>\n",
       "                        <td id=\"T_a32da24e_9463_11ea_af13_663baf2e524arow17_col3\" class=\"data row17 col3\" >0.050000</td>\n",
       "                        <td id=\"T_a32da24e_9463_11ea_af13_663baf2e524arow17_col4\" class=\"data row17 col4\" >0.030000</td>\n",
       "            </tr>\n",
       "            <tr>\n",
       "                        <th id=\"T_a32da24e_9463_11ea_af13_663baf2e524alevel0_row18\" class=\"row_heading level0 row18\" >Jharkhand</th>\n",
       "                        <td id=\"T_a32da24e_9463_11ea_af13_663baf2e524arow18_col0\" class=\"data row18 col0\" >11658.000000</td>\n",
       "                        <td id=\"T_a32da24e_9463_11ea_af13_663baf2e524arow18_col1\" class=\"data row18 col1\" >113.000000</td>\n",
       "                        <td id=\"T_a32da24e_9463_11ea_af13_663baf2e524arow18_col2\" class=\"data row18 col2\" >11771.000000</td>\n",
       "                        <td id=\"T_a32da24e_9463_11ea_af13_663baf2e524arow18_col3\" class=\"data row18 col3\" >0.010000</td>\n",
       "                        <td id=\"T_a32da24e_9463_11ea_af13_663baf2e524arow18_col4\" class=\"data row18 col4\" >0.990000</td>\n",
       "            </tr>\n",
       "            <tr>\n",
       "                        <th id=\"T_a32da24e_9463_11ea_af13_663baf2e524alevel0_row19\" class=\"row_heading level0 row19\" >Assam</th>\n",
       "                        <td id=\"T_a32da24e_9463_11ea_af13_663baf2e524arow19_col0\" class=\"data row19 col0\" >8771.000000</td>\n",
       "                        <td id=\"T_a32da24e_9463_11ea_af13_663baf2e524arow19_col1\" class=\"data row19 col1\" >37.000000</td>\n",
       "                        <td id=\"T_a32da24e_9463_11ea_af13_663baf2e524arow19_col2\" class=\"data row19 col2\" >9520.000000</td>\n",
       "                        <td id=\"T_a32da24e_9463_11ea_af13_663baf2e524arow19_col3\" class=\"data row19 col3\" >0.000000</td>\n",
       "                        <td id=\"T_a32da24e_9463_11ea_af13_663baf2e524arow19_col4\" class=\"data row19 col4\" >0.920000</td>\n",
       "            </tr>\n",
       "            <tr>\n",
       "                        <th id=\"T_a32da24e_9463_11ea_af13_663baf2e524alevel0_row20\" class=\"row_heading level0 row20\" >Uttarakhand</th>\n",
       "                        <td id=\"T_a32da24e_9463_11ea_af13_663baf2e524arow20_col0\" class=\"data row20 col0\" >6533.000000</td>\n",
       "                        <td id=\"T_a32da24e_9463_11ea_af13_663baf2e524arow20_col1\" class=\"data row20 col1\" >57.000000</td>\n",
       "                        <td id=\"T_a32da24e_9463_11ea_af13_663baf2e524arow20_col2\" class=\"data row20 col2\" >7042.000000</td>\n",
       "                        <td id=\"T_a32da24e_9463_11ea_af13_663baf2e524arow20_col3\" class=\"data row20 col3\" >0.010000</td>\n",
       "                        <td id=\"T_a32da24e_9463_11ea_af13_663baf2e524arow20_col4\" class=\"data row20 col4\" >0.930000</td>\n",
       "            </tr>\n",
       "            <tr>\n",
       "                        <th id=\"T_a32da24e_9463_11ea_af13_663baf2e524alevel0_row21\" class=\"row_heading level0 row21\" >Himachal Pradesh</th>\n",
       "                        <td id=\"T_a32da24e_9463_11ea_af13_663baf2e524arow21_col0\" class=\"data row21 col0\" >6567.000000</td>\n",
       "                        <td id=\"T_a32da24e_9463_11ea_af13_663baf2e524arow21_col1\" class=\"data row21 col1\" >40.000000</td>\n",
       "                        <td id=\"T_a32da24e_9463_11ea_af13_663baf2e524arow21_col2\" class=\"data row21 col2\" >6842.000000</td>\n",
       "                        <td id=\"T_a32da24e_9463_11ea_af13_663baf2e524arow21_col3\" class=\"data row21 col3\" >0.010000</td>\n",
       "                        <td id=\"T_a32da24e_9463_11ea_af13_663baf2e524arow21_col4\" class=\"data row21 col4\" >0.960000</td>\n",
       "            </tr>\n",
       "            <tr>\n",
       "                        <th id=\"T_a32da24e_9463_11ea_af13_663baf2e524alevel0_row22\" class=\"row_heading level0 row22\" >Andaman and Nicobar Islands</th>\n",
       "                        <td id=\"T_a32da24e_9463_11ea_af13_663baf2e524arow22_col0\" class=\"data row22 col0\" >1210.000000</td>\n",
       "                        <td id=\"T_a32da24e_9463_11ea_af13_663baf2e524arow22_col1\" class=\"data row22 col1\" >33.000000</td>\n",
       "                        <td id=\"T_a32da24e_9463_11ea_af13_663baf2e524arow22_col2\" class=\"data row22 col2\" >3754.000000</td>\n",
       "                        <td id=\"T_a32da24e_9463_11ea_af13_663baf2e524arow22_col3\" class=\"data row22 col3\" >0.010000</td>\n",
       "                        <td id=\"T_a32da24e_9463_11ea_af13_663baf2e524arow22_col4\" class=\"data row22 col4\" >0.320000</td>\n",
       "            </tr>\n",
       "            <tr>\n",
       "                        <th id=\"T_a32da24e_9463_11ea_af13_663baf2e524alevel0_row23\" class=\"row_heading level0 row23\" >Tripura</th>\n",
       "                        <td id=\"T_a32da24e_9463_11ea_af13_663baf2e524arow23_col0\" class=\"data row23 col0\" >3123.000000</td>\n",
       "                        <td id=\"T_a32da24e_9463_11ea_af13_663baf2e524arow23_col1\" class=\"data row23 col1\" >2.000000</td>\n",
       "                        <td id=\"T_a32da24e_9463_11ea_af13_663baf2e524arow23_col2\" class=\"data row23 col2\" >3215.000000</td>\n",
       "                        <td id=\"T_a32da24e_9463_11ea_af13_663baf2e524arow23_col3\" class=\"data row23 col3\" >0.000000</td>\n",
       "                        <td id=\"T_a32da24e_9463_11ea_af13_663baf2e524arow23_col4\" class=\"data row23 col4\" >0.970000</td>\n",
       "            </tr>\n",
       "            <tr>\n",
       "                        <th id=\"T_a32da24e_9463_11ea_af13_663baf2e524alevel0_row24\" class=\"row_heading level0 row24\" >Puducherry</th>\n",
       "                        <td id=\"T_a32da24e_9463_11ea_af13_663baf2e524arow24_col0\" class=\"data row24 col0\" >2583.000000</td>\n",
       "                        <td id=\"T_a32da24e_9463_11ea_af13_663baf2e524arow24_col1\" class=\"data row24 col1\" >9.000000</td>\n",
       "                        <td id=\"T_a32da24e_9463_11ea_af13_663baf2e524arow24_col2\" class=\"data row24 col2\" >2698.000000</td>\n",
       "                        <td id=\"T_a32da24e_9463_11ea_af13_663baf2e524arow24_col3\" class=\"data row24 col3\" >0.000000</td>\n",
       "                        <td id=\"T_a32da24e_9463_11ea_af13_663baf2e524arow24_col4\" class=\"data row24 col4\" >0.960000</td>\n",
       "            </tr>\n",
       "            <tr>\n",
       "                        <th id=\"T_a32da24e_9463_11ea_af13_663baf2e524alevel0_row25\" class=\"row_heading level0 row25\" >Ladakh</th>\n",
       "                        <td id=\"T_a32da24e_9463_11ea_af13_663baf2e524arow25_col0\" class=\"data row25 col0\" >1618.000000</td>\n",
       "                        <td id=\"T_a32da24e_9463_11ea_af13_663baf2e524arow25_col1\" class=\"data row25 col1\" >23.000000</td>\n",
       "                        <td id=\"T_a32da24e_9463_11ea_af13_663baf2e524arow25_col2\" class=\"data row25 col2\" >2434.000000</td>\n",
       "                        <td id=\"T_a32da24e_9463_11ea_af13_663baf2e524arow25_col3\" class=\"data row25 col3\" >0.010000</td>\n",
       "                        <td id=\"T_a32da24e_9463_11ea_af13_663baf2e524arow25_col4\" class=\"data row25 col4\" >0.660000</td>\n",
       "            </tr>\n",
       "            <tr>\n",
       "                        <th id=\"T_a32da24e_9463_11ea_af13_663baf2e524alevel0_row26\" class=\"row_heading level0 row26\" >Goa</th>\n",
       "                        <td id=\"T_a32da24e_9463_11ea_af13_663baf2e524arow26_col0\" class=\"data row26 col0\" >197.000000</td>\n",
       "                        <td id=\"T_a32da24e_9463_11ea_af13_663baf2e524arow26_col1\" class=\"data row26 col1\" >7.000000</td>\n",
       "                        <td id=\"T_a32da24e_9463_11ea_af13_663baf2e524arow26_col2\" class=\"data row26 col2\" >2181.000000</td>\n",
       "                        <td id=\"T_a32da24e_9463_11ea_af13_663baf2e524arow26_col3\" class=\"data row26 col3\" >0.000000</td>\n",
       "                        <td id=\"T_a32da24e_9463_11ea_af13_663baf2e524arow26_col4\" class=\"data row26 col4\" >0.090000</td>\n",
       "            </tr>\n",
       "            <tr>\n",
       "                        <th id=\"T_a32da24e_9463_11ea_af13_663baf2e524alevel0_row27\" class=\"row_heading level0 row27\" >Meghalaya</th>\n",
       "                        <td id=\"T_a32da24e_9463_11ea_af13_663baf2e524arow27_col0\" class=\"data row27 col0\" >1655.000000</td>\n",
       "                        <td id=\"T_a32da24e_9463_11ea_af13_663baf2e524arow27_col1\" class=\"data row27 col1\" >12.000000</td>\n",
       "                        <td id=\"T_a32da24e_9463_11ea_af13_663baf2e524arow27_col2\" class=\"data row27 col2\" >1707.000000</td>\n",
       "                        <td id=\"T_a32da24e_9463_11ea_af13_663baf2e524arow27_col3\" class=\"data row27 col3\" >0.010000</td>\n",
       "                        <td id=\"T_a32da24e_9463_11ea_af13_663baf2e524arow27_col4\" class=\"data row27 col4\" >0.970000</td>\n",
       "            </tr>\n",
       "            <tr>\n",
       "                        <th id=\"T_a32da24e_9463_11ea_af13_663baf2e524alevel0_row28\" class=\"row_heading level0 row28\" >Chandigarh</th>\n",
       "                        <td id=\"T_a32da24e_9463_11ea_af13_663baf2e524arow28_col0\" class=\"data row28 col0\" >1339.000000</td>\n",
       "                        <td id=\"T_a32da24e_9463_11ea_af13_663baf2e524arow28_col1\" class=\"data row28 col1\" >94.000000</td>\n",
       "                        <td id=\"T_a32da24e_9463_11ea_af13_663baf2e524arow28_col2\" class=\"data row28 col2\" >1462.000000</td>\n",
       "                        <td id=\"T_a32da24e_9463_11ea_af13_663baf2e524arow28_col3\" class=\"data row28 col3\" >0.060000</td>\n",
       "                        <td id=\"T_a32da24e_9463_11ea_af13_663baf2e524arow28_col4\" class=\"data row28 col4\" >0.920000</td>\n",
       "            </tr>\n",
       "            <tr>\n",
       "                        <th id=\"T_a32da24e_9463_11ea_af13_663baf2e524alevel0_row29\" class=\"row_heading level0 row29\" >Arunachal Pradesh</th>\n",
       "                        <td id=\"T_a32da24e_9463_11ea_af13_663baf2e524arow29_col0\" class=\"data row29 col0\" >692.000000</td>\n",
       "                        <td id=\"T_a32da24e_9463_11ea_af13_663baf2e524arow29_col1\" class=\"data row29 col1\" >2.000000</td>\n",
       "                        <td id=\"T_a32da24e_9463_11ea_af13_663baf2e524arow29_col2\" class=\"data row29 col2\" >724.000000</td>\n",
       "                        <td id=\"T_a32da24e_9463_11ea_af13_663baf2e524arow29_col3\" class=\"data row29 col3\" >0.000000</td>\n",
       "                        <td id=\"T_a32da24e_9463_11ea_af13_663baf2e524arow29_col4\" class=\"data row29 col4\" >0.960000</td>\n",
       "            </tr>\n",
       "            <tr>\n",
       "                        <th id=\"T_a32da24e_9463_11ea_af13_663baf2e524alevel0_row30\" class=\"row_heading level0 row30\" >Nagaland</th>\n",
       "                        <td id=\"T_a32da24e_9463_11ea_af13_663baf2e524arow30_col0\" class=\"data row30 col0\" >661.000000</td>\n",
       "                        <td id=\"T_a32da24e_9463_11ea_af13_663baf2e524arow30_col1\" class=\"data row30 col1\" >0.000000</td>\n",
       "                        <td id=\"T_a32da24e_9463_11ea_af13_663baf2e524arow30_col2\" class=\"data row30 col2\" >674.000000</td>\n",
       "                        <td id=\"T_a32da24e_9463_11ea_af13_663baf2e524arow30_col3\" class=\"data row30 col3\" >0.000000</td>\n",
       "                        <td id=\"T_a32da24e_9463_11ea_af13_663baf2e524arow30_col4\" class=\"data row30 col4\" >0.980000</td>\n",
       "            </tr>\n",
       "            <tr>\n",
       "                        <th id=\"T_a32da24e_9463_11ea_af13_663baf2e524alevel0_row31\" class=\"row_heading level0 row31\" >Mizoram</th>\n",
       "                        <td id=\"T_a32da24e_9463_11ea_af13_663baf2e524arow31_col0\" class=\"data row31 col0\" >0.000000</td>\n",
       "                        <td id=\"T_a32da24e_9463_11ea_af13_663baf2e524arow31_col1\" class=\"data row31 col1\" >1.000000</td>\n",
       "                        <td id=\"T_a32da24e_9463_11ea_af13_663baf2e524arow31_col2\" class=\"data row31 col2\" >180.000000</td>\n",
       "                        <td id=\"T_a32da24e_9463_11ea_af13_663baf2e524arow31_col3\" class=\"data row31 col3\" >0.010000</td>\n",
       "                        <td id=\"T_a32da24e_9463_11ea_af13_663baf2e524arow31_col4\" class=\"data row31 col4\" >0.000000</td>\n",
       "            </tr>\n",
       "    </tbody></table>"
      ],
      "text/plain": [
       "<pandas.io.formats.style.Styler at 0x7f422b0d8ef0>"
      ]
     },
     "execution_count": 43,
     "metadata": {},
     "output_type": "execute_result"
    }
   ],
   "source": [
    "state_test_details = pd.pivot_table(state_testing, values=['Total Tested','Positive','Negative'], index='State', aggfunc='max')\n",
    "state_test_details['Positive Test Rate'] = round(state_test_details['Positive'] / state_test_details['Total Tested'],2)\n",
    "state_test_details['Negative Test Rate'] = round(state_test_details['Negative'] /state_test_details['Total Tested'], 2)\n",
    "state_test_details = state_test_details.sort_values(by='Total Tested', ascending= False)\n",
    "state_test_details.style.background_gradient(cmap='Blues')"
   ]
  },
  {
   "cell_type": "markdown",
   "metadata": {},
   "source": [
    "**Laboratories available for testing in Each of the states**"
   ]
  },
  {
   "cell_type": "code",
   "execution_count": 63,
   "metadata": {},
   "outputs": [
    {
     "data": {
      "application/vnd.plotly.v1+json": {
       "config": {
        "plotlyServerURL": "https://plot.ly"
       },
       "data": [
        {
         "alignmentgroup": "True",
         "hovertemplate": "states=%{y}<br>values=%{x}<extra></extra>",
         "legendgroup": "Maharashtra",
         "marker": {
          "color": "#636efa"
         },
         "name": "Maharashtra",
         "offsetgroup": "Maharashtra",
         "orientation": "h",
         "showlegend": true,
         "textposition": "auto",
         "type": "bar",
         "x": [
          39
         ],
         "xaxis": "x",
         "y": [
          "Maharashtra"
         ],
         "yaxis": "y"
        },
        {
         "alignmentgroup": "True",
         "hovertemplate": "states=%{y}<br>values=%{x}<extra></extra>",
         "legendgroup": "Tamil Nadu",
         "marker": {
          "color": "#EF553B"
         },
         "name": "Tamil Nadu",
         "offsetgroup": "Tamil Nadu",
         "orientation": "h",
         "showlegend": true,
         "textposition": "auto",
         "type": "bar",
         "x": [
          26
         ],
         "xaxis": "x",
         "y": [
          "Tamil Nadu"
         ],
         "yaxis": "y"
        },
        {
         "alignmentgroup": "True",
         "hovertemplate": "states=%{y}<br>values=%{x}<extra></extra>",
         "legendgroup": "Telangana",
         "marker": {
          "color": "#00cc96"
         },
         "name": "Telangana",
         "offsetgroup": "Telangana",
         "orientation": "h",
         "showlegend": true,
         "textposition": "auto",
         "type": "bar",
         "x": [
          19
         ],
         "xaxis": "x",
         "y": [
          "Telangana"
         ],
         "yaxis": "y"
        },
        {
         "alignmentgroup": "True",
         "hovertemplate": "states=%{y}<br>values=%{x}<extra></extra>",
         "legendgroup": "Delhi",
         "marker": {
          "color": "#ab63fa"
         },
         "name": "Delhi",
         "offsetgroup": "Delhi",
         "orientation": "h",
         "showlegend": true,
         "textposition": "auto",
         "type": "bar",
         "x": [
          18
         ],
         "xaxis": "x",
         "y": [
          "Delhi"
         ],
         "yaxis": "y"
        },
        {
         "alignmentgroup": "True",
         "hovertemplate": "states=%{y}<br>values=%{x}<extra></extra>",
         "legendgroup": "Uttar Pradesh",
         "marker": {
          "color": "#FFA15A"
         },
         "name": "Uttar Pradesh",
         "offsetgroup": "Uttar Pradesh",
         "orientation": "h",
         "showlegend": true,
         "textposition": "auto",
         "type": "bar",
         "x": [
          17
         ],
         "xaxis": "x",
         "y": [
          "Uttar Pradesh"
         ],
         "yaxis": "y"
        },
        {
         "alignmentgroup": "True",
         "hovertemplate": "states=%{y}<br>values=%{x}<extra></extra>",
         "legendgroup": "Karnataka",
         "marker": {
          "color": "#19d3f3"
         },
         "name": "Karnataka",
         "offsetgroup": "Karnataka",
         "orientation": "h",
         "showlegend": true,
         "textposition": "auto",
         "type": "bar",
         "x": [
          17
         ],
         "xaxis": "x",
         "y": [
          "Karnataka"
         ],
         "yaxis": "y"
        },
        {
         "alignmentgroup": "True",
         "hovertemplate": "states=%{y}<br>values=%{x}<extra></extra>",
         "legendgroup": "Gujarat",
         "marker": {
          "color": "#FF6692"
         },
         "name": "Gujarat",
         "offsetgroup": "Gujarat",
         "orientation": "h",
         "showlegend": true,
         "textposition": "auto",
         "type": "bar",
         "x": [
          14
         ],
         "xaxis": "x",
         "y": [
          "Gujarat"
         ],
         "yaxis": "y"
        },
        {
         "alignmentgroup": "True",
         "hovertemplate": "states=%{y}<br>values=%{x}<extra></extra>",
         "legendgroup": "West Bengal",
         "marker": {
          "color": "#B6E880"
         },
         "name": "West Bengal",
         "offsetgroup": "West Bengal",
         "orientation": "h",
         "showlegend": true,
         "textposition": "auto",
         "type": "bar",
         "x": [
          13
         ],
         "xaxis": "x",
         "y": [
          "West Bengal"
         ],
         "yaxis": "y"
        },
        {
         "alignmentgroup": "True",
         "hovertemplate": "states=%{y}<br>values=%{x}<extra></extra>",
         "legendgroup": "Kerala",
         "marker": {
          "color": "#FF97FF"
         },
         "name": "Kerala",
         "offsetgroup": "Kerala",
         "orientation": "h",
         "showlegend": true,
         "textposition": "auto",
         "type": "bar",
         "x": [
          12
         ],
         "xaxis": "x",
         "y": [
          "Kerala"
         ],
         "yaxis": "y"
        },
        {
         "alignmentgroup": "True",
         "hovertemplate": "states=%{y}<br>values=%{x}<extra></extra>",
         "legendgroup": "Haryana",
         "marker": {
          "color": "#FECB52"
         },
         "name": "Haryana",
         "offsetgroup": "Haryana",
         "orientation": "h",
         "showlegend": true,
         "textposition": "auto",
         "type": "bar",
         "x": [
          11
         ],
         "xaxis": "x",
         "y": [
          "Haryana"
         ],
         "yaxis": "y"
        },
        {
         "alignmentgroup": "True",
         "hovertemplate": "states=%{y}<br>values=%{x}<extra></extra>",
         "legendgroup": "Madhya Pradesh",
         "marker": {
          "color": "#636efa"
         },
         "name": "Madhya Pradesh",
         "offsetgroup": "Madhya Pradesh",
         "orientation": "h",
         "showlegend": true,
         "textposition": "auto",
         "type": "bar",
         "x": [
          10
         ],
         "xaxis": "x",
         "y": [
          "Madhya Pradesh"
         ],
         "yaxis": "y"
        },
        {
         "alignmentgroup": "True",
         "hovertemplate": "states=%{y}<br>values=%{x}<extra></extra>",
         "legendgroup": "Rajasthan",
         "marker": {
          "color": "#EF553B"
         },
         "name": "Rajasthan",
         "offsetgroup": "Rajasthan",
         "orientation": "h",
         "showlegend": true,
         "textposition": "auto",
         "type": "bar",
         "x": [
          9
         ],
         "xaxis": "x",
         "y": [
          "Rajasthan"
         ],
         "yaxis": "y"
        },
        {
         "alignmentgroup": "True",
         "hovertemplate": "states=%{y}<br>values=%{x}<extra></extra>",
         "legendgroup": "Odisha",
         "marker": {
          "color": "#00cc96"
         },
         "name": "Odisha",
         "offsetgroup": "Odisha",
         "orientation": "h",
         "showlegend": true,
         "textposition": "auto",
         "type": "bar",
         "x": [
          7
         ],
         "xaxis": "x",
         "y": [
          "Odisha"
         ],
         "yaxis": "y"
        },
        {
         "alignmentgroup": "True",
         "hovertemplate": "states=%{y}<br>values=%{x}<extra></extra>",
         "legendgroup": "Andhra Pradesh",
         "marker": {
          "color": "#ab63fa"
         },
         "name": "Andhra Pradesh",
         "offsetgroup": "Andhra Pradesh",
         "orientation": "h",
         "showlegend": true,
         "textposition": "auto",
         "type": "bar",
         "x": [
          7
         ],
         "xaxis": "x",
         "y": [
          "Andhra Pradesh"
         ],
         "yaxis": "y"
        },
        {
         "alignmentgroup": "True",
         "hovertemplate": "states=%{y}<br>values=%{x}<extra></extra>",
         "legendgroup": "Bihar",
         "marker": {
          "color": "#FFA15A"
         },
         "name": "Bihar",
         "offsetgroup": "Bihar",
         "orientation": "h",
         "showlegend": true,
         "textposition": "auto",
         "type": "bar",
         "x": [
          6
         ],
         "xaxis": "x",
         "y": [
          "Bihar"
         ],
         "yaxis": "y"
        },
        {
         "alignmentgroup": "True",
         "hovertemplate": "states=%{y}<br>values=%{x}<extra></extra>",
         "legendgroup": "Assam",
         "marker": {
          "color": "#19d3f3"
         },
         "name": "Assam",
         "offsetgroup": "Assam",
         "orientation": "h",
         "showlegend": true,
         "textposition": "auto",
         "type": "bar",
         "x": [
          6
         ],
         "xaxis": "x",
         "y": [
          "Assam"
         ],
         "yaxis": "y"
        },
        {
         "alignmentgroup": "True",
         "hovertemplate": "states=%{y}<br>values=%{x}<extra></extra>",
         "legendgroup": "Punjab",
         "marker": {
          "color": "#FF6692"
         },
         "name": "Punjab",
         "offsetgroup": "Punjab",
         "orientation": "h",
         "showlegend": true,
         "textposition": "auto",
         "type": "bar",
         "x": [
          5
         ],
         "xaxis": "x",
         "y": [
          "Punjab"
         ],
         "yaxis": "y"
        },
        {
         "alignmentgroup": "True",
         "hovertemplate": "states=%{y}<br>values=%{x}<extra></extra>",
         "legendgroup": "Jammu and Kashmir",
         "marker": {
          "color": "#B6E880"
         },
         "name": "Jammu and Kashmir",
         "offsetgroup": "Jammu and Kashmir",
         "orientation": "h",
         "showlegend": true,
         "textposition": "auto",
         "type": "bar",
         "x": [
          4
         ],
         "xaxis": "x",
         "y": [
          "Jammu and Kashmir"
         ],
         "yaxis": "y"
        },
        {
         "alignmentgroup": "True",
         "hovertemplate": "states=%{y}<br>values=%{x}<extra></extra>",
         "legendgroup": "Chandigarh",
         "marker": {
          "color": "#FF97FF"
         },
         "name": "Chandigarh",
         "offsetgroup": "Chandigarh",
         "orientation": "h",
         "showlegend": true,
         "textposition": "auto",
         "type": "bar",
         "x": [
          3
         ],
         "xaxis": "x",
         "y": [
          "Chandigarh"
         ],
         "yaxis": "y"
        },
        {
         "alignmentgroup": "True",
         "hovertemplate": "states=%{y}<br>values=%{x}<extra></extra>",
         "legendgroup": "Jharkhand",
         "marker": {
          "color": "#FECB52"
         },
         "name": "Jharkhand",
         "offsetgroup": "Jharkhand",
         "orientation": "h",
         "showlegend": true,
         "textposition": "auto",
         "type": "bar",
         "x": [
          3
         ],
         "xaxis": "x",
         "y": [
          "Jharkhand"
         ],
         "yaxis": "y"
        },
        {
         "alignmentgroup": "True",
         "hovertemplate": "states=%{y}<br>values=%{x}<extra></extra>",
         "legendgroup": "Chhattisgarh",
         "marker": {
          "color": "#636efa"
         },
         "name": "Chhattisgarh",
         "offsetgroup": "Chhattisgarh",
         "orientation": "h",
         "showlegend": true,
         "textposition": "auto",
         "type": "bar",
         "x": [
          3
         ],
         "xaxis": "x",
         "y": [
          "Chhattisgarh"
         ],
         "yaxis": "y"
        },
        {
         "alignmentgroup": "True",
         "hovertemplate": "states=%{y}<br>values=%{x}<extra></extra>",
         "legendgroup": "Uttarakhand",
         "marker": {
          "color": "#EF553B"
         },
         "name": "Uttarakhand",
         "offsetgroup": "Uttarakhand",
         "orientation": "h",
         "showlegend": true,
         "textposition": "auto",
         "type": "bar",
         "x": [
          3
         ],
         "xaxis": "x",
         "y": [
          "Uttarakhand"
         ],
         "yaxis": "y"
        },
        {
         "alignmentgroup": "True",
         "hovertemplate": "states=%{y}<br>values=%{x}<extra></extra>",
         "legendgroup": "Himachal Pradesh",
         "marker": {
          "color": "#00cc96"
         },
         "name": "Himachal Pradesh",
         "offsetgroup": "Himachal Pradesh",
         "orientation": "h",
         "showlegend": true,
         "textposition": "auto",
         "type": "bar",
         "x": [
          3
         ],
         "xaxis": "x",
         "y": [
          "Himachal Pradesh"
         ],
         "yaxis": "y"
        },
        {
         "alignmentgroup": "True",
         "hovertemplate": "states=%{y}<br>values=%{x}<extra></extra>",
         "legendgroup": "Manipur",
         "marker": {
          "color": "#ab63fa"
         },
         "name": "Manipur",
         "offsetgroup": "Manipur",
         "orientation": "h",
         "showlegend": true,
         "textposition": "auto",
         "type": "bar",
         "x": [
          2
         ],
         "xaxis": "x",
         "y": [
          "Manipur"
         ],
         "yaxis": "y"
        },
        {
         "alignmentgroup": "True",
         "hovertemplate": "states=%{y}<br>values=%{x}<extra></extra>",
         "legendgroup": "Meghalaya",
         "marker": {
          "color": "#FFA15A"
         },
         "name": "Meghalaya",
         "offsetgroup": "Meghalaya",
         "orientation": "h",
         "showlegend": true,
         "textposition": "auto",
         "type": "bar",
         "x": [
          1
         ],
         "xaxis": "x",
         "y": [
          "Meghalaya"
         ],
         "yaxis": "y"
        },
        {
         "alignmentgroup": "True",
         "hovertemplate": "states=%{y}<br>values=%{x}<extra></extra>",
         "legendgroup": "Arunachal Pradesh",
         "marker": {
          "color": "#19d3f3"
         },
         "name": "Arunachal Pradesh",
         "offsetgroup": "Arunachal Pradesh",
         "orientation": "h",
         "showlegend": true,
         "textposition": "auto",
         "type": "bar",
         "x": [
          1
         ],
         "xaxis": "x",
         "y": [
          "Arunachal Pradesh"
         ],
         "yaxis": "y"
        },
        {
         "alignmentgroup": "True",
         "hovertemplate": "states=%{y}<br>values=%{x}<extra></extra>",
         "legendgroup": "Sikkim",
         "marker": {
          "color": "#FF6692"
         },
         "name": "Sikkim",
         "offsetgroup": "Sikkim",
         "orientation": "h",
         "showlegend": true,
         "textposition": "auto",
         "type": "bar",
         "x": [
          1
         ],
         "xaxis": "x",
         "y": [
          "Sikkim"
         ],
         "yaxis": "y"
        },
        {
         "alignmentgroup": "True",
         "hovertemplate": "states=%{y}<br>values=%{x}<extra></extra>",
         "legendgroup": "Dadra and Nagar Haveli and Daman and Diu",
         "marker": {
          "color": "#B6E880"
         },
         "name": "Dadra and Nagar Haveli and Daman and Diu",
         "offsetgroup": "Dadra and Nagar Haveli and Daman and Diu",
         "orientation": "h",
         "showlegend": true,
         "textposition": "auto",
         "type": "bar",
         "x": [
          1
         ],
         "xaxis": "x",
         "y": [
          "Dadra and Nagar Haveli and Daman and Diu"
         ],
         "yaxis": "y"
        },
        {
         "alignmentgroup": "True",
         "hovertemplate": "states=%{y}<br>values=%{x}<extra></extra>",
         "legendgroup": "Andaman and Nicobar Islands",
         "marker": {
          "color": "#FF97FF"
         },
         "name": "Andaman and Nicobar Islands",
         "offsetgroup": "Andaman and Nicobar Islands",
         "orientation": "h",
         "showlegend": true,
         "textposition": "auto",
         "type": "bar",
         "x": [
          1
         ],
         "xaxis": "x",
         "y": [
          "Andaman and Nicobar Islands"
         ],
         "yaxis": "y"
        },
        {
         "alignmentgroup": "True",
         "hovertemplate": "states=%{y}<br>values=%{x}<extra></extra>",
         "legendgroup": "Goa",
         "marker": {
          "color": "#FECB52"
         },
         "name": "Goa",
         "offsetgroup": "Goa",
         "orientation": "h",
         "showlegend": true,
         "textposition": "auto",
         "type": "bar",
         "x": [
          1
         ],
         "xaxis": "x",
         "y": [
          "Goa"
         ],
         "yaxis": "y"
        },
        {
         "alignmentgroup": "True",
         "hovertemplate": "states=%{y}<br>values=%{x}<extra></extra>",
         "legendgroup": "Mizoram",
         "marker": {
          "color": "#636efa"
         },
         "name": "Mizoram",
         "offsetgroup": "Mizoram",
         "orientation": "h",
         "showlegend": true,
         "textposition": "auto",
         "type": "bar",
         "x": [
          1
         ],
         "xaxis": "x",
         "y": [
          "Mizoram"
         ],
         "yaxis": "y"
        },
        {
         "alignmentgroup": "True",
         "hovertemplate": "states=%{y}<br>values=%{x}<extra></extra>",
         "legendgroup": "Tripura",
         "marker": {
          "color": "#EF553B"
         },
         "name": "Tripura",
         "offsetgroup": "Tripura",
         "orientation": "h",
         "showlegend": true,
         "textposition": "auto",
         "type": "bar",
         "x": [
          1
         ],
         "xaxis": "x",
         "y": [
          "Tripura"
         ],
         "yaxis": "y"
        },
        {
         "alignmentgroup": "True",
         "hovertemplate": "states=%{y}<br>values=%{x}<extra></extra>",
         "legendgroup": "Puducherry",
         "marker": {
          "color": "#00cc96"
         },
         "name": "Puducherry",
         "offsetgroup": "Puducherry",
         "orientation": "h",
         "showlegend": true,
         "textposition": "auto",
         "type": "bar",
         "x": [
          1
         ],
         "xaxis": "x",
         "y": [
          "Puducherry"
         ],
         "yaxis": "y"
        },
        {
         "alignmentgroup": "True",
         "hovertemplate": "states=%{y}<br>values=%{x}<extra></extra>",
         "legendgroup": "Ladakh",
         "marker": {
          "color": "#ab63fa"
         },
         "name": "Ladakh",
         "offsetgroup": "Ladakh",
         "orientation": "h",
         "showlegend": true,
         "textposition": "auto",
         "type": "bar",
         "x": [
          1
         ],
         "xaxis": "x",
         "y": [
          "Ladakh"
         ],
         "yaxis": "y"
        }
       ],
       "layout": {
        "barmode": "relative",
        "height": 1000,
        "legend": {
         "title": {
          "text": "states"
         },
         "tracegroupgap": 0
        },
        "template": {
         "data": {
          "bar": [
           {
            "error_x": {
             "color": "#2a3f5f"
            },
            "error_y": {
             "color": "#2a3f5f"
            },
            "marker": {
             "line": {
              "color": "#E5ECF6",
              "width": 0.5
             }
            },
            "type": "bar"
           }
          ],
          "barpolar": [
           {
            "marker": {
             "line": {
              "color": "#E5ECF6",
              "width": 0.5
             }
            },
            "type": "barpolar"
           }
          ],
          "carpet": [
           {
            "aaxis": {
             "endlinecolor": "#2a3f5f",
             "gridcolor": "white",
             "linecolor": "white",
             "minorgridcolor": "white",
             "startlinecolor": "#2a3f5f"
            },
            "baxis": {
             "endlinecolor": "#2a3f5f",
             "gridcolor": "white",
             "linecolor": "white",
             "minorgridcolor": "white",
             "startlinecolor": "#2a3f5f"
            },
            "type": "carpet"
           }
          ],
          "choropleth": [
           {
            "colorbar": {
             "outlinewidth": 0,
             "ticks": ""
            },
            "type": "choropleth"
           }
          ],
          "contour": [
           {
            "colorbar": {
             "outlinewidth": 0,
             "ticks": ""
            },
            "colorscale": [
             [
              0,
              "#0d0887"
             ],
             [
              0.1111111111111111,
              "#46039f"
             ],
             [
              0.2222222222222222,
              "#7201a8"
             ],
             [
              0.3333333333333333,
              "#9c179e"
             ],
             [
              0.4444444444444444,
              "#bd3786"
             ],
             [
              0.5555555555555556,
              "#d8576b"
             ],
             [
              0.6666666666666666,
              "#ed7953"
             ],
             [
              0.7777777777777778,
              "#fb9f3a"
             ],
             [
              0.8888888888888888,
              "#fdca26"
             ],
             [
              1,
              "#f0f921"
             ]
            ],
            "type": "contour"
           }
          ],
          "contourcarpet": [
           {
            "colorbar": {
             "outlinewidth": 0,
             "ticks": ""
            },
            "type": "contourcarpet"
           }
          ],
          "heatmap": [
           {
            "colorbar": {
             "outlinewidth": 0,
             "ticks": ""
            },
            "colorscale": [
             [
              0,
              "#0d0887"
             ],
             [
              0.1111111111111111,
              "#46039f"
             ],
             [
              0.2222222222222222,
              "#7201a8"
             ],
             [
              0.3333333333333333,
              "#9c179e"
             ],
             [
              0.4444444444444444,
              "#bd3786"
             ],
             [
              0.5555555555555556,
              "#d8576b"
             ],
             [
              0.6666666666666666,
              "#ed7953"
             ],
             [
              0.7777777777777778,
              "#fb9f3a"
             ],
             [
              0.8888888888888888,
              "#fdca26"
             ],
             [
              1,
              "#f0f921"
             ]
            ],
            "type": "heatmap"
           }
          ],
          "heatmapgl": [
           {
            "colorbar": {
             "outlinewidth": 0,
             "ticks": ""
            },
            "colorscale": [
             [
              0,
              "#0d0887"
             ],
             [
              0.1111111111111111,
              "#46039f"
             ],
             [
              0.2222222222222222,
              "#7201a8"
             ],
             [
              0.3333333333333333,
              "#9c179e"
             ],
             [
              0.4444444444444444,
              "#bd3786"
             ],
             [
              0.5555555555555556,
              "#d8576b"
             ],
             [
              0.6666666666666666,
              "#ed7953"
             ],
             [
              0.7777777777777778,
              "#fb9f3a"
             ],
             [
              0.8888888888888888,
              "#fdca26"
             ],
             [
              1,
              "#f0f921"
             ]
            ],
            "type": "heatmapgl"
           }
          ],
          "histogram": [
           {
            "marker": {
             "colorbar": {
              "outlinewidth": 0,
              "ticks": ""
             }
            },
            "type": "histogram"
           }
          ],
          "histogram2d": [
           {
            "colorbar": {
             "outlinewidth": 0,
             "ticks": ""
            },
            "colorscale": [
             [
              0,
              "#0d0887"
             ],
             [
              0.1111111111111111,
              "#46039f"
             ],
             [
              0.2222222222222222,
              "#7201a8"
             ],
             [
              0.3333333333333333,
              "#9c179e"
             ],
             [
              0.4444444444444444,
              "#bd3786"
             ],
             [
              0.5555555555555556,
              "#d8576b"
             ],
             [
              0.6666666666666666,
              "#ed7953"
             ],
             [
              0.7777777777777778,
              "#fb9f3a"
             ],
             [
              0.8888888888888888,
              "#fdca26"
             ],
             [
              1,
              "#f0f921"
             ]
            ],
            "type": "histogram2d"
           }
          ],
          "histogram2dcontour": [
           {
            "colorbar": {
             "outlinewidth": 0,
             "ticks": ""
            },
            "colorscale": [
             [
              0,
              "#0d0887"
             ],
             [
              0.1111111111111111,
              "#46039f"
             ],
             [
              0.2222222222222222,
              "#7201a8"
             ],
             [
              0.3333333333333333,
              "#9c179e"
             ],
             [
              0.4444444444444444,
              "#bd3786"
             ],
             [
              0.5555555555555556,
              "#d8576b"
             ],
             [
              0.6666666666666666,
              "#ed7953"
             ],
             [
              0.7777777777777778,
              "#fb9f3a"
             ],
             [
              0.8888888888888888,
              "#fdca26"
             ],
             [
              1,
              "#f0f921"
             ]
            ],
            "type": "histogram2dcontour"
           }
          ],
          "mesh3d": [
           {
            "colorbar": {
             "outlinewidth": 0,
             "ticks": ""
            },
            "type": "mesh3d"
           }
          ],
          "parcoords": [
           {
            "line": {
             "colorbar": {
              "outlinewidth": 0,
              "ticks": ""
             }
            },
            "type": "parcoords"
           }
          ],
          "pie": [
           {
            "automargin": true,
            "type": "pie"
           }
          ],
          "scatter": [
           {
            "marker": {
             "colorbar": {
              "outlinewidth": 0,
              "ticks": ""
             }
            },
            "type": "scatter"
           }
          ],
          "scatter3d": [
           {
            "line": {
             "colorbar": {
              "outlinewidth": 0,
              "ticks": ""
             }
            },
            "marker": {
             "colorbar": {
              "outlinewidth": 0,
              "ticks": ""
             }
            },
            "type": "scatter3d"
           }
          ],
          "scattercarpet": [
           {
            "marker": {
             "colorbar": {
              "outlinewidth": 0,
              "ticks": ""
             }
            },
            "type": "scattercarpet"
           }
          ],
          "scattergeo": [
           {
            "marker": {
             "colorbar": {
              "outlinewidth": 0,
              "ticks": ""
             }
            },
            "type": "scattergeo"
           }
          ],
          "scattergl": [
           {
            "marker": {
             "colorbar": {
              "outlinewidth": 0,
              "ticks": ""
             }
            },
            "type": "scattergl"
           }
          ],
          "scattermapbox": [
           {
            "marker": {
             "colorbar": {
              "outlinewidth": 0,
              "ticks": ""
             }
            },
            "type": "scattermapbox"
           }
          ],
          "scatterpolar": [
           {
            "marker": {
             "colorbar": {
              "outlinewidth": 0,
              "ticks": ""
             }
            },
            "type": "scatterpolar"
           }
          ],
          "scatterpolargl": [
           {
            "marker": {
             "colorbar": {
              "outlinewidth": 0,
              "ticks": ""
             }
            },
            "type": "scatterpolargl"
           }
          ],
          "scatterternary": [
           {
            "marker": {
             "colorbar": {
              "outlinewidth": 0,
              "ticks": ""
             }
            },
            "type": "scatterternary"
           }
          ],
          "surface": [
           {
            "colorbar": {
             "outlinewidth": 0,
             "ticks": ""
            },
            "colorscale": [
             [
              0,
              "#0d0887"
             ],
             [
              0.1111111111111111,
              "#46039f"
             ],
             [
              0.2222222222222222,
              "#7201a8"
             ],
             [
              0.3333333333333333,
              "#9c179e"
             ],
             [
              0.4444444444444444,
              "#bd3786"
             ],
             [
              0.5555555555555556,
              "#d8576b"
             ],
             [
              0.6666666666666666,
              "#ed7953"
             ],
             [
              0.7777777777777778,
              "#fb9f3a"
             ],
             [
              0.8888888888888888,
              "#fdca26"
             ],
             [
              1,
              "#f0f921"
             ]
            ],
            "type": "surface"
           }
          ],
          "table": [
           {
            "cells": {
             "fill": {
              "color": "#EBF0F8"
             },
             "line": {
              "color": "white"
             }
            },
            "header": {
             "fill": {
              "color": "#C8D4E3"
             },
             "line": {
              "color": "white"
             }
            },
            "type": "table"
           }
          ]
         },
         "layout": {
          "annotationdefaults": {
           "arrowcolor": "#2a3f5f",
           "arrowhead": 0,
           "arrowwidth": 1
          },
          "coloraxis": {
           "colorbar": {
            "outlinewidth": 0,
            "ticks": ""
           }
          },
          "colorscale": {
           "diverging": [
            [
             0,
             "#8e0152"
            ],
            [
             0.1,
             "#c51b7d"
            ],
            [
             0.2,
             "#de77ae"
            ],
            [
             0.3,
             "#f1b6da"
            ],
            [
             0.4,
             "#fde0ef"
            ],
            [
             0.5,
             "#f7f7f7"
            ],
            [
             0.6,
             "#e6f5d0"
            ],
            [
             0.7,
             "#b8e186"
            ],
            [
             0.8,
             "#7fbc41"
            ],
            [
             0.9,
             "#4d9221"
            ],
            [
             1,
             "#276419"
            ]
           ],
           "sequential": [
            [
             0,
             "#0d0887"
            ],
            [
             0.1111111111111111,
             "#46039f"
            ],
            [
             0.2222222222222222,
             "#7201a8"
            ],
            [
             0.3333333333333333,
             "#9c179e"
            ],
            [
             0.4444444444444444,
             "#bd3786"
            ],
            [
             0.5555555555555556,
             "#d8576b"
            ],
            [
             0.6666666666666666,
             "#ed7953"
            ],
            [
             0.7777777777777778,
             "#fb9f3a"
            ],
            [
             0.8888888888888888,
             "#fdca26"
            ],
            [
             1,
             "#f0f921"
            ]
           ],
           "sequentialminus": [
            [
             0,
             "#0d0887"
            ],
            [
             0.1111111111111111,
             "#46039f"
            ],
            [
             0.2222222222222222,
             "#7201a8"
            ],
            [
             0.3333333333333333,
             "#9c179e"
            ],
            [
             0.4444444444444444,
             "#bd3786"
            ],
            [
             0.5555555555555556,
             "#d8576b"
            ],
            [
             0.6666666666666666,
             "#ed7953"
            ],
            [
             0.7777777777777778,
             "#fb9f3a"
            ],
            [
             0.8888888888888888,
             "#fdca26"
            ],
            [
             1,
             "#f0f921"
            ]
           ]
          },
          "colorway": [
           "#636efa",
           "#EF553B",
           "#00cc96",
           "#ab63fa",
           "#FFA15A",
           "#19d3f3",
           "#FF6692",
           "#B6E880",
           "#FF97FF",
           "#FECB52"
          ],
          "font": {
           "color": "#2a3f5f"
          },
          "geo": {
           "bgcolor": "white",
           "lakecolor": "white",
           "landcolor": "#E5ECF6",
           "showlakes": true,
           "showland": true,
           "subunitcolor": "white"
          },
          "hoverlabel": {
           "align": "left"
          },
          "hovermode": "closest",
          "mapbox": {
           "style": "light"
          },
          "paper_bgcolor": "white",
          "plot_bgcolor": "#E5ECF6",
          "polar": {
           "angularaxis": {
            "gridcolor": "white",
            "linecolor": "white",
            "ticks": ""
           },
           "bgcolor": "#E5ECF6",
           "radialaxis": {
            "gridcolor": "white",
            "linecolor": "white",
            "ticks": ""
           }
          },
          "scene": {
           "xaxis": {
            "backgroundcolor": "#E5ECF6",
            "gridcolor": "white",
            "gridwidth": 2,
            "linecolor": "white",
            "showbackground": true,
            "ticks": "",
            "zerolinecolor": "white"
           },
           "yaxis": {
            "backgroundcolor": "#E5ECF6",
            "gridcolor": "white",
            "gridwidth": 2,
            "linecolor": "white",
            "showbackground": true,
            "ticks": "",
            "zerolinecolor": "white"
           },
           "zaxis": {
            "backgroundcolor": "#E5ECF6",
            "gridcolor": "white",
            "gridwidth": 2,
            "linecolor": "white",
            "showbackground": true,
            "ticks": "",
            "zerolinecolor": "white"
           }
          },
          "shapedefaults": {
           "line": {
            "color": "#2a3f5f"
           }
          },
          "ternary": {
           "aaxis": {
            "gridcolor": "white",
            "linecolor": "white",
            "ticks": ""
           },
           "baxis": {
            "gridcolor": "white",
            "linecolor": "white",
            "ticks": ""
           },
           "bgcolor": "#E5ECF6",
           "caxis": {
            "gridcolor": "white",
            "linecolor": "white",
            "ticks": ""
           }
          },
          "title": {
           "x": 0.05
          },
          "xaxis": {
           "automargin": true,
           "gridcolor": "white",
           "linecolor": "white",
           "ticks": "",
           "title": {
            "standoff": 15
           },
           "zerolinecolor": "white",
           "zerolinewidth": 2
          },
          "yaxis": {
           "automargin": true,
           "gridcolor": "white",
           "linecolor": "white",
           "ticks": "",
           "title": {
            "standoff": 15
           },
           "zerolinecolor": "white",
           "zerolinewidth": 2
          }
         }
        },
        "title": {
         "text": "Statewise Labs"
        },
        "xaxis": {
         "anchor": "y",
         "domain": [
          0,
          1
         ],
         "title": {
          "text": "values"
         }
        },
        "yaxis": {
         "anchor": "x",
         "categoryarray": [
          "Ladakh",
          "Puducherry",
          "Tripura",
          "Mizoram",
          "Goa",
          "Andaman and Nicobar Islands",
          "Dadra and Nagar Haveli and Daman and Diu",
          "Sikkim",
          "Arunachal Pradesh",
          "Meghalaya",
          "Manipur",
          "Himachal Pradesh",
          "Uttarakhand",
          "Chhattisgarh",
          "Jharkhand",
          "Chandigarh",
          "Jammu and Kashmir",
          "Punjab",
          "Assam",
          "Bihar",
          "Andhra Pradesh",
          "Odisha",
          "Rajasthan",
          "Madhya Pradesh",
          "Haryana",
          "Kerala",
          "West Bengal",
          "Gujarat",
          "Karnataka",
          "Uttar Pradesh",
          "Delhi",
          "Telangana",
          "Tamil Nadu",
          "Maharashtra"
         ],
         "categoryorder": "array",
         "domain": [
          0,
          1
         ],
         "title": {
          "text": "states"
         }
        }
       }
      },
      "text/html": [
       "<div>\n",
       "        \n",
       "        \n",
       "            <div id=\"8efaf6f3-bc43-4fd0-8951-2309650ad726\" class=\"plotly-graph-div\" style=\"height:1000px; width:100%;\"></div>\n",
       "            <script type=\"text/javascript\">\n",
       "                require([\"plotly\"], function(Plotly) {\n",
       "                    window.PLOTLYENV=window.PLOTLYENV || {};\n",
       "                    \n",
       "                if (document.getElementById(\"8efaf6f3-bc43-4fd0-8951-2309650ad726\")) {\n",
       "                    Plotly.newPlot(\n",
       "                        '8efaf6f3-bc43-4fd0-8951-2309650ad726',\n",
       "                        [{\"alignmentgroup\": \"True\", \"hovertemplate\": \"states=%{y}<br>values=%{x}<extra></extra>\", \"legendgroup\": \"Maharashtra\", \"marker\": {\"color\": \"#636efa\"}, \"name\": \"Maharashtra\", \"offsetgroup\": \"Maharashtra\", \"orientation\": \"h\", \"showlegend\": true, \"textposition\": \"auto\", \"type\": \"bar\", \"x\": [39], \"xaxis\": \"x\", \"y\": [\"Maharashtra\"], \"yaxis\": \"y\"}, {\"alignmentgroup\": \"True\", \"hovertemplate\": \"states=%{y}<br>values=%{x}<extra></extra>\", \"legendgroup\": \"Tamil Nadu\", \"marker\": {\"color\": \"#EF553B\"}, \"name\": \"Tamil Nadu\", \"offsetgroup\": \"Tamil Nadu\", \"orientation\": \"h\", \"showlegend\": true, \"textposition\": \"auto\", \"type\": \"bar\", \"x\": [26], \"xaxis\": \"x\", \"y\": [\"Tamil Nadu\"], \"yaxis\": \"y\"}, {\"alignmentgroup\": \"True\", \"hovertemplate\": \"states=%{y}<br>values=%{x}<extra></extra>\", \"legendgroup\": \"Telangana\", \"marker\": {\"color\": \"#00cc96\"}, \"name\": \"Telangana\", \"offsetgroup\": \"Telangana\", \"orientation\": \"h\", \"showlegend\": true, \"textposition\": \"auto\", \"type\": \"bar\", \"x\": [19], \"xaxis\": \"x\", \"y\": [\"Telangana\"], \"yaxis\": \"y\"}, {\"alignmentgroup\": \"True\", \"hovertemplate\": \"states=%{y}<br>values=%{x}<extra></extra>\", \"legendgroup\": \"Delhi\", \"marker\": {\"color\": \"#ab63fa\"}, \"name\": \"Delhi\", \"offsetgroup\": \"Delhi\", \"orientation\": \"h\", \"showlegend\": true, \"textposition\": \"auto\", \"type\": \"bar\", \"x\": [18], \"xaxis\": \"x\", \"y\": [\"Delhi\"], \"yaxis\": \"y\"}, {\"alignmentgroup\": \"True\", \"hovertemplate\": \"states=%{y}<br>values=%{x}<extra></extra>\", \"legendgroup\": \"Uttar Pradesh\", \"marker\": {\"color\": \"#FFA15A\"}, \"name\": \"Uttar Pradesh\", \"offsetgroup\": \"Uttar Pradesh\", \"orientation\": \"h\", \"showlegend\": true, \"textposition\": \"auto\", \"type\": \"bar\", \"x\": [17], \"xaxis\": \"x\", \"y\": [\"Uttar Pradesh\"], \"yaxis\": \"y\"}, {\"alignmentgroup\": \"True\", \"hovertemplate\": \"states=%{y}<br>values=%{x}<extra></extra>\", \"legendgroup\": \"Karnataka\", \"marker\": {\"color\": \"#19d3f3\"}, \"name\": \"Karnataka\", \"offsetgroup\": \"Karnataka\", \"orientation\": \"h\", \"showlegend\": true, \"textposition\": \"auto\", \"type\": \"bar\", \"x\": [17], \"xaxis\": \"x\", \"y\": [\"Karnataka\"], \"yaxis\": \"y\"}, {\"alignmentgroup\": \"True\", \"hovertemplate\": \"states=%{y}<br>values=%{x}<extra></extra>\", \"legendgroup\": \"Gujarat\", \"marker\": {\"color\": \"#FF6692\"}, \"name\": \"Gujarat\", \"offsetgroup\": \"Gujarat\", \"orientation\": \"h\", \"showlegend\": true, \"textposition\": \"auto\", \"type\": \"bar\", \"x\": [14], \"xaxis\": \"x\", \"y\": [\"Gujarat\"], \"yaxis\": \"y\"}, {\"alignmentgroup\": \"True\", \"hovertemplate\": \"states=%{y}<br>values=%{x}<extra></extra>\", \"legendgroup\": \"West Bengal\", \"marker\": {\"color\": \"#B6E880\"}, \"name\": \"West Bengal\", \"offsetgroup\": \"West Bengal\", \"orientation\": \"h\", \"showlegend\": true, \"textposition\": \"auto\", \"type\": \"bar\", \"x\": [13], \"xaxis\": \"x\", \"y\": [\"West Bengal\"], \"yaxis\": \"y\"}, {\"alignmentgroup\": \"True\", \"hovertemplate\": \"states=%{y}<br>values=%{x}<extra></extra>\", \"legendgroup\": \"Kerala\", \"marker\": {\"color\": \"#FF97FF\"}, \"name\": \"Kerala\", \"offsetgroup\": \"Kerala\", \"orientation\": \"h\", \"showlegend\": true, \"textposition\": \"auto\", \"type\": \"bar\", \"x\": [12], \"xaxis\": \"x\", \"y\": [\"Kerala\"], \"yaxis\": \"y\"}, {\"alignmentgroup\": \"True\", \"hovertemplate\": \"states=%{y}<br>values=%{x}<extra></extra>\", \"legendgroup\": \"Haryana\", \"marker\": {\"color\": \"#FECB52\"}, \"name\": \"Haryana\", \"offsetgroup\": \"Haryana\", \"orientation\": \"h\", \"showlegend\": true, \"textposition\": \"auto\", \"type\": \"bar\", \"x\": [11], \"xaxis\": \"x\", \"y\": [\"Haryana\"], \"yaxis\": \"y\"}, {\"alignmentgroup\": \"True\", \"hovertemplate\": \"states=%{y}<br>values=%{x}<extra></extra>\", \"legendgroup\": \"Madhya Pradesh\", \"marker\": {\"color\": \"#636efa\"}, \"name\": \"Madhya Pradesh\", \"offsetgroup\": \"Madhya Pradesh\", \"orientation\": \"h\", \"showlegend\": true, \"textposition\": \"auto\", \"type\": \"bar\", \"x\": [10], \"xaxis\": \"x\", \"y\": [\"Madhya Pradesh\"], \"yaxis\": \"y\"}, {\"alignmentgroup\": \"True\", \"hovertemplate\": \"states=%{y}<br>values=%{x}<extra></extra>\", \"legendgroup\": \"Rajasthan\", \"marker\": {\"color\": \"#EF553B\"}, \"name\": \"Rajasthan\", \"offsetgroup\": \"Rajasthan\", \"orientation\": \"h\", \"showlegend\": true, \"textposition\": \"auto\", \"type\": \"bar\", \"x\": [9], \"xaxis\": \"x\", \"y\": [\"Rajasthan\"], \"yaxis\": \"y\"}, {\"alignmentgroup\": \"True\", \"hovertemplate\": \"states=%{y}<br>values=%{x}<extra></extra>\", \"legendgroup\": \"Odisha\", \"marker\": {\"color\": \"#00cc96\"}, \"name\": \"Odisha\", \"offsetgroup\": \"Odisha\", \"orientation\": \"h\", \"showlegend\": true, \"textposition\": \"auto\", \"type\": \"bar\", \"x\": [7], \"xaxis\": \"x\", \"y\": [\"Odisha\"], \"yaxis\": \"y\"}, {\"alignmentgroup\": \"True\", \"hovertemplate\": \"states=%{y}<br>values=%{x}<extra></extra>\", \"legendgroup\": \"Andhra Pradesh\", \"marker\": {\"color\": \"#ab63fa\"}, \"name\": \"Andhra Pradesh\", \"offsetgroup\": \"Andhra Pradesh\", \"orientation\": \"h\", \"showlegend\": true, \"textposition\": \"auto\", \"type\": \"bar\", \"x\": [7], \"xaxis\": \"x\", \"y\": [\"Andhra Pradesh\"], \"yaxis\": \"y\"}, {\"alignmentgroup\": \"True\", \"hovertemplate\": \"states=%{y}<br>values=%{x}<extra></extra>\", \"legendgroup\": \"Bihar\", \"marker\": {\"color\": \"#FFA15A\"}, \"name\": \"Bihar\", \"offsetgroup\": \"Bihar\", \"orientation\": \"h\", \"showlegend\": true, \"textposition\": \"auto\", \"type\": \"bar\", \"x\": [6], \"xaxis\": \"x\", \"y\": [\"Bihar\"], \"yaxis\": \"y\"}, {\"alignmentgroup\": \"True\", \"hovertemplate\": \"states=%{y}<br>values=%{x}<extra></extra>\", \"legendgroup\": \"Assam\", \"marker\": {\"color\": \"#19d3f3\"}, \"name\": \"Assam\", \"offsetgroup\": \"Assam\", \"orientation\": \"h\", \"showlegend\": true, \"textposition\": \"auto\", \"type\": \"bar\", \"x\": [6], \"xaxis\": \"x\", \"y\": [\"Assam\"], \"yaxis\": \"y\"}, {\"alignmentgroup\": \"True\", \"hovertemplate\": \"states=%{y}<br>values=%{x}<extra></extra>\", \"legendgroup\": \"Punjab\", \"marker\": {\"color\": \"#FF6692\"}, \"name\": \"Punjab\", \"offsetgroup\": \"Punjab\", \"orientation\": \"h\", \"showlegend\": true, \"textposition\": \"auto\", \"type\": \"bar\", \"x\": [5], \"xaxis\": \"x\", \"y\": [\"Punjab\"], \"yaxis\": \"y\"}, {\"alignmentgroup\": \"True\", \"hovertemplate\": \"states=%{y}<br>values=%{x}<extra></extra>\", \"legendgroup\": \"Jammu and Kashmir\", \"marker\": {\"color\": \"#B6E880\"}, \"name\": \"Jammu and Kashmir\", \"offsetgroup\": \"Jammu and Kashmir\", \"orientation\": \"h\", \"showlegend\": true, \"textposition\": \"auto\", \"type\": \"bar\", \"x\": [4], \"xaxis\": \"x\", \"y\": [\"Jammu and Kashmir\"], \"yaxis\": \"y\"}, {\"alignmentgroup\": \"True\", \"hovertemplate\": \"states=%{y}<br>values=%{x}<extra></extra>\", \"legendgroup\": \"Chandigarh\", \"marker\": {\"color\": \"#FF97FF\"}, \"name\": \"Chandigarh\", \"offsetgroup\": \"Chandigarh\", \"orientation\": \"h\", \"showlegend\": true, \"textposition\": \"auto\", \"type\": \"bar\", \"x\": [3], \"xaxis\": \"x\", \"y\": [\"Chandigarh\"], \"yaxis\": \"y\"}, {\"alignmentgroup\": \"True\", \"hovertemplate\": \"states=%{y}<br>values=%{x}<extra></extra>\", \"legendgroup\": \"Jharkhand\", \"marker\": {\"color\": \"#FECB52\"}, \"name\": \"Jharkhand\", \"offsetgroup\": \"Jharkhand\", \"orientation\": \"h\", \"showlegend\": true, \"textposition\": \"auto\", \"type\": \"bar\", \"x\": [3], \"xaxis\": \"x\", \"y\": [\"Jharkhand\"], \"yaxis\": \"y\"}, {\"alignmentgroup\": \"True\", \"hovertemplate\": \"states=%{y}<br>values=%{x}<extra></extra>\", \"legendgroup\": \"Chhattisgarh\", \"marker\": {\"color\": \"#636efa\"}, \"name\": \"Chhattisgarh\", \"offsetgroup\": \"Chhattisgarh\", \"orientation\": \"h\", \"showlegend\": true, \"textposition\": \"auto\", \"type\": \"bar\", \"x\": [3], \"xaxis\": \"x\", \"y\": [\"Chhattisgarh\"], \"yaxis\": \"y\"}, {\"alignmentgroup\": \"True\", \"hovertemplate\": \"states=%{y}<br>values=%{x}<extra></extra>\", \"legendgroup\": \"Uttarakhand\", \"marker\": {\"color\": \"#EF553B\"}, \"name\": \"Uttarakhand\", \"offsetgroup\": \"Uttarakhand\", \"orientation\": \"h\", \"showlegend\": true, \"textposition\": \"auto\", \"type\": \"bar\", \"x\": [3], \"xaxis\": \"x\", \"y\": [\"Uttarakhand\"], \"yaxis\": \"y\"}, {\"alignmentgroup\": \"True\", \"hovertemplate\": \"states=%{y}<br>values=%{x}<extra></extra>\", \"legendgroup\": \"Himachal Pradesh\", \"marker\": {\"color\": \"#00cc96\"}, \"name\": \"Himachal Pradesh\", \"offsetgroup\": \"Himachal Pradesh\", \"orientation\": \"h\", \"showlegend\": true, \"textposition\": \"auto\", \"type\": \"bar\", \"x\": [3], \"xaxis\": \"x\", \"y\": [\"Himachal Pradesh\"], \"yaxis\": \"y\"}, {\"alignmentgroup\": \"True\", \"hovertemplate\": \"states=%{y}<br>values=%{x}<extra></extra>\", \"legendgroup\": \"Manipur\", \"marker\": {\"color\": \"#ab63fa\"}, \"name\": \"Manipur\", \"offsetgroup\": \"Manipur\", \"orientation\": \"h\", \"showlegend\": true, \"textposition\": \"auto\", \"type\": \"bar\", \"x\": [2], \"xaxis\": \"x\", \"y\": [\"Manipur\"], \"yaxis\": \"y\"}, {\"alignmentgroup\": \"True\", \"hovertemplate\": \"states=%{y}<br>values=%{x}<extra></extra>\", \"legendgroup\": \"Meghalaya\", \"marker\": {\"color\": \"#FFA15A\"}, \"name\": \"Meghalaya\", \"offsetgroup\": \"Meghalaya\", \"orientation\": \"h\", \"showlegend\": true, \"textposition\": \"auto\", \"type\": \"bar\", \"x\": [1], \"xaxis\": \"x\", \"y\": [\"Meghalaya\"], \"yaxis\": \"y\"}, {\"alignmentgroup\": \"True\", \"hovertemplate\": \"states=%{y}<br>values=%{x}<extra></extra>\", \"legendgroup\": \"Arunachal Pradesh\", \"marker\": {\"color\": \"#19d3f3\"}, \"name\": \"Arunachal Pradesh\", \"offsetgroup\": \"Arunachal Pradesh\", \"orientation\": \"h\", \"showlegend\": true, \"textposition\": \"auto\", \"type\": \"bar\", \"x\": [1], \"xaxis\": \"x\", \"y\": [\"Arunachal Pradesh\"], \"yaxis\": \"y\"}, {\"alignmentgroup\": \"True\", \"hovertemplate\": \"states=%{y}<br>values=%{x}<extra></extra>\", \"legendgroup\": \"Sikkim\", \"marker\": {\"color\": \"#FF6692\"}, \"name\": \"Sikkim\", \"offsetgroup\": \"Sikkim\", \"orientation\": \"h\", \"showlegend\": true, \"textposition\": \"auto\", \"type\": \"bar\", \"x\": [1], \"xaxis\": \"x\", \"y\": [\"Sikkim\"], \"yaxis\": \"y\"}, {\"alignmentgroup\": \"True\", \"hovertemplate\": \"states=%{y}<br>values=%{x}<extra></extra>\", \"legendgroup\": \"Dadra and Nagar Haveli and Daman and Diu\", \"marker\": {\"color\": \"#B6E880\"}, \"name\": \"Dadra and Nagar Haveli and Daman and Diu\", \"offsetgroup\": \"Dadra and Nagar Haveli and Daman and Diu\", \"orientation\": \"h\", \"showlegend\": true, \"textposition\": \"auto\", \"type\": \"bar\", \"x\": [1], \"xaxis\": \"x\", \"y\": [\"Dadra and Nagar Haveli and Daman and Diu\"], \"yaxis\": \"y\"}, {\"alignmentgroup\": \"True\", \"hovertemplate\": \"states=%{y}<br>values=%{x}<extra></extra>\", \"legendgroup\": \"Andaman and Nicobar Islands\", \"marker\": {\"color\": \"#FF97FF\"}, \"name\": \"Andaman and Nicobar Islands\", \"offsetgroup\": \"Andaman and Nicobar Islands\", \"orientation\": \"h\", \"showlegend\": true, \"textposition\": \"auto\", \"type\": \"bar\", \"x\": [1], \"xaxis\": \"x\", \"y\": [\"Andaman and Nicobar Islands\"], \"yaxis\": \"y\"}, {\"alignmentgroup\": \"True\", \"hovertemplate\": \"states=%{y}<br>values=%{x}<extra></extra>\", \"legendgroup\": \"Goa\", \"marker\": {\"color\": \"#FECB52\"}, \"name\": \"Goa\", \"offsetgroup\": \"Goa\", \"orientation\": \"h\", \"showlegend\": true, \"textposition\": \"auto\", \"type\": \"bar\", \"x\": [1], \"xaxis\": \"x\", \"y\": [\"Goa\"], \"yaxis\": \"y\"}, {\"alignmentgroup\": \"True\", \"hovertemplate\": \"states=%{y}<br>values=%{x}<extra></extra>\", \"legendgroup\": \"Mizoram\", \"marker\": {\"color\": \"#636efa\"}, \"name\": \"Mizoram\", \"offsetgroup\": \"Mizoram\", \"orientation\": \"h\", \"showlegend\": true, \"textposition\": \"auto\", \"type\": \"bar\", \"x\": [1], \"xaxis\": \"x\", \"y\": [\"Mizoram\"], \"yaxis\": \"y\"}, {\"alignmentgroup\": \"True\", \"hovertemplate\": \"states=%{y}<br>values=%{x}<extra></extra>\", \"legendgroup\": \"Tripura\", \"marker\": {\"color\": \"#EF553B\"}, \"name\": \"Tripura\", \"offsetgroup\": \"Tripura\", \"orientation\": \"h\", \"showlegend\": true, \"textposition\": \"auto\", \"type\": \"bar\", \"x\": [1], \"xaxis\": \"x\", \"y\": [\"Tripura\"], \"yaxis\": \"y\"}, {\"alignmentgroup\": \"True\", \"hovertemplate\": \"states=%{y}<br>values=%{x}<extra></extra>\", \"legendgroup\": \"Puducherry\", \"marker\": {\"color\": \"#00cc96\"}, \"name\": \"Puducherry\", \"offsetgroup\": \"Puducherry\", \"orientation\": \"h\", \"showlegend\": true, \"textposition\": \"auto\", \"type\": \"bar\", \"x\": [1], \"xaxis\": \"x\", \"y\": [\"Puducherry\"], \"yaxis\": \"y\"}, {\"alignmentgroup\": \"True\", \"hovertemplate\": \"states=%{y}<br>values=%{x}<extra></extra>\", \"legendgroup\": \"Ladakh\", \"marker\": {\"color\": \"#ab63fa\"}, \"name\": \"Ladakh\", \"offsetgroup\": \"Ladakh\", \"orientation\": \"h\", \"showlegend\": true, \"textposition\": \"auto\", \"type\": \"bar\", \"x\": [1], \"xaxis\": \"x\", \"y\": [\"Ladakh\"], \"yaxis\": \"y\"}],\n",
       "                        {\"barmode\": \"relative\", \"height\": 1000, \"legend\": {\"title\": {\"text\": \"states\"}, \"tracegroupgap\": 0}, \"template\": {\"data\": {\"bar\": [{\"error_x\": {\"color\": \"#2a3f5f\"}, \"error_y\": {\"color\": \"#2a3f5f\"}, \"marker\": {\"line\": {\"color\": \"#E5ECF6\", \"width\": 0.5}}, \"type\": \"bar\"}], \"barpolar\": [{\"marker\": {\"line\": {\"color\": \"#E5ECF6\", \"width\": 0.5}}, \"type\": \"barpolar\"}], \"carpet\": [{\"aaxis\": {\"endlinecolor\": \"#2a3f5f\", \"gridcolor\": \"white\", \"linecolor\": \"white\", \"minorgridcolor\": \"white\", \"startlinecolor\": \"#2a3f5f\"}, \"baxis\": {\"endlinecolor\": \"#2a3f5f\", \"gridcolor\": \"white\", \"linecolor\": \"white\", \"minorgridcolor\": \"white\", \"startlinecolor\": \"#2a3f5f\"}, \"type\": \"carpet\"}], \"choropleth\": [{\"colorbar\": {\"outlinewidth\": 0, \"ticks\": \"\"}, \"type\": \"choropleth\"}], \"contour\": [{\"colorbar\": {\"outlinewidth\": 0, \"ticks\": \"\"}, \"colorscale\": [[0.0, \"#0d0887\"], [0.1111111111111111, \"#46039f\"], [0.2222222222222222, \"#7201a8\"], [0.3333333333333333, \"#9c179e\"], [0.4444444444444444, \"#bd3786\"], [0.5555555555555556, \"#d8576b\"], [0.6666666666666666, \"#ed7953\"], [0.7777777777777778, \"#fb9f3a\"], [0.8888888888888888, \"#fdca26\"], [1.0, \"#f0f921\"]], \"type\": \"contour\"}], \"contourcarpet\": [{\"colorbar\": {\"outlinewidth\": 0, \"ticks\": \"\"}, \"type\": \"contourcarpet\"}], \"heatmap\": [{\"colorbar\": {\"outlinewidth\": 0, \"ticks\": \"\"}, \"colorscale\": [[0.0, \"#0d0887\"], [0.1111111111111111, \"#46039f\"], [0.2222222222222222, \"#7201a8\"], [0.3333333333333333, \"#9c179e\"], [0.4444444444444444, \"#bd3786\"], [0.5555555555555556, \"#d8576b\"], [0.6666666666666666, \"#ed7953\"], [0.7777777777777778, \"#fb9f3a\"], [0.8888888888888888, \"#fdca26\"], [1.0, \"#f0f921\"]], \"type\": \"heatmap\"}], \"heatmapgl\": [{\"colorbar\": {\"outlinewidth\": 0, \"ticks\": \"\"}, \"colorscale\": [[0.0, \"#0d0887\"], [0.1111111111111111, \"#46039f\"], [0.2222222222222222, \"#7201a8\"], [0.3333333333333333, \"#9c179e\"], [0.4444444444444444, \"#bd3786\"], [0.5555555555555556, \"#d8576b\"], [0.6666666666666666, \"#ed7953\"], [0.7777777777777778, \"#fb9f3a\"], [0.8888888888888888, \"#fdca26\"], [1.0, \"#f0f921\"]], \"type\": \"heatmapgl\"}], \"histogram\": [{\"marker\": {\"colorbar\": {\"outlinewidth\": 0, \"ticks\": \"\"}}, \"type\": \"histogram\"}], \"histogram2d\": [{\"colorbar\": {\"outlinewidth\": 0, \"ticks\": \"\"}, \"colorscale\": [[0.0, \"#0d0887\"], [0.1111111111111111, \"#46039f\"], [0.2222222222222222, \"#7201a8\"], [0.3333333333333333, \"#9c179e\"], [0.4444444444444444, \"#bd3786\"], [0.5555555555555556, \"#d8576b\"], [0.6666666666666666, \"#ed7953\"], [0.7777777777777778, \"#fb9f3a\"], [0.8888888888888888, \"#fdca26\"], [1.0, \"#f0f921\"]], \"type\": \"histogram2d\"}], \"histogram2dcontour\": [{\"colorbar\": {\"outlinewidth\": 0, \"ticks\": \"\"}, \"colorscale\": [[0.0, \"#0d0887\"], [0.1111111111111111, \"#46039f\"], [0.2222222222222222, \"#7201a8\"], [0.3333333333333333, \"#9c179e\"], [0.4444444444444444, \"#bd3786\"], [0.5555555555555556, \"#d8576b\"], [0.6666666666666666, \"#ed7953\"], [0.7777777777777778, \"#fb9f3a\"], [0.8888888888888888, \"#fdca26\"], [1.0, \"#f0f921\"]], \"type\": \"histogram2dcontour\"}], \"mesh3d\": [{\"colorbar\": {\"outlinewidth\": 0, \"ticks\": \"\"}, \"type\": \"mesh3d\"}], \"parcoords\": [{\"line\": {\"colorbar\": {\"outlinewidth\": 0, \"ticks\": \"\"}}, \"type\": \"parcoords\"}], \"pie\": [{\"automargin\": true, \"type\": \"pie\"}], \"scatter\": [{\"marker\": {\"colorbar\": {\"outlinewidth\": 0, \"ticks\": \"\"}}, \"type\": \"scatter\"}], \"scatter3d\": [{\"line\": {\"colorbar\": {\"outlinewidth\": 0, \"ticks\": \"\"}}, \"marker\": {\"colorbar\": {\"outlinewidth\": 0, \"ticks\": \"\"}}, \"type\": \"scatter3d\"}], \"scattercarpet\": [{\"marker\": {\"colorbar\": {\"outlinewidth\": 0, \"ticks\": \"\"}}, \"type\": \"scattercarpet\"}], \"scattergeo\": [{\"marker\": {\"colorbar\": {\"outlinewidth\": 0, \"ticks\": \"\"}}, \"type\": \"scattergeo\"}], \"scattergl\": [{\"marker\": {\"colorbar\": {\"outlinewidth\": 0, \"ticks\": \"\"}}, \"type\": \"scattergl\"}], \"scattermapbox\": [{\"marker\": {\"colorbar\": {\"outlinewidth\": 0, \"ticks\": \"\"}}, \"type\": \"scattermapbox\"}], \"scatterpolar\": [{\"marker\": {\"colorbar\": {\"outlinewidth\": 0, \"ticks\": \"\"}}, \"type\": \"scatterpolar\"}], \"scatterpolargl\": [{\"marker\": {\"colorbar\": {\"outlinewidth\": 0, \"ticks\": \"\"}}, \"type\": \"scatterpolargl\"}], \"scatterternary\": [{\"marker\": {\"colorbar\": {\"outlinewidth\": 0, \"ticks\": \"\"}}, \"type\": \"scatterternary\"}], \"surface\": [{\"colorbar\": {\"outlinewidth\": 0, \"ticks\": \"\"}, \"colorscale\": [[0.0, \"#0d0887\"], [0.1111111111111111, \"#46039f\"], [0.2222222222222222, \"#7201a8\"], [0.3333333333333333, \"#9c179e\"], [0.4444444444444444, \"#bd3786\"], [0.5555555555555556, \"#d8576b\"], [0.6666666666666666, \"#ed7953\"], [0.7777777777777778, \"#fb9f3a\"], [0.8888888888888888, \"#fdca26\"], [1.0, \"#f0f921\"]], \"type\": \"surface\"}], \"table\": [{\"cells\": {\"fill\": {\"color\": \"#EBF0F8\"}, \"line\": {\"color\": \"white\"}}, \"header\": {\"fill\": {\"color\": \"#C8D4E3\"}, \"line\": {\"color\": \"white\"}}, \"type\": \"table\"}]}, \"layout\": {\"annotationdefaults\": {\"arrowcolor\": \"#2a3f5f\", \"arrowhead\": 0, \"arrowwidth\": 1}, \"coloraxis\": {\"colorbar\": {\"outlinewidth\": 0, \"ticks\": \"\"}}, \"colorscale\": {\"diverging\": [[0, \"#8e0152\"], [0.1, \"#c51b7d\"], [0.2, \"#de77ae\"], [0.3, \"#f1b6da\"], [0.4, \"#fde0ef\"], [0.5, \"#f7f7f7\"], [0.6, \"#e6f5d0\"], [0.7, \"#b8e186\"], [0.8, \"#7fbc41\"], [0.9, \"#4d9221\"], [1, \"#276419\"]], \"sequential\": [[0.0, \"#0d0887\"], [0.1111111111111111, \"#46039f\"], [0.2222222222222222, \"#7201a8\"], [0.3333333333333333, \"#9c179e\"], [0.4444444444444444, \"#bd3786\"], [0.5555555555555556, \"#d8576b\"], [0.6666666666666666, \"#ed7953\"], [0.7777777777777778, \"#fb9f3a\"], [0.8888888888888888, \"#fdca26\"], [1.0, \"#f0f921\"]], \"sequentialminus\": [[0.0, \"#0d0887\"], [0.1111111111111111, \"#46039f\"], [0.2222222222222222, \"#7201a8\"], [0.3333333333333333, \"#9c179e\"], [0.4444444444444444, \"#bd3786\"], [0.5555555555555556, \"#d8576b\"], [0.6666666666666666, \"#ed7953\"], [0.7777777777777778, \"#fb9f3a\"], [0.8888888888888888, \"#fdca26\"], [1.0, \"#f0f921\"]]}, \"colorway\": [\"#636efa\", \"#EF553B\", \"#00cc96\", \"#ab63fa\", \"#FFA15A\", \"#19d3f3\", \"#FF6692\", \"#B6E880\", \"#FF97FF\", \"#FECB52\"], \"font\": {\"color\": \"#2a3f5f\"}, \"geo\": {\"bgcolor\": \"white\", \"lakecolor\": \"white\", \"landcolor\": \"#E5ECF6\", \"showlakes\": true, \"showland\": true, \"subunitcolor\": \"white\"}, \"hoverlabel\": {\"align\": \"left\"}, \"hovermode\": \"closest\", \"mapbox\": {\"style\": \"light\"}, \"paper_bgcolor\": \"white\", \"plot_bgcolor\": \"#E5ECF6\", \"polar\": {\"angularaxis\": {\"gridcolor\": \"white\", \"linecolor\": \"white\", \"ticks\": \"\"}, \"bgcolor\": \"#E5ECF6\", \"radialaxis\": {\"gridcolor\": \"white\", \"linecolor\": \"white\", \"ticks\": \"\"}}, \"scene\": {\"xaxis\": {\"backgroundcolor\": \"#E5ECF6\", \"gridcolor\": \"white\", \"gridwidth\": 2, \"linecolor\": \"white\", \"showbackground\": true, \"ticks\": \"\", \"zerolinecolor\": \"white\"}, \"yaxis\": {\"backgroundcolor\": \"#E5ECF6\", \"gridcolor\": \"white\", \"gridwidth\": 2, \"linecolor\": \"white\", \"showbackground\": true, \"ticks\": \"\", \"zerolinecolor\": \"white\"}, \"zaxis\": {\"backgroundcolor\": \"#E5ECF6\", \"gridcolor\": \"white\", \"gridwidth\": 2, \"linecolor\": \"white\", \"showbackground\": true, \"ticks\": \"\", \"zerolinecolor\": \"white\"}}, \"shapedefaults\": {\"line\": {\"color\": \"#2a3f5f\"}}, \"ternary\": {\"aaxis\": {\"gridcolor\": \"white\", \"linecolor\": \"white\", \"ticks\": \"\"}, \"baxis\": {\"gridcolor\": \"white\", \"linecolor\": \"white\", \"ticks\": \"\"}, \"bgcolor\": \"#E5ECF6\", \"caxis\": {\"gridcolor\": \"white\", \"linecolor\": \"white\", \"ticks\": \"\"}}, \"title\": {\"x\": 0.05}, \"xaxis\": {\"automargin\": true, \"gridcolor\": \"white\", \"linecolor\": \"white\", \"ticks\": \"\", \"title\": {\"standoff\": 15}, \"zerolinecolor\": \"white\", \"zerolinewidth\": 2}, \"yaxis\": {\"automargin\": true, \"gridcolor\": \"white\", \"linecolor\": \"white\", \"ticks\": \"\", \"title\": {\"standoff\": 15}, \"zerolinecolor\": \"white\", \"zerolinewidth\": 2}}}, \"title\": {\"text\": \"Statewise Labs\"}, \"xaxis\": {\"anchor\": \"y\", \"domain\": [0.0, 1.0], \"title\": {\"text\": \"values\"}}, \"yaxis\": {\"anchor\": \"x\", \"categoryarray\": [\"Ladakh\", \"Puducherry\", \"Tripura\", \"Mizoram\", \"Goa\", \"Andaman and Nicobar Islands\", \"Dadra and Nagar Haveli and Daman and Diu\", \"Sikkim\", \"Arunachal Pradesh\", \"Meghalaya\", \"Manipur\", \"Himachal Pradesh\", \"Uttarakhand\", \"Chhattisgarh\", \"Jharkhand\", \"Chandigarh\", \"Jammu and Kashmir\", \"Punjab\", \"Assam\", \"Bihar\", \"Andhra Pradesh\", \"Odisha\", \"Rajasthan\", \"Madhya Pradesh\", \"Haryana\", \"Kerala\", \"West Bengal\", \"Gujarat\", \"Karnataka\", \"Uttar Pradesh\", \"Delhi\", \"Telangana\", \"Tamil Nadu\", \"Maharashtra\"], \"categoryorder\": \"array\", \"domain\": [0.0, 1.0], \"title\": {\"text\": \"states\"}}},\n",
       "                        {\"responsive\": true}\n",
       "                    ).then(function(){\n",
       "                            \n",
       "var gd = document.getElementById('8efaf6f3-bc43-4fd0-8951-2309650ad726');\n",
       "var x = new MutationObserver(function (mutations, observer) {{\n",
       "        var display = window.getComputedStyle(gd).display;\n",
       "        if (!display || display === 'none') {{\n",
       "            console.log([gd, 'removed!']);\n",
       "            Plotly.purge(gd);\n",
       "            observer.disconnect();\n",
       "        }}\n",
       "}});\n",
       "\n",
       "// Listen for the removal of the full notebook cells\n",
       "var notebookContainer = gd.closest('#notebook-container');\n",
       "if (notebookContainer) {{\n",
       "    x.observe(notebookContainer, {childList: true});\n",
       "}}\n",
       "\n",
       "// Listen for the clearing of the current output cell\n",
       "var outputEl = gd.closest('.output');\n",
       "if (outputEl) {{\n",
       "    x.observe(outputEl, {childList: true});\n",
       "}}\n",
       "\n",
       "                        })\n",
       "                };\n",
       "                });\n",
       "            </script>\n",
       "        </div>"
      ]
     },
     "metadata": {},
     "output_type": "display_data"
    }
   ],
   "source": [
    "values = list(ICMR_labs['state'].value_counts())\n",
    "states = list(ICMR_labs['state'].value_counts().index)\n",
    "labs = pd.DataFrame(list(zip(values, states)), \n",
    "               columns =['values', 'states'])\n",
    "fig = px.bar(labs, \n",
    "             x=\"values\",\n",
    "             y=\"states\", \n",
    "             orientation='h',\n",
    "             height=1000,\n",
    "             title='Statewise Labs',\n",
    "            color='states')\n",
    "fig.show()"
   ]
  },
  {
   "cell_type": "markdown",
   "metadata": {},
   "source": [
    "# Predictions for India"
   ]
  },
  {
   "cell_type": "code",
   "execution_count": 46,
   "metadata": {},
   "outputs": [
    {
     "data": {
      "image/png": "[encoded data removed]",
      "text/plain": [
       "<Figure size 576x576 with 1 Axes>"
      ]
     },
     "metadata": {
      "needs_background": "light"
     },
     "output_type": "display_data"
    }
   ],
   "source": [
    "#Current number of confirmed cases\n",
    "ax = num_plot_india['Confirmed'].plot(title=\"Confirmed Cases in India\",figsize=(8,8));\n",
    "ax.set(xlabel=\"Date\", ylabel=\"Confirmed Cases\");"
   ]
  },
  {
   "cell_type": "markdown",
   "metadata": {},
   "source": [
    "**Making Predictions for India based on the current scenario **"
   ]
  },
  {
   "cell_type": "markdown",
   "metadata": {},
   "source": [
    "**Using Prophet**"
   ]
  },
  {
   "cell_type": "code",
   "execution_count": 47,
   "metadata": {},
   "outputs": [],
   "source": [
    "train = num_plot_india.iloc[:-3,:2]\n",
    "test = num_plot_india.iloc[-3:,:2]"
   ]
  },
  {
   "cell_type": "code",
   "execution_count": 48,
   "metadata": {},
   "outputs": [],
   "source": [
    "train.rename(columns={\"date\":\"ds\",\"Confirmed\":\"y\"},inplace=True)\n",
    "test.rename(columns={\"date\":\"ds\",\"Confirmed\":\"y\"},inplace=True)\n",
    "test = test.set_index(\"ds\")\n",
    "test = test['y']"
   ]
  },
  {
   "cell_type": "code",
   "execution_count": 52,
   "metadata": {
    "collapsed": true,
    "jupyter": {
     "outputs_hidden": true
    }
   },
   "outputs": [
    {
     "name": "stdout",
     "output_type": "stream",
     "text": [
      "Collecting package metadata (current_repodata.json): done\n",
      "Solving environment: done\n",
      "\n",
      "## Package Plan ##\n",
      "\n",
      "  environment location: /home/jupyterlab/conda/envs/python\n",
      "\n",
      "  added / updated specs:\n",
      "    - fbprophet\n",
      "\n",
      "\n",
      "The following packages will be downloaded:\n",
      "\n",
      "    package                    |            build\n",
      "    ---------------------------|-----------------\n",
      "    arviz-0.7.0                |             py_0         1.3 MB  conda-forge\n",
      "    convertdate-2.2.1          |     pyh9f0ad1d_0          33 KB  conda-forge\n",
      "    curl-7.69.1                |       h33f0ec9_0         137 KB  conda-forge\n",
      "    cython-0.29.17             |   py36h831f99a_0         2.2 MB  conda-forge\n",
      "    ephem-3.7.7.1              |   py36h516909a_0         722 KB  conda-forge\n",
      "    fbprophet-0.6              |   py36he1b5a44_0         642 KB  conda-forge\n",
      "    hdf4-4.2.13                |    hf30be14_1003         964 KB  conda-forge\n",
      "    holidays-0.10.1            |             py_0          56 KB  conda-forge\n",
      "    libnetcdf-4.6.1            |       h10edf3e_2         833 KB\n",
      "    lunarcalendar-0.0.9        |             py_0          20 KB  conda-forge\n",
      "    netcdf4-1.3.1              |   py36h62672b6_4         2.9 MB  conda-forge\n",
      "    pandas-1.0.3               |   py36h830a2c2_1        11.1 MB  conda-forge\n",
      "    pymeeus-0.3.7              |     pyh9f0ad1d_0         515 KB  conda-forge\n",
      "    pystan-2.19.1.1            |   py36hb3f55d8_1        17.2 MB  conda-forge\n",
      "    scipy-1.4.1                |   py36h2d22cac_3        18.9 MB  conda-forge\n",
      "    xarray-0.15.1              |             py_0         487 KB  conda-forge\n",
      "    ------------------------------------------------------------\n",
      "                                           Total:        58.0 MB\n",
      "\n",
      "The following NEW packages will be INSTALLED:\n",
      "\n",
      "  arviz              conda-forge/noarch::arviz-0.7.0-py_0\n",
      "  convertdate        conda-forge/noarch::convertdate-2.2.1-pyh9f0ad1d_0\n",
      "  curl               conda-forge/linux-64::curl-7.69.1-h33f0ec9_0\n",
      "  cython             conda-forge/linux-64::cython-0.29.17-py36h831f99a_0\n",
      "  ephem              conda-forge/linux-64::ephem-3.7.7.1-py36h516909a_0\n",
      "  fbprophet          conda-forge/linux-64::fbprophet-0.6-py36he1b5a44_0\n",
      "  hdf4               conda-forge/linux-64::hdf4-4.2.13-hf30be14_1003\n",
      "  holidays           conda-forge/noarch::holidays-0.10.1-py_0\n",
      "  krb5               conda-forge/linux-64::krb5-1.17.1-h2fd8d38_0\n",
      "  libcurl            conda-forge/linux-64::libcurl-7.69.1-hf7181ac_0\n",
      "  libedit            conda-forge/linux-64::libedit-3.1.20170329-hf8c457e_1001\n",
      "  libnetcdf          pkgs/main/linux-64::libnetcdf-4.6.1-h10edf3e_2\n",
      "  libssh2            conda-forge/linux-64::libssh2-1.8.2-h22169c7_2\n",
      "  lunarcalendar      conda-forge/noarch::lunarcalendar-0.0.9-py_0\n",
      "  netcdf4            conda-forge/linux-64::netcdf4-1.3.1-py36h62672b6_4\n",
      "  packaging          conda-forge/noarch::packaging-20.1-py_0\n",
      "  pandas             conda-forge/linux-64::pandas-1.0.3-py36h830a2c2_1\n",
      "  pymeeus            conda-forge/noarch::pymeeus-0.3.7-pyh9f0ad1d_0\n",
      "  pystan             conda-forge/linux-64::pystan-2.19.1.1-py36hb3f55d8_1\n",
      "  pytz               conda-forge/noarch::pytz-2020.1-pyh9f0ad1d_0\n",
      "  scipy              conda-forge/linux-64::scipy-1.4.1-py36h2d22cac_3\n",
      "  xarray             conda-forge/noarch::xarray-0.15.1-py_0\n",
      "\n",
      "The following packages will be SUPERSEDED by a higher-priority channel:\n",
      "\n",
      "  certifi              pkgs/main::certifi-2020.4.5.1-py36_0 --> conda-forge::certifi-2020.4.5.1-py36h9f0ad1d_0\n",
      "\n",
      "\n",
      "\n",
      "Downloading and Extracting Packages\n",
      "hdf4-4.2.13          | 964 KB    | ##################################### | 100% \n",
      "lunarcalendar-0.0.9  | 20 KB     | ##################################### | 100% \n",
      "pystan-2.19.1.1      | 17.2 MB   | ##################################### | 100% \n",
      "curl-7.69.1          | 137 KB    | ##################################### | 100% \n",
      "scipy-1.4.1          | 18.9 MB   | ##################################### | 100% \n",
      "pymeeus-0.3.7        | 515 KB    | ##################################### | 100% \n",
      "fbprophet-0.6        | 642 KB    | ##################################### | 100% \n",
      "netcdf4-1.3.1        | 2.9 MB    | ##################################### | 100% \n",
      "holidays-0.10.1      | 56 KB     | ##################################### | 100% \n",
      "xarray-0.15.1        | 487 KB    | ##################################### | 100% \n",
      "ephem-3.7.7.1        | 722 KB    | ##################################### | 100% \n",
      "cython-0.29.17       | 2.2 MB    | ##################################### | 100% \n",
      "pandas-1.0.3         | 11.1 MB   | ##################################### | 100% \n",
      "libnetcdf-4.6.1      | 833 KB    | ##################################### | 100% \n",
      "convertdate-2.2.1    | 33 KB     | ##################################### | 100% \n",
      "arviz-0.7.0          | 1.3 MB    | ##################################### | 100% \n",
      "Preparing transaction: done\n",
      "Verifying transaction: done\n",
      "Executing transaction: done\n",
      "\n",
      "Note: you may need to restart the kernel to use updated packages.\n"
     ]
    }
   ],
   "source": [
    "conda install -c conda-forge fbprophet"
   ]
  },
  {
   "cell_type": "code",
   "execution_count": 53,
   "metadata": {},
   "outputs": [
    {
     "name": "stderr",
     "output_type": "stream",
     "text": [
      "INFO:fbprophet:Disabling yearly seasonality. Run prophet with yearly_seasonality=True to override this.\n",
      "INFO:fbprophet:Disabling daily seasonality. Run prophet with daily_seasonality=True to override this.\n"
     ]
    },
    {
     "data": {
      "text/plain": [
       "<fbprophet.forecaster.Prophet at 0x7f422ae75dd8>"
      ]
     },
     "execution_count": 53,
     "metadata": {},
     "output_type": "execute_result"
    }
   ],
   "source": [
    "from fbprophet import Prophet\n",
    "pd.plotting.register_matplotlib_converters()\n",
    "model = Prophet(changepoint_prior_scale=0.4, changepoints=['2020-04-03','2020-04-30','2020-05-05','2020-05-06'])\n",
    "model.fit(train)"
   ]
  },
  {
   "cell_type": "markdown",
   "metadata": {},
   "source": [
    "**We can see that by 17th May (End of Lockdown 3) more than 91.4k confirmed cases are predicted as per this model with upper limit of around 93.2k. As more data comes in these values will keep changing**"
   ]
  },
  {
   "cell_type": "code",
   "execution_count": 54,
   "metadata": {},
   "outputs": [
    {
     "data": {
      "text/plain": [
       "<matplotlib.axes._subplots.AxesSubplot at 0x7f41db754c18>"
      ]
     },
     "execution_count": 54,
     "metadata": {},
     "output_type": "execute_result"
    },
    {
     "data": {
      "image/png": "[encoded data removed]",
      "text/plain": [
       "<Figure size 720x720 with 1 Axes>"
      ]
     },
     "metadata": {
      "needs_background": "light"
     },
     "output_type": "display_data"
    }
   ],
   "source": [
    "future_dates = model.make_future_dataframe(periods=20)\n",
    "forecast =  model.predict(future_dates)\n",
    "ax = forecast.plot(x='ds',y='yhat',label='Predicted Confirmed Case',legend=True,figsize=(10,10))\n",
    "test.plot(y='y',label='Actual Confirmed Cases',legend=True,ax=ax)"
   ]
  },
  {
   "cell_type": "markdown",
   "metadata": {},
   "source": [
    "**Accuracy Metrics for Prophet**"
   ]
  },
  {
   "cell_type": "code",
   "execution_count": 55,
   "metadata": {},
   "outputs": [
    {
     "name": "stderr",
     "output_type": "stream",
     "text": [
      "INFO:fbprophet:Making 2 forecasts with cutoffs between 2020-04-15 00:00:00 and 2020-05-05 00:00:00\n"
     ]
    },
    {
     "data": {
      "text/html": [
       "<div>\n",
       "<style scoped>\n",
       "    .dataframe tbody tr th:only-of-type {\n",
       "        vertical-align: middle;\n",
       "    }\n",
       "\n",
       "    .dataframe tbody tr th {\n",
       "        vertical-align: top;\n",
       "    }\n",
       "\n",
       "    .dataframe thead th {\n",
       "        text-align: right;\n",
       "    }\n",
       "</style>\n",
       "<table border=\"1\" class=\"dataframe\">\n",
       "  <thead>\n",
       "    <tr style=\"text-align: right;\">\n",
       "      <th></th>\n",
       "      <th>horizon</th>\n",
       "      <th>mse</th>\n",
       "      <th>rmse</th>\n",
       "      <th>mae</th>\n",
       "      <th>mape</th>\n",
       "      <th>mdape</th>\n",
       "      <th>coverage</th>\n",
       "    </tr>\n",
       "  </thead>\n",
       "  <tbody>\n",
       "    <tr>\n",
       "      <th>0</th>\n",
       "      <td>1 days</td>\n",
       "      <td>21449.943410</td>\n",
       "      <td>146.457992</td>\n",
       "      <td>127.809290</td>\n",
       "      <td>0.003977</td>\n",
       "      <td>0.003977</td>\n",
       "      <td>1.0</td>\n",
       "    </tr>\n",
       "    <tr>\n",
       "      <th>1</th>\n",
       "      <td>2 days</td>\n",
       "      <td>118651.945610</td>\n",
       "      <td>344.458917</td>\n",
       "      <td>263.848391</td>\n",
       "      <td>0.005783</td>\n",
       "      <td>0.005783</td>\n",
       "      <td>1.0</td>\n",
       "    </tr>\n",
       "    <tr>\n",
       "      <th>2</th>\n",
       "      <td>3 days</td>\n",
       "      <td>313255.206503</td>\n",
       "      <td>559.692064</td>\n",
       "      <td>558.283048</td>\n",
       "      <td>0.021501</td>\n",
       "      <td>0.021501</td>\n",
       "      <td>1.0</td>\n",
       "    </tr>\n",
       "  </tbody>\n",
       "</table>\n",
       "</div>"
      ],
      "text/plain": [
       "  horizon            mse        rmse         mae      mape     mdape  coverage\n",
       "0  1 days   21449.943410  146.457992  127.809290  0.003977  0.003977       1.0\n",
       "1  2 days  118651.945610  344.458917  263.848391  0.005783  0.005783       1.0\n",
       "2  3 days  313255.206503  559.692064  558.283048  0.021501  0.021501       1.0"
      ]
     },
     "execution_count": 55,
     "metadata": {},
     "output_type": "execute_result"
    }
   ],
   "source": [
    "from fbprophet.diagnostics import performance_metrics\n",
    "from fbprophet.diagnostics import cross_validation\n",
    "df_cv = cross_validation(model, initial='60 days', period='20 days', horizon = '3 days')\n",
    "df_cv.head()\n",
    "df_p = performance_metrics(df_cv)\n",
    "df_p.head()\n"
   ]
  },
  {
   "cell_type": "code",
   "execution_count": 56,
   "metadata": {},
   "outputs": [
    {
     "data": {
      "text/html": [
       "<div>\n",
       "<style scoped>\n",
       "    .dataframe tbody tr th:only-of-type {\n",
       "        vertical-align: middle;\n",
       "    }\n",
       "\n",
       "    .dataframe tbody tr th {\n",
       "        vertical-align: top;\n",
       "    }\n",
       "\n",
       "    .dataframe thead th {\n",
       "        text-align: right;\n",
       "    }\n",
       "</style>\n",
       "<table border=\"1\" class=\"dataframe\">\n",
       "  <thead>\n",
       "    <tr style=\"text-align: right;\">\n",
       "      <th></th>\n",
       "      <th>ds</th>\n",
       "      <th>trend</th>\n",
       "      <th>yhat_lower</th>\n",
       "      <th>yhat_upper</th>\n",
       "      <th>trend_lower</th>\n",
       "      <th>trend_upper</th>\n",
       "      <th>additive_terms</th>\n",
       "      <th>additive_terms_lower</th>\n",
       "      <th>additive_terms_upper</th>\n",
       "      <th>weekly</th>\n",
       "      <th>weekly_lower</th>\n",
       "      <th>weekly_upper</th>\n",
       "      <th>multiplicative_terms</th>\n",
       "      <th>multiplicative_terms_lower</th>\n",
       "      <th>multiplicative_terms_upper</th>\n",
       "      <th>yhat</th>\n",
       "    </tr>\n",
       "  </thead>\n",
       "  <tbody>\n",
       "    <tr>\n",
       "      <th>100</th>\n",
       "      <td>2020-05-09</td>\n",
       "      <td>63402.628774</td>\n",
       "      <td>62211.971996</td>\n",
       "      <td>64604.173009</td>\n",
       "      <td>63402.628774</td>\n",
       "      <td>63402.628774</td>\n",
       "      <td>-41.777909</td>\n",
       "      <td>-41.777909</td>\n",
       "      <td>-41.777909</td>\n",
       "      <td>-41.777909</td>\n",
       "      <td>-41.777909</td>\n",
       "      <td>-41.777909</td>\n",
       "      <td>0.0</td>\n",
       "      <td>0.0</td>\n",
       "      <td>0.0</td>\n",
       "      <td>63360.850865</td>\n",
       "    </tr>\n",
       "    <tr>\n",
       "      <th>101</th>\n",
       "      <td>2020-05-10</td>\n",
       "      <td>66900.755531</td>\n",
       "      <td>65554.045553</td>\n",
       "      <td>68021.545441</td>\n",
       "      <td>66900.755531</td>\n",
       "      <td>66900.755531</td>\n",
       "      <td>-81.138355</td>\n",
       "      <td>-81.138355</td>\n",
       "      <td>-81.138355</td>\n",
       "      <td>-81.138355</td>\n",
       "      <td>-81.138355</td>\n",
       "      <td>-81.138355</td>\n",
       "      <td>0.0</td>\n",
       "      <td>0.0</td>\n",
       "      <td>0.0</td>\n",
       "      <td>66819.617176</td>\n",
       "    </tr>\n",
       "    <tr>\n",
       "      <th>102</th>\n",
       "      <td>2020-05-11</td>\n",
       "      <td>70398.882287</td>\n",
       "      <td>69140.553321</td>\n",
       "      <td>71644.788615</td>\n",
       "      <td>70398.882287</td>\n",
       "      <td>70398.882287</td>\n",
       "      <td>-12.854920</td>\n",
       "      <td>-12.854920</td>\n",
       "      <td>-12.854920</td>\n",
       "      <td>-12.854920</td>\n",
       "      <td>-12.854920</td>\n",
       "      <td>-12.854920</td>\n",
       "      <td>0.0</td>\n",
       "      <td>0.0</td>\n",
       "      <td>0.0</td>\n",
       "      <td>70386.027367</td>\n",
       "    </tr>\n",
       "    <tr>\n",
       "      <th>103</th>\n",
       "      <td>2020-05-12</td>\n",
       "      <td>73897.009044</td>\n",
       "      <td>72436.677633</td>\n",
       "      <td>75296.318109</td>\n",
       "      <td>73897.009044</td>\n",
       "      <td>73897.009044</td>\n",
       "      <td>-18.500760</td>\n",
       "      <td>-18.500760</td>\n",
       "      <td>-18.500760</td>\n",
       "      <td>-18.500760</td>\n",
       "      <td>-18.500760</td>\n",
       "      <td>-18.500760</td>\n",
       "      <td>0.0</td>\n",
       "      <td>0.0</td>\n",
       "      <td>0.0</td>\n",
       "      <td>73878.508284</td>\n",
       "    </tr>\n",
       "    <tr>\n",
       "      <th>104</th>\n",
       "      <td>2020-05-13</td>\n",
       "      <td>77395.135800</td>\n",
       "      <td>76015.949324</td>\n",
       "      <td>78805.121667</td>\n",
       "      <td>77395.135800</td>\n",
       "      <td>77395.135800</td>\n",
       "      <td>22.783379</td>\n",
       "      <td>22.783379</td>\n",
       "      <td>22.783379</td>\n",
       "      <td>22.783379</td>\n",
       "      <td>22.783379</td>\n",
       "      <td>22.783379</td>\n",
       "      <td>0.0</td>\n",
       "      <td>0.0</td>\n",
       "      <td>0.0</td>\n",
       "      <td>77417.919179</td>\n",
       "    </tr>\n",
       "    <tr>\n",
       "      <th>105</th>\n",
       "      <td>2020-05-14</td>\n",
       "      <td>80893.262556</td>\n",
       "      <td>79586.958027</td>\n",
       "      <td>82331.536253</td>\n",
       "      <td>80739.877615</td>\n",
       "      <td>80954.265977</td>\n",
       "      <td>110.797114</td>\n",
       "      <td>110.797114</td>\n",
       "      <td>110.797114</td>\n",
       "      <td>110.797114</td>\n",
       "      <td>110.797114</td>\n",
       "      <td>110.797114</td>\n",
       "      <td>0.0</td>\n",
       "      <td>0.0</td>\n",
       "      <td>0.0</td>\n",
       "      <td>81004.059670</td>\n",
       "    </tr>\n",
       "    <tr>\n",
       "      <th>106</th>\n",
       "      <td>2020-05-15</td>\n",
       "      <td>84391.389313</td>\n",
       "      <td>82814.949268</td>\n",
       "      <td>85906.917504</td>\n",
       "      <td>83978.762322</td>\n",
       "      <td>84688.261670</td>\n",
       "      <td>20.691451</td>\n",
       "      <td>20.691451</td>\n",
       "      <td>20.691451</td>\n",
       "      <td>20.691451</td>\n",
       "      <td>20.691451</td>\n",
       "      <td>20.691451</td>\n",
       "      <td>0.0</td>\n",
       "      <td>0.0</td>\n",
       "      <td>0.0</td>\n",
       "      <td>84412.080764</td>\n",
       "    </tr>\n",
       "    <tr>\n",
       "      <th>107</th>\n",
       "      <td>2020-05-16</td>\n",
       "      <td>87889.516069</td>\n",
       "      <td>86182.209699</td>\n",
       "      <td>89509.387654</td>\n",
       "      <td>87040.452441</td>\n",
       "      <td>88704.455937</td>\n",
       "      <td>-41.777909</td>\n",
       "      <td>-41.777909</td>\n",
       "      <td>-41.777909</td>\n",
       "      <td>-41.777909</td>\n",
       "      <td>-41.777909</td>\n",
       "      <td>-41.777909</td>\n",
       "      <td>0.0</td>\n",
       "      <td>0.0</td>\n",
       "      <td>0.0</td>\n",
       "      <td>87847.738160</td>\n",
       "    </tr>\n",
       "    <tr>\n",
       "      <th>108</th>\n",
       "      <td>2020-05-17</td>\n",
       "      <td>91387.642826</td>\n",
       "      <td>89428.482937</td>\n",
       "      <td>93143.384613</td>\n",
       "      <td>90196.430950</td>\n",
       "      <td>92893.032270</td>\n",
       "      <td>-81.138355</td>\n",
       "      <td>-81.138355</td>\n",
       "      <td>-81.138355</td>\n",
       "      <td>-81.138355</td>\n",
       "      <td>-81.138355</td>\n",
       "      <td>-81.138355</td>\n",
       "      <td>0.0</td>\n",
       "      <td>0.0</td>\n",
       "      <td>0.0</td>\n",
       "      <td>91306.504470</td>\n",
       "    </tr>\n",
       "    <tr>\n",
       "      <th>109</th>\n",
       "      <td>2020-05-18</td>\n",
       "      <td>94885.769582</td>\n",
       "      <td>92824.082265</td>\n",
       "      <td>97366.856059</td>\n",
       "      <td>93241.288266</td>\n",
       "      <td>97007.534663</td>\n",
       "      <td>-12.854920</td>\n",
       "      <td>-12.854920</td>\n",
       "      <td>-12.854920</td>\n",
       "      <td>-12.854920</td>\n",
       "      <td>-12.854920</td>\n",
       "      <td>-12.854920</td>\n",
       "      <td>0.0</td>\n",
       "      <td>0.0</td>\n",
       "      <td>0.0</td>\n",
       "      <td>94872.914662</td>\n",
       "    </tr>\n",
       "    <tr>\n",
       "      <th>110</th>\n",
       "      <td>2020-05-19</td>\n",
       "      <td>98383.896338</td>\n",
       "      <td>95868.903030</td>\n",
       "      <td>100916.648140</td>\n",
       "      <td>96130.933422</td>\n",
       "      <td>101130.049849</td>\n",
       "      <td>-18.500760</td>\n",
       "      <td>-18.500760</td>\n",
       "      <td>-18.500760</td>\n",
       "      <td>-18.500760</td>\n",
       "      <td>-18.500760</td>\n",
       "      <td>-18.500760</td>\n",
       "      <td>0.0</td>\n",
       "      <td>0.0</td>\n",
       "      <td>0.0</td>\n",
       "      <td>98365.395579</td>\n",
       "    </tr>\n",
       "    <tr>\n",
       "      <th>111</th>\n",
       "      <td>2020-05-20</td>\n",
       "      <td>101882.023095</td>\n",
       "      <td>98879.376438</td>\n",
       "      <td>105143.323550</td>\n",
       "      <td>99093.454387</td>\n",
       "      <td>105386.960432</td>\n",
       "      <td>22.783379</td>\n",
       "      <td>22.783379</td>\n",
       "      <td>22.783379</td>\n",
       "      <td>22.783379</td>\n",
       "      <td>22.783379</td>\n",
       "      <td>22.783379</td>\n",
       "      <td>0.0</td>\n",
       "      <td>0.0</td>\n",
       "      <td>0.0</td>\n",
       "      <td>101904.806474</td>\n",
       "    </tr>\n",
       "    <tr>\n",
       "      <th>112</th>\n",
       "      <td>2020-05-21</td>\n",
       "      <td>105380.149851</td>\n",
       "      <td>101964.503191</td>\n",
       "      <td>109661.110162</td>\n",
       "      <td>101792.399604</td>\n",
       "      <td>109510.722360</td>\n",
       "      <td>110.797114</td>\n",
       "      <td>110.797114</td>\n",
       "      <td>110.797114</td>\n",
       "      <td>110.797114</td>\n",
       "      <td>110.797114</td>\n",
       "      <td>110.797114</td>\n",
       "      <td>0.0</td>\n",
       "      <td>0.0</td>\n",
       "      <td>0.0</td>\n",
       "      <td>105490.946965</td>\n",
       "    </tr>\n",
       "    <tr>\n",
       "      <th>113</th>\n",
       "      <td>2020-05-22</td>\n",
       "      <td>108878.276607</td>\n",
       "      <td>104460.980469</td>\n",
       "      <td>113789.119677</td>\n",
       "      <td>104483.032510</td>\n",
       "      <td>113695.314068</td>\n",
       "      <td>20.691451</td>\n",
       "      <td>20.691451</td>\n",
       "      <td>20.691451</td>\n",
       "      <td>20.691451</td>\n",
       "      <td>20.691451</td>\n",
       "      <td>20.691451</td>\n",
       "      <td>0.0</td>\n",
       "      <td>0.0</td>\n",
       "      <td>0.0</td>\n",
       "      <td>108898.968058</td>\n",
       "    </tr>\n",
       "    <tr>\n",
       "      <th>114</th>\n",
       "      <td>2020-05-23</td>\n",
       "      <td>112376.403364</td>\n",
       "      <td>106962.402202</td>\n",
       "      <td>118161.465992</td>\n",
       "      <td>107121.781147</td>\n",
       "      <td>118211.417141</td>\n",
       "      <td>-41.777909</td>\n",
       "      <td>-41.777909</td>\n",
       "      <td>-41.777909</td>\n",
       "      <td>-41.777909</td>\n",
       "      <td>-41.777909</td>\n",
       "      <td>-41.777909</td>\n",
       "      <td>0.0</td>\n",
       "      <td>0.0</td>\n",
       "      <td>0.0</td>\n",
       "      <td>112334.625455</td>\n",
       "    </tr>\n",
       "    <tr>\n",
       "      <th>115</th>\n",
       "      <td>2020-05-24</td>\n",
       "      <td>115874.530120</td>\n",
       "      <td>109736.055182</td>\n",
       "      <td>122710.522248</td>\n",
       "      <td>109637.969047</td>\n",
       "      <td>122682.854174</td>\n",
       "      <td>-81.138355</td>\n",
       "      <td>-81.138355</td>\n",
       "      <td>-81.138355</td>\n",
       "      <td>-81.138355</td>\n",
       "      <td>-81.138355</td>\n",
       "      <td>-81.138355</td>\n",
       "      <td>0.0</td>\n",
       "      <td>0.0</td>\n",
       "      <td>0.0</td>\n",
       "      <td>115793.391765</td>\n",
       "    </tr>\n",
       "    <tr>\n",
       "      <th>116</th>\n",
       "      <td>2020-05-25</td>\n",
       "      <td>119372.656877</td>\n",
       "      <td>112025.869782</td>\n",
       "      <td>127506.038046</td>\n",
       "      <td>112170.220849</td>\n",
       "      <td>127272.665280</td>\n",
       "      <td>-12.854920</td>\n",
       "      <td>-12.854920</td>\n",
       "      <td>-12.854920</td>\n",
       "      <td>-12.854920</td>\n",
       "      <td>-12.854920</td>\n",
       "      <td>-12.854920</td>\n",
       "      <td>0.0</td>\n",
       "      <td>0.0</td>\n",
       "      <td>0.0</td>\n",
       "      <td>119359.801957</td>\n",
       "    </tr>\n",
       "    <tr>\n",
       "      <th>117</th>\n",
       "      <td>2020-05-26</td>\n",
       "      <td>122870.783633</td>\n",
       "      <td>114733.049704</td>\n",
       "      <td>131759.683350</td>\n",
       "      <td>115039.829338</td>\n",
       "      <td>131600.586329</td>\n",
       "      <td>-18.500760</td>\n",
       "      <td>-18.500760</td>\n",
       "      <td>-18.500760</td>\n",
       "      <td>-18.500760</td>\n",
       "      <td>-18.500760</td>\n",
       "      <td>-18.500760</td>\n",
       "      <td>0.0</td>\n",
       "      <td>0.0</td>\n",
       "      <td>0.0</td>\n",
       "      <td>122852.282873</td>\n",
       "    </tr>\n",
       "    <tr>\n",
       "      <th>118</th>\n",
       "      <td>2020-05-27</td>\n",
       "      <td>126368.910389</td>\n",
       "      <td>118044.186105</td>\n",
       "      <td>136286.299505</td>\n",
       "      <td>117750.576201</td>\n",
       "      <td>136400.644609</td>\n",
       "      <td>22.783379</td>\n",
       "      <td>22.783379</td>\n",
       "      <td>22.783379</td>\n",
       "      <td>22.783379</td>\n",
       "      <td>22.783379</td>\n",
       "      <td>22.783379</td>\n",
       "      <td>0.0</td>\n",
       "      <td>0.0</td>\n",
       "      <td>0.0</td>\n",
       "      <td>126391.693769</td>\n",
       "    </tr>\n",
       "    <tr>\n",
       "      <th>119</th>\n",
       "      <td>2020-05-28</td>\n",
       "      <td>129867.037146</td>\n",
       "      <td>120379.121992</td>\n",
       "      <td>141071.793885</td>\n",
       "      <td>120461.328691</td>\n",
       "      <td>141185.630343</td>\n",
       "      <td>110.797114</td>\n",
       "      <td>110.797114</td>\n",
       "      <td>110.797114</td>\n",
       "      <td>110.797114</td>\n",
       "      <td>110.797114</td>\n",
       "      <td>110.797114</td>\n",
       "      <td>0.0</td>\n",
       "      <td>0.0</td>\n",
       "      <td>0.0</td>\n",
       "      <td>129977.834260</td>\n",
       "    </tr>\n",
       "  </tbody>\n",
       "</table>\n",
       "</div>"
      ],
      "text/plain": [
       "            ds          trend     yhat_lower     yhat_upper    trend_lower  \\\n",
       "100 2020-05-09   63402.628774   62211.971996   64604.173009   63402.628774   \n",
       "101 2020-05-10   66900.755531   65554.045553   68021.545441   66900.755531   \n",
       "102 2020-05-11   70398.882287   69140.553321   71644.788615   70398.882287   \n",
       "103 2020-05-12   73897.009044   72436.677633   75296.318109   73897.009044   \n",
       "104 2020-05-13   77395.135800   76015.949324   78805.121667   77395.135800   \n",
       "105 2020-05-14   80893.262556   79586.958027   82331.536253   80739.877615   \n",
       "106 2020-05-15   84391.389313   82814.949268   85906.917504   83978.762322   \n",
       "107 2020-05-16   87889.516069   86182.209699   89509.387654   87040.452441   \n",
       "108 2020-05-17   91387.642826   89428.482937   93143.384613   90196.430950   \n",
       "109 2020-05-18   94885.769582   92824.082265   97366.856059   93241.288266   \n",
       "110 2020-05-19   98383.896338   95868.903030  100916.648140   96130.933422   \n",
       "111 2020-05-20  101882.023095   98879.376438  105143.323550   99093.454387   \n",
       "112 2020-05-21  105380.149851  101964.503191  109661.110162  101792.399604   \n",
       "113 2020-05-22  108878.276607  104460.980469  113789.119677  104483.032510   \n",
       "114 2020-05-23  112376.403364  106962.402202  118161.465992  107121.781147   \n",
       "115 2020-05-24  115874.530120  109736.055182  122710.522248  109637.969047   \n",
       "116 2020-05-25  119372.656877  112025.869782  127506.038046  112170.220849   \n",
       "117 2020-05-26  122870.783633  114733.049704  131759.683350  115039.829338   \n",
       "118 2020-05-27  126368.910389  118044.186105  136286.299505  117750.576201   \n",
       "119 2020-05-28  129867.037146  120379.121992  141071.793885  120461.328691   \n",
       "\n",
       "       trend_upper  additive_terms  additive_terms_lower  \\\n",
       "100   63402.628774      -41.777909            -41.777909   \n",
       "101   66900.755531      -81.138355            -81.138355   \n",
       "102   70398.882287      -12.854920            -12.854920   \n",
       "103   73897.009044      -18.500760            -18.500760   \n",
       "104   77395.135800       22.783379             22.783379   \n",
       "105   80954.265977      110.797114            110.797114   \n",
       "106   84688.261670       20.691451             20.691451   \n",
       "107   88704.455937      -41.777909            -41.777909   \n",
       "108   92893.032270      -81.138355            -81.138355   \n",
       "109   97007.534663      -12.854920            -12.854920   \n",
       "110  101130.049849      -18.500760            -18.500760   \n",
       "111  105386.960432       22.783379             22.783379   \n",
       "112  109510.722360      110.797114            110.797114   \n",
       "113  113695.314068       20.691451             20.691451   \n",
       "114  118211.417141      -41.777909            -41.777909   \n",
       "115  122682.854174      -81.138355            -81.138355   \n",
       "116  127272.665280      -12.854920            -12.854920   \n",
       "117  131600.586329      -18.500760            -18.500760   \n",
       "118  136400.644609       22.783379             22.783379   \n",
       "119  141185.630343      110.797114            110.797114   \n",
       "\n",
       "     additive_terms_upper      weekly  weekly_lower  weekly_upper  \\\n",
       "100            -41.777909  -41.777909    -41.777909    -41.777909   \n",
       "101            -81.138355  -81.138355    -81.138355    -81.138355   \n",
       "102            -12.854920  -12.854920    -12.854920    -12.854920   \n",
       "103            -18.500760  -18.500760    -18.500760    -18.500760   \n",
       "104             22.783379   22.783379     22.783379     22.783379   \n",
       "105            110.797114  110.797114    110.797114    110.797114   \n",
       "106             20.691451   20.691451     20.691451     20.691451   \n",
       "107            -41.777909  -41.777909    -41.777909    -41.777909   \n",
       "108            -81.138355  -81.138355    -81.138355    -81.138355   \n",
       "109            -12.854920  -12.854920    -12.854920    -12.854920   \n",
       "110            -18.500760  -18.500760    -18.500760    -18.500760   \n",
       "111             22.783379   22.783379     22.783379     22.783379   \n",
       "112            110.797114  110.797114    110.797114    110.797114   \n",
       "113             20.691451   20.691451     20.691451     20.691451   \n",
       "114            -41.777909  -41.777909    -41.777909    -41.777909   \n",
       "115            -81.138355  -81.138355    -81.138355    -81.138355   \n",
       "116            -12.854920  -12.854920    -12.854920    -12.854920   \n",
       "117            -18.500760  -18.500760    -18.500760    -18.500760   \n",
       "118             22.783379   22.783379     22.783379     22.783379   \n",
       "119            110.797114  110.797114    110.797114    110.797114   \n",
       "\n",
       "     multiplicative_terms  multiplicative_terms_lower  \\\n",
       "100                   0.0                         0.0   \n",
       "101                   0.0                         0.0   \n",
       "102                   0.0                         0.0   \n",
       "103                   0.0                         0.0   \n",
       "104                   0.0                         0.0   \n",
       "105                   0.0                         0.0   \n",
       "106                   0.0                         0.0   \n",
       "107                   0.0                         0.0   \n",
       "108                   0.0                         0.0   \n",
       "109                   0.0                         0.0   \n",
       "110                   0.0                         0.0   \n",
       "111                   0.0                         0.0   \n",
       "112                   0.0                         0.0   \n",
       "113                   0.0                         0.0   \n",
       "114                   0.0                         0.0   \n",
       "115                   0.0                         0.0   \n",
       "116                   0.0                         0.0   \n",
       "117                   0.0                         0.0   \n",
       "118                   0.0                         0.0   \n",
       "119                   0.0                         0.0   \n",
       "\n",
       "     multiplicative_terms_upper           yhat  \n",
       "100                         0.0   63360.850865  \n",
       "101                         0.0   66819.617176  \n",
       "102                         0.0   70386.027367  \n",
       "103                         0.0   73878.508284  \n",
       "104                         0.0   77417.919179  \n",
       "105                         0.0   81004.059670  \n",
       "106                         0.0   84412.080764  \n",
       "107                         0.0   87847.738160  \n",
       "108                         0.0   91306.504470  \n",
       "109                         0.0   94872.914662  \n",
       "110                         0.0   98365.395579  \n",
       "111                         0.0  101904.806474  \n",
       "112                         0.0  105490.946965  \n",
       "113                         0.0  108898.968058  \n",
       "114                         0.0  112334.625455  \n",
       "115                         0.0  115793.391765  \n",
       "116                         0.0  119359.801957  \n",
       "117                         0.0  122852.282873  \n",
       "118                         0.0  126391.693769  \n",
       "119                         0.0  129977.834260  "
      ]
     },
     "execution_count": 56,
     "metadata": {},
     "output_type": "execute_result"
    }
   ],
   "source": [
    "forecast.tail(20)"
   ]
  },
  {
   "cell_type": "markdown",
   "metadata": {},
   "source": [
    "**Prediction considering till when entire population of India will be impacted**<br>\n",
    "If we consider logistic growth, between mid July to November the daily number of confirmed cases will be rising and by mid November we will be at the peak with daily increase being constant thereafter."
   ]
  },
  {
   "cell_type": "code",
   "execution_count": 57,
   "metadata": {},
   "outputs": [
    {
     "name": "stderr",
     "output_type": "stream",
     "text": [
      "INFO:fbprophet:Disabling yearly seasonality. Run prophet with yearly_seasonality=True to override this.\n",
      "INFO:fbprophet:Disabling daily seasonality. Run prophet with daily_seasonality=True to override this.\n"
     ]
    },
    {
     "data": {
      "image/png": "[encoded data removed]",
      "text/plain": [
       "<Figure size 720x720 with 1 Axes>"
      ]
     },
     "metadata": {
      "needs_background": "light"
     },
     "output_type": "display_data"
    }
   ],
   "source": [
    "from fbprophet import Prophet\n",
    "model_india = Prophet(growth=\"logistic\",changepoint_prior_scale=0.4,changepoints=['2020-04-03','2020-04-30','2020-05-05','2020-05-06'])\n",
    "pop = 1380004385 #from worldometers\n",
    "train['cap'] = pop\n",
    "model_india.fit(train)\n",
    "# Future Prediction\n",
    "future_dates = model_india.make_future_dataframe(periods=250)\n",
    "future_dates['cap'] = pop\n",
    "forecast =  model_india.predict(future_dates)\n",
    "# Plotting\n",
    "ax = forecast.plot(x='ds',y='yhat',label='Predicted Confirmed Cases',legend=True,figsize=(10,10))\n",
    "test.plot(y='y',label='Actual Confirmed Counts',legend=True,ax=ax)\n",
    "ax.set(xlabel=\"Date\", ylabel=\"Confirmed Cases\");"
   ]
  }
 ],
 "metadata": {
  "kernelspec": {
   "display_name": "Python",
   "language": "python",
   "name": "conda-env-python-py"
  },
  "language_info": {
   "codemirror_mode": {
    "name": "ipython",
    "version": 3
   },
   "file_extension": ".py",
   "mimetype": "text/x-python",
   "name": "python",
   "nbconvert_exporter": "python",
   "pygments_lexer": "ipython3",
   "version": "3.6.10"
  }
 },
 "nbformat": 4,
 "nbformat_minor": 4
}
